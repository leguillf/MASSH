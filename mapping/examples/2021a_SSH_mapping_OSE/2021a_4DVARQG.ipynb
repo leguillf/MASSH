{
 "cells": [
  {
   "attachments": {},
   "cell_type": "markdown",
   "metadata": {},
   "source": [
    "# 2021a_4DVARQG\n",
    "This notebook, associated to the configuration file *config_2021a_4DVARQG.py* runs a BFN-QG experiment to map SSH from real nadir data"
   ]
  },
  {
   "cell_type": "markdown",
   "metadata": {},
   "source": [
    "## Configuration file"
   ]
  },
  {
   "cell_type": "code",
   "execution_count": 1,
   "metadata": {
    "execution": {
     "iopub.execute_input": "2023-02-21T10:54:20.983277Z",
     "iopub.status.busy": "2023-02-21T10:54:20.982973Z",
     "iopub.status.idle": "2023-02-21T10:54:20.993376Z",
     "shell.execute_reply": "2023-02-21T10:54:20.992576Z"
    }
   },
   "outputs": [],
   "source": [
    "path_config = 'config_2021a_4DVARQG.py'"
   ]
  },
  {
   "cell_type": "code",
   "execution_count": 2,
   "metadata": {
    "execution": {
     "iopub.execute_input": "2023-02-21T10:54:20.996706Z",
     "iopub.status.busy": "2023-02-21T10:54:20.996425Z",
     "iopub.status.idle": "2023-02-21T10:54:21.000080Z",
     "shell.execute_reply": "2023-02-21T10:54:20.999400Z"
    }
   },
   "outputs": [],
   "source": [
    "import sys\n",
    "sys.path.append('../..')"
   ]
  },
  {
   "cell_type": "code",
   "execution_count": 3,
   "metadata": {
    "execution": {
     "iopub.execute_input": "2023-02-21T10:54:21.003429Z",
     "iopub.status.busy": "2023-02-21T10:54:21.003200Z",
     "iopub.status.idle": "2023-02-21T10:54:21.017722Z",
     "shell.execute_reply": "2023-02-21T10:54:21.017031Z"
    }
   },
   "outputs": [
    {
     "name": "stdout",
     "output_type": "stream",
     "text": [
      "name_experiment: 2021a_4DVARQG\n",
      "saveoutputs: True\n",
      "name_exp_save: 2021a_4DVARQG\n",
      "path_save: outputs/2021a_4DVARQG\n",
      "tmp_DA_path: scratch/2021a_4DVARQG\n",
      "init_date: 2017-10-01 00:00:00\n",
      "final_date: 2017-12-15 00:00:00\n",
      "assimilation_time_step: 6:00:00\n",
      "saveoutput_time_step: 6:00:00\n",
      "flag_plot: 0\n",
      "name_lon: lon\n",
      "name_lat: lat\n",
      "name_time: time\n",
      "plot_time_step: 1 day, 0:00:00\n",
      "time_obs_min: None\n",
      "time_obs_max: None\n",
      "write_obs: False\n",
      "compute_obs: False\n",
      "path_obs: None\n",
      "\n",
      "NAME_DIAG is not set in the configuration file\n"
     ]
    }
   ],
   "source": [
    "\n",
    "from src import exp\n",
    "config = exp.Exp(path_config)"
   ]
  },
  {
   "cell_type": "markdown",
   "metadata": {},
   "source": [
    "## State"
   ]
  },
  {
   "cell_type": "code",
   "execution_count": 4,
   "metadata": {
    "execution": {
     "iopub.execute_input": "2023-02-21T10:54:21.053333Z",
     "iopub.status.busy": "2023-02-21T10:54:21.053094Z",
     "iopub.status.idle": "2023-02-21T10:54:23.202420Z",
     "shell.execute_reply": "2023-02-21T10:54:23.201437Z"
    }
   },
   "outputs": [
    {
     "name": "stdout",
     "output_type": "stream",
     "text": [
      "super: GRID_CAR\n",
      "lon_min: 295.25\n",
      "lon_max: 304.75\n",
      "lat_min: 33.25\n",
      "lat_max: 42.75\n",
      "dx: 10.0\n",
      "name_init_mask: None\n",
      "name_var_mask: {'lon': '', 'lat': '', 'var': ''}\n",
      "\n"
     ]
    }
   ],
   "source": [
    "from src import state as state\n",
    "State = state.State(config)"
   ]
  },
  {
   "cell_type": "markdown",
   "metadata": {},
   "source": [
    "## Model"
   ]
  },
  {
   "cell_type": "code",
   "execution_count": 5,
   "metadata": {
    "execution": {
     "iopub.execute_input": "2023-02-21T10:54:23.205950Z",
     "iopub.status.busy": "2023-02-21T10:54:23.205710Z",
     "iopub.status.idle": "2023-02-21T10:54:24.965613Z",
     "shell.execute_reply": "2023-02-21T10:54:24.964719Z"
    }
   },
   "outputs": [
    {
     "name": "stdout",
     "output_type": "stream",
     "text": [
      "super: MOD_QG1L_JAX\n",
      "name_var: {'SSH': 'ssh'}\n",
      "init_from_bc: True\n",
      "name_init_var: {}\n",
      "dir_model: None\n",
      "var_to_save: None\n",
      "multiscale: False\n",
      "advect_tracer: False\n",
      "dtmodel: 1200\n",
      "time_scheme: rk2\n",
      "upwind: 3\n",
      "upwind_adj: None\n",
      "Reynolds: False\n",
      "c0: 2.7\n",
      "filec_aux: None\n",
      "name_var_c: {'lon': '', 'lat': '', 'var': ''}\n",
      "cmin: None\n",
      "cmax: None\n",
      "only_diffusion: False\n",
      "path_mdt: None\n",
      "name_var_mdt: {'lon': '', 'lat': '', 'mdt': '', 'mdu': '', 'mdv': ''}\n",
      "g: 9.81\n",
      "\n"
     ]
    }
   ],
   "source": [
    "from src import mod as mod\n",
    "Model = mod.Model(config,State)"
   ]
  },
  {
   "cell_type": "code",
   "execution_count": 6,
   "metadata": {
    "execution": {
     "iopub.execute_input": "2023-02-21T10:54:24.969680Z",
     "iopub.status.busy": "2023-02-21T10:54:24.969252Z",
     "iopub.status.idle": "2023-02-21T10:54:25.654732Z",
     "shell.execute_reply": "2023-02-21T10:54:25.653810Z"
    }
   },
   "outputs": [
    {
     "ename": "ModuleNotFoundError",
     "evalue": "No module named 'pyinterp'",
     "output_type": "error",
     "traceback": [
      "\u001b[0;31m---------------------------------------------------------------------------\u001b[0m",
      "\u001b[0;31mModuleNotFoundError\u001b[0m                       Traceback (most recent call last)",
      "Input \u001b[0;32mIn [6]\u001b[0m, in \u001b[0;36m<cell line: 1>\u001b[0;34m()\u001b[0m\n\u001b[0;32m----> 1\u001b[0m \u001b[38;5;28;01mfrom\u001b[39;00m \u001b[38;5;21;01msrc\u001b[39;00m \u001b[38;5;28;01mimport\u001b[39;00m bc \u001b[38;5;28;01mas\u001b[39;00m bc\n\u001b[1;32m      2\u001b[0m Bc \u001b[38;5;241m=\u001b[39m bc\u001b[38;5;241m.\u001b[39mBc(config)\n",
      "File \u001b[0;32m~/Dev/MASSH/mapping/examples/2021a_SSH_mapping_OSE/../../src/bc.py:11\u001b[0m, in \u001b[0;36m<module>\u001b[0;34m\u001b[0m\n\u001b[1;32m      9\u001b[0m \u001b[38;5;28;01mimport\u001b[39;00m \u001b[38;5;21;01mxarray\u001b[39;00m \u001b[38;5;28;01mas\u001b[39;00m \u001b[38;5;21;01mxr\u001b[39;00m \n\u001b[1;32m     10\u001b[0m \u001b[38;5;28;01mimport\u001b[39;00m \u001b[38;5;21;01mnumpy\u001b[39;00m \u001b[38;5;28;01mas\u001b[39;00m \u001b[38;5;21;01mnp\u001b[39;00m \n\u001b[0;32m---> 11\u001b[0m \u001b[38;5;28;01mimport\u001b[39;00m \u001b[38;5;21;01mpyinterp\u001b[39;00m \n\u001b[1;32m     12\u001b[0m \u001b[38;5;28;01mimport\u001b[39;00m \u001b[38;5;21;01mpyinterp\u001b[39;00m\u001b[38;5;21;01m.\u001b[39;00m\u001b[38;5;21;01mfill\u001b[39;00m\n\u001b[1;32m     13\u001b[0m \u001b[38;5;28;01mfrom\u001b[39;00m \u001b[38;5;21;01mscipy\u001b[39;00m \u001b[38;5;28;01mimport\u001b[39;00m spatial\n",
      "\u001b[0;31mModuleNotFoundError\u001b[0m: No module named 'pyinterp'"
     ]
    }
   ],
   "source": [
    "from src import bc as bc\n",
    "Bc = bc.Bc(config)"
   ]
  },
  {
   "cell_type": "markdown",
   "metadata": {},
   "source": [
    "## Observations"
   ]
  },
  {
   "cell_type": "code",
   "execution_count": 7,
   "metadata": {
    "execution": {
     "iopub.execute_input": "2023-02-21T10:54:25.658562Z",
     "iopub.status.busy": "2023-02-21T10:54:25.658327Z",
     "iopub.status.idle": "2023-02-21T10:56:15.018756Z",
     "shell.execute_reply": "2023-02-21T10:56:15.017959Z"
    }
   },
   "outputs": [
    {
     "name": "stdout",
     "output_type": "stream",
     "text": [
      "Observation information will be saved in dict_obs_ALG_H2G_J2G_J2N_J3_S3A_20171001_20171215_295_304_33_42.txt\n",
      "\n",
      "ALG:\n",
      "super: OBS_SSH_NADIR\n",
      "path: data/dt_gulfstream_alg_phy_l3_20161201-20180131_285-315_23-53.nc\n",
      "name_time: time\n",
      "name_lon: longitude\n",
      "name_lat: latitude\n",
      "name_var: {'SSH': 'sla_filtered'}\n",
      "varmax: 100.0\n",
      "sigma_noise: None\n",
      "add_mdt: True\n",
      "substract_mdt: None\n",
      "path_mdt: ../../aux/aux_mdt_cnes_cls18_global.nc\n",
      "name_var_mdt: {'lon': 'longitude', 'lat': 'latitude', 'mdt': 'mdt'}\n",
      "nudging_params_ssh: None\n",
      "detrend: False\n",
      "\n",
      "--> 79 tracks selected\n",
      "\n",
      "H2G:\n",
      "super: OBS_SSH_NADIR\n",
      "path: data/dt_gulfstream_h2g_phy_l3_20161201-20180131_285-315_23-53.nc\n",
      "name_time: time\n",
      "name_lon: longitude\n",
      "name_lat: latitude\n",
      "name_var: {'SSH': 'sla_filtered'}\n",
      "varmax: 100.0\n",
      "sigma_noise: None\n",
      "add_mdt: True\n",
      "substract_mdt: None\n",
      "path_mdt: ../../aux/aux_mdt_cnes_cls18_global.nc\n",
      "name_var_mdt: {'lon': 'longitude', 'lat': 'latitude', 'mdt': 'mdt'}\n",
      "nudging_params_ssh: None\n",
      "detrend: False\n",
      "\n",
      "--> 73 tracks selected\n",
      "\n",
      "J2G:\n",
      "super: OBS_SSH_NADIR\n",
      "path: data/dt_gulfstream_j2g_phy_l3_20161201-20180131_285-315_23-53.nc\n",
      "name_time: time\n",
      "name_lon: longitude\n",
      "name_lat: latitude\n",
      "name_var: {'SSH': 'sla_filtered'}\n",
      "varmax: 100.0\n",
      "sigma_noise: None\n",
      "add_mdt: True\n",
      "substract_mdt: None\n",
      "path_mdt: ../../aux/aux_mdt_cnes_cls18_global.nc\n",
      "name_var_mdt: {'lon': 'longitude', 'lat': 'latitude', 'mdt': 'mdt'}\n",
      "nudging_params_ssh: None\n",
      "detrend: False\n",
      "\n",
      "--> 0 tracks selected\n",
      "\n",
      "J2N:\n",
      "super: OBS_SSH_NADIR\n",
      "path: data/dt_gulfstream_j2n_phy_l3_20161201-20180131_285-315_23-53.nc\n",
      "name_time: time\n",
      "name_lon: longitude\n",
      "name_lat: latitude\n",
      "name_var: {'SSH': 'sla_filtered'}\n",
      "varmax: 100.0\n",
      "sigma_noise: None\n",
      "add_mdt: True\n",
      "substract_mdt: None\n",
      "path_mdt: ../../aux/aux_mdt_cnes_cls18_global.nc\n",
      "name_var_mdt: {'lon': 'longitude', 'lat': 'latitude', 'mdt': 'mdt'}\n",
      "nudging_params_ssh: None\n",
      "detrend: False\n",
      "\n",
      "--> 0 tracks selected\n",
      "\n",
      "J3:\n",
      "super: OBS_SSH_NADIR\n",
      "path: data/dt_gulfstream_j3_phy_l3_20161201-20180131_285-315_23-53.nc\n",
      "name_time: time\n",
      "name_lon: longitude\n",
      "name_lat: latitude\n",
      "name_var: {'SSH': 'sla_filtered'}\n",
      "varmax: 100.0\n",
      "sigma_noise: None\n",
      "add_mdt: True\n",
      "substract_mdt: None\n",
      "path_mdt: ../../aux/aux_mdt_cnes_cls18_global.nc\n",
      "name_var_mdt: {'lon': 'longitude', 'lat': 'latitude', 'mdt': 'mdt'}\n",
      "nudging_params_ssh: None\n",
      "detrend: False\n",
      "\n",
      "--> 92 tracks selected\n",
      "\n",
      "S3A:\n",
      "super: OBS_SSH_NADIR\n",
      "path: data/dt_gulfstream_s3a_phy_l3_20161201-20180131_285-315_23-53.nc\n",
      "name_time: time\n",
      "name_lon: longitude\n",
      "name_lat: latitude\n",
      "name_var: {'SSH': 'sla_filtered'}\n",
      "varmax: 100.0\n",
      "sigma_noise: None\n",
      "add_mdt: True\n",
      "substract_mdt: None\n",
      "path_mdt: ../../aux/aux_mdt_cnes_cls18_global.nc\n",
      "name_var_mdt: {'lon': 'longitude', 'lat': 'latitude', 'mdt': 'mdt'}\n",
      "nudging_params_ssh: None\n",
      "detrend: False\n",
      "\n",
      "--> 80 tracks selected\n"
     ]
    }
   ],
   "source": [
    "from src import obs as obs\n",
    "dict_obs = obs.Obs(config,State)"
   ]
  },
  {
   "cell_type": "code",
   "execution_count": 8,
   "metadata": {
    "execution": {
     "iopub.execute_input": "2023-02-21T10:56:15.022869Z",
     "iopub.status.busy": "2023-02-21T10:56:15.022286Z",
     "iopub.status.idle": "2023-02-21T10:56:15.494484Z",
     "shell.execute_reply": "2023-02-21T10:56:15.493666Z"
    }
   },
   "outputs": [
    {
     "name": "stdout",
     "output_type": "stream",
     "text": [
      "super: OBSOP_INTERP\n",
      "path_save: None\n",
      "compute_op: False\n",
      "Npix: 4\n",
      "mask_coast: False\n",
      "dist_coast: 100\n",
      "mask_borders: False\n",
      "\n"
     ]
    }
   ],
   "source": [
    "from src import obsop as obsop\n",
    "Obsop = obsop.Obsop(config,State,dict_obs,Model)"
   ]
  },
  {
   "cell_type": "markdown",
   "metadata": {},
   "source": [
    "## Reduced Basis"
   ]
  },
  {
   "cell_type": "code",
   "execution_count": 9,
   "metadata": {
    "execution": {
     "iopub.execute_input": "2023-02-21T10:56:15.498780Z",
     "iopub.status.busy": "2023-02-21T10:56:15.498251Z",
     "iopub.status.idle": "2023-02-21T10:56:15.523568Z",
     "shell.execute_reply": "2023-02-21T10:56:15.522819Z"
    }
   },
   "outputs": [
    {
     "name": "stdout",
     "output_type": "stream",
     "text": [
      "super: BASIS_BM\n",
      "name_mod_var: ssh\n",
      "wavelet_init: False\n",
      "flux: False\n",
      "save_wave_basis: inline\n",
      "facns: 1.0\n",
      "facnlt: 2.0\n",
      "npsp: 3.5\n",
      "facpsp: 1.5\n",
      "lmin: 80\n",
      "lmax: 970.0\n",
      "lmeso: 300\n",
      "tmeso: 10\n",
      "sloptdec: -0.5\n",
      "factdec: 0.5\n",
      "tdecmin: 0.0\n",
      "tdecmax: 20.0\n",
      "facQ: 1\n",
      "Qmax: 0.01\n",
      "slopQ: -2\n",
      "path_background: None\n",
      "var_background: None\n",
      "\n"
     ]
    }
   ],
   "source": [
    "from src import basis as basis\n",
    "Basis = basis.Basis(config,State)"
   ]
  },
  {
   "cell_type": "markdown",
   "metadata": {},
   "source": [
    "## Assimilation"
   ]
  },
  {
   "cell_type": "code",
   "execution_count": 10,
   "metadata": {
    "execution": {
     "iopub.execute_input": "2023-02-21T10:56:15.527556Z",
     "iopub.status.busy": "2023-02-21T10:56:15.526781Z",
     "iopub.status.idle": "2023-02-21T10:56:15.545378Z",
     "shell.execute_reply": "2023-02-21T10:56:15.544472Z"
    }
   },
   "outputs": [
    {
     "ename": "NameError",
     "evalue": "name 'Bc' is not defined",
     "output_type": "error",
     "traceback": [
      "\u001b[0;31m---------------------------------------------------------------------------\u001b[0m",
      "\u001b[0;31mNameError\u001b[0m                                 Traceback (most recent call last)",
      "Input \u001b[0;32mIn [10]\u001b[0m, in \u001b[0;36m<cell line: 2>\u001b[0;34m()\u001b[0m\n\u001b[1;32m      1\u001b[0m \u001b[38;5;28;01mfrom\u001b[39;00m \u001b[38;5;21;01msrc\u001b[39;00m \u001b[38;5;28;01mimport\u001b[39;00m inv \u001b[38;5;28;01mas\u001b[39;00m inv\n\u001b[0;32m----> 2\u001b[0m inv\u001b[38;5;241m.\u001b[39mInv(config,State,Model,dict_obs\u001b[38;5;241m=\u001b[39mdict_obs,Obsop\u001b[38;5;241m=\u001b[39mObsop,Basis\u001b[38;5;241m=\u001b[39mBasis,Bc\u001b[38;5;241m=\u001b[39m\u001b[43mBc\u001b[49m)\n",
      "\u001b[0;31mNameError\u001b[0m: name 'Bc' is not defined"
     ]
    }
   ],
   "source": [
    "from src import inv as inv\n",
    "inv.Inv(config,State,Model,dict_obs=dict_obs,Obsop=Obsop,Basis=Basis,Bc=Bc)"
   ]
  },
  {
   "cell_type": "markdown",
   "metadata": {},
   "source": [
    "## Diagnostics"
   ]
  },
  {
   "cell_type": "code",
   "execution_count": 11,
   "metadata": {
    "execution": {
     "iopub.execute_input": "2023-02-21T10:56:15.549040Z",
     "iopub.status.busy": "2023-02-21T10:56:15.548827Z",
     "iopub.status.idle": "2023-02-21T10:56:15.839010Z",
     "shell.execute_reply": "2023-02-21T10:56:15.838132Z"
    }
   },
   "outputs": [
    {
     "ename": "ModuleNotFoundError",
     "evalue": "No module named 'pyinterp'",
     "output_type": "error",
     "traceback": [
      "\u001b[0;31m---------------------------------------------------------------------------\u001b[0m",
      "\u001b[0;31mModuleNotFoundError\u001b[0m                       Traceback (most recent call last)",
      "Input \u001b[0;32mIn [11]\u001b[0m, in \u001b[0;36m<cell line: 1>\u001b[0;34m()\u001b[0m\n\u001b[0;32m----> 1\u001b[0m \u001b[38;5;28;01mfrom\u001b[39;00m \u001b[38;5;21;01msrc\u001b[39;00m \u001b[38;5;28;01mimport\u001b[39;00m diag \u001b[38;5;28;01mas\u001b[39;00m diag\n\u001b[1;32m      2\u001b[0m Diag \u001b[38;5;241m=\u001b[39m diag\u001b[38;5;241m.\u001b[39mDiag(config,State)\n",
      "File \u001b[0;32m~/Dev/MASSH/mapping/examples/2021a_SSH_mapping_OSE/../../src/diag.py:4\u001b[0m, in \u001b[0;36m<module>\u001b[0;34m\u001b[0m\n\u001b[1;32m      2\u001b[0m \u001b[38;5;28;01mimport\u001b[39;00m \u001b[38;5;21;01mnumpy\u001b[39;00m \u001b[38;5;28;01mas\u001b[39;00m \u001b[38;5;21;01mnp\u001b[39;00m\n\u001b[1;32m      3\u001b[0m \u001b[38;5;28;01mimport\u001b[39;00m \u001b[38;5;21;01mxarray\u001b[39;00m \u001b[38;5;28;01mas\u001b[39;00m \u001b[38;5;21;01mxr\u001b[39;00m\n\u001b[0;32m----> 4\u001b[0m \u001b[38;5;28;01mimport\u001b[39;00m \u001b[38;5;21;01mpyinterp\u001b[39;00m \n\u001b[1;32m      5\u001b[0m \u001b[38;5;28;01mimport\u001b[39;00m \u001b[38;5;21;01mpyinterp\u001b[39;00m\u001b[38;5;21;01m.\u001b[39;00m\u001b[38;5;21;01mfill\u001b[39;00m\n\u001b[1;32m      6\u001b[0m \u001b[38;5;28;01mimport\u001b[39;00m \u001b[38;5;21;01mlogging\u001b[39;00m\n",
      "\u001b[0;31mModuleNotFoundError\u001b[0m: No module named 'pyinterp'"
     ]
    }
   ],
   "source": [
    "from src import diag as diag\n",
    "Diag = diag.Diag(config,State)"
   ]
  },
  {
   "cell_type": "code",
   "execution_count": null,
   "metadata": {},
   "outputs": [],
   "source": []
  }
 ],
 "metadata": {
  "kernelspec": {
   "display_name": "massh",
   "language": "python",
   "name": "python3"
  },
  "language_info": {
   "codemirror_mode": {
    "name": "ipython",
    "version": 3
   },
   "file_extension": ".py",
   "mimetype": "text/x-python",
   "name": "python",
   "nbconvert_exporter": "python",
   "pygments_lexer": "ipython3",
   "version": "3.9.12"
  },
  "vscode": {
   "interpreter": {
    "hash": "984563e4ffd3f593bcb1e9a3d9bd9585f0a60902c24eb7a5e718c1ebf267e079"
   }
  }
 },
 "nbformat": 4,
 "nbformat_minor": 4
}
