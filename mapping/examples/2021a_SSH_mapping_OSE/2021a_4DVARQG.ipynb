{
 "cells": [
  {
   "attachments": {},
   "cell_type": "markdown",
   "metadata": {},
   "source": [
    "# 2021a_4DVARQG\n",
    "This notebook, associated to the configuration file *config_2021a_4DVARQG.py* runs a 4DVAR-QG experiment to map SSH from real nadir data"
   ]
  },
  {
   "cell_type": "markdown",
   "metadata": {},
   "source": [
    "## Configuration file"
   ]
  },
  {
   "cell_type": "code",
   "execution_count": 1,
   "metadata": {
    "execution": {
     "iopub.execute_input": "2023-02-21T10:56:23.559033Z",
     "iopub.status.busy": "2023-02-21T10:56:23.558702Z",
     "iopub.status.idle": "2023-02-21T10:56:23.567227Z",
     "shell.execute_reply": "2023-02-21T10:56:23.566291Z"
    }
   },
   "outputs": [],
   "source": [
    "path_config = 'config_2021a_4DVARQG.py'"
   ]
  },
  {
   "cell_type": "code",
   "execution_count": 2,
   "metadata": {
    "execution": {
     "iopub.execute_input": "2023-02-21T10:56:23.571208Z",
     "iopub.status.busy": "2023-02-21T10:56:23.570881Z",
     "iopub.status.idle": "2023-02-21T10:56:23.575226Z",
     "shell.execute_reply": "2023-02-21T10:56:23.574289Z"
    }
   },
   "outputs": [],
   "source": [
    "import sys\n",
    "sys.path.append('../..')"
   ]
  },
  {
   "cell_type": "code",
   "execution_count": 3,
   "metadata": {
    "execution": {
     "iopub.execute_input": "2023-02-21T10:56:23.579072Z",
     "iopub.status.busy": "2023-02-21T10:56:23.578745Z",
     "iopub.status.idle": "2023-02-21T10:56:23.593981Z",
     "shell.execute_reply": "2023-02-21T10:56:23.592965Z"
    }
   },
   "outputs": [
    {
     "name": "stdout",
     "output_type": "stream",
     "text": [
      "name_experiment: 2021a_4DVARQG\n",
      "saveoutputs: True\n",
      "name_exp_save: 2021a_4DVARQG\n",
      "path_save: outputs/2021a_4DVARQG\n",
      "tmp_DA_path: scratch/2021a_4DVARQG\n",
      "init_date: 2017-10-01 00:00:00\n",
      "final_date: 2017-12-01 00:00:00\n",
      "assimilation_time_step: 6:00:00\n",
      "saveoutput_time_step: 6:00:00\n",
      "flag_plot: 0\n",
      "name_lon: lon\n",
      "name_lat: lat\n",
      "name_time: time\n",
      "plot_time_step: 1 day, 0:00:00\n",
      "time_obs_min: None\n",
      "time_obs_max: None\n",
      "write_obs: False\n",
      "compute_obs: False\n",
      "path_obs: None\n",
      "\n"
     ]
    }
   ],
   "source": [
    "\n",
    "from src import exp\n",
    "config = exp.Exp(path_config)"
   ]
  },
  {
   "cell_type": "markdown",
   "metadata": {},
   "source": [
    "## State"
   ]
  },
  {
   "cell_type": "code",
   "execution_count": 4,
   "metadata": {
    "execution": {
     "iopub.execute_input": "2023-02-21T10:56:23.631887Z",
     "iopub.status.busy": "2023-02-21T10:56:23.631472Z",
     "iopub.status.idle": "2023-02-21T10:56:24.805815Z",
     "shell.execute_reply": "2023-02-21T10:56:24.804649Z"
    }
   },
   "outputs": [
    {
     "name": "stdout",
     "output_type": "stream",
     "text": [
      "super: GRID_GEO\n",
      "lon_min: 295.25\n",
      "lon_max: 304.75\n",
      "lat_min: 33.25\n",
      "lat_max: 42.75\n",
      "dlon: 0.1\n",
      "dlat: 0.1\n",
      "name_init_mask: None\n",
      "name_var_mask: {'lon': '', 'lat': '', 'var': ''}\n",
      "\n"
     ]
    }
   ],
   "source": [
    "from src import state as state\n",
    "State = state.State(config)"
   ]
  },
  {
   "cell_type": "markdown",
   "metadata": {},
   "source": [
    "## Model"
   ]
  },
  {
   "cell_type": "code",
   "execution_count": 5,
   "metadata": {
    "execution": {
     "iopub.execute_input": "2023-02-21T10:56:24.810370Z",
     "iopub.status.busy": "2023-02-21T10:56:24.809843Z",
     "iopub.status.idle": "2023-02-21T10:56:25.278501Z",
     "shell.execute_reply": "2023-02-21T10:56:25.274931Z"
    }
   },
   "outputs": [
    {
     "name": "stdout",
     "output_type": "stream",
     "text": [
      "super: MOD_QG1L_JAX\n",
      "name_var: {'SSH': 'ssh'}\n",
      "name_init_var: {}\n",
      "dir_model: None\n",
      "var_to_save: None\n",
      "upwind: 3\n",
      "advect_pv: True\n",
      "advect_tracer: False\n",
      "dtmodel: 900\n",
      "time_scheme: rk2\n",
      "c0: 2.7\n",
      "filec_aux: ../../aux/aux_first_baroclinic_speed.nc\n",
      "name_var_c: {'lon': 'lon', 'lat': 'lat', 'var': 'c1'}\n",
      "cmin: None\n",
      "cmax: None\n",
      "init_from_bc: True\n",
      "dist_sponge_bc: None\n",
      "Kdiffus: None\n",
      "Kdiffus_trac: None\n",
      "bc_trac: OBC\n",
      "forcing_tracer_from_bc: False\n",
      "split_in_bins: False\n",
      "lenght_bins: 1000\n",
      "facbin: 1\n",
      "\n"
     ]
    }
   ],
   "source": [
    "from src import mod as mod\n",
    "Model = mod.Model(config,State)"
   ]
  },
  {
   "cell_type": "code",
   "execution_count": 6,
   "metadata": {
    "execution": {
     "iopub.execute_input": "2023-02-21T10:56:25.282947Z",
     "iopub.status.busy": "2023-02-21T10:56:25.282424Z",
     "iopub.status.idle": "2023-02-21T10:56:25.455805Z",
     "shell.execute_reply": "2023-02-21T10:56:25.454689Z"
    }
   },
   "outputs": [
    {
     "name": "stdout",
     "output_type": "stream",
     "text": [
      "super: BC_EXT\n",
      "file: data/OSE_ssh_mapping_DUACS.nc\n",
      "name_lon: lon\n",
      "name_lat: lat\n",
      "name_time: time\n",
      "name_var: {'SSH': 'ssh'}\n",
      "\n"
     ]
    }
   ],
   "source": [
    "from src import bc as bc\n",
    "Bc = bc.Bc(config)"
   ]
  },
  {
   "cell_type": "markdown",
   "metadata": {},
   "source": [
    "## Observations"
   ]
  },
  {
   "cell_type": "code",
   "execution_count": 7,
   "metadata": {
    "execution": {
     "iopub.execute_input": "2023-02-21T10:56:25.460034Z",
     "iopub.status.busy": "2023-02-21T10:56:25.459670Z",
     "iopub.status.idle": "2023-02-21T10:58:19.280312Z",
     "shell.execute_reply": "2023-02-21T10:58:19.279152Z"
    }
   },
   "outputs": [
    {
     "name": "stdout",
     "output_type": "stream",
     "text": [
      "Observation information will be saved in dict_obs_ALG_H2G_J2G_J2N_J3_S3A_20171001_20171201_295_304_33_42_21600.txt\n",
      "\n",
      "ALG:\n",
      "super: OBS_SSH_NADIR\n",
      "path: data/dt_gulfstream_alg_phy_l3_20161201-20180131_285-315_23-53.nc\n",
      "name_time: time\n",
      "name_lon: longitude\n",
      "name_lat: latitude\n",
      "name_var: {'SSH': 'sla_filtered'}\n",
      "synthetic_noise: None\n",
      "varmax: 100.0\n",
      "sigma_noise: None\n",
      "add_mdt: True\n",
      "substract_mdt: None\n",
      "path_mdt: ../../aux/aux_mdt_cnes_cls18_global.nc\n",
      "name_var_mdt: {'lon': 'longitude', 'lat': 'latitude', 'mdt': 'mdt'}\n",
      "path_err: None\n",
      "name_var_err: None\n",
      "nudging_params_ssh: None\n",
      "delta_t: None\n",
      "velocity: None\n",
      "\n",
      "--> 64 tracks selected\n",
      "\n",
      "H2G:\n",
      "super: OBS_SSH_NADIR\n",
      "path: data/dt_gulfstream_h2g_phy_l3_20161201-20180131_285-315_23-53.nc\n",
      "name_time: time\n",
      "name_lon: longitude\n",
      "name_lat: latitude\n",
      "name_var: {'SSH': 'sla_filtered'}\n",
      "synthetic_noise: None\n",
      "varmax: 100.0\n",
      "sigma_noise: None\n",
      "add_mdt: True\n",
      "substract_mdt: None\n",
      "path_mdt: ../../aux/aux_mdt_cnes_cls18_global.nc\n",
      "name_var_mdt: {'lon': 'longitude', 'lat': 'latitude', 'mdt': 'mdt'}\n",
      "path_err: None\n",
      "name_var_err: None\n",
      "nudging_params_ssh: None\n",
      "delta_t: None\n",
      "velocity: None\n",
      "\n",
      "--> 59 tracks selected\n",
      "\n",
      "J2G:\n",
      "super: OBS_SSH_NADIR\n",
      "path: data/dt_gulfstream_j2g_phy_l3_20161201-20180131_285-315_23-53.nc\n",
      "name_time: time\n",
      "name_lon: longitude\n",
      "name_lat: latitude\n",
      "name_var: {'SSH': 'sla_filtered'}\n",
      "synthetic_noise: None\n",
      "varmax: 100.0\n",
      "sigma_noise: None\n",
      "add_mdt: True\n",
      "substract_mdt: None\n",
      "path_mdt: ../../aux/aux_mdt_cnes_cls18_global.nc\n",
      "name_var_mdt: {'lon': 'longitude', 'lat': 'latitude', 'mdt': 'mdt'}\n",
      "path_err: None\n",
      "name_var_err: None\n",
      "nudging_params_ssh: None\n",
      "delta_t: None\n",
      "velocity: None\n",
      "\n",
      "--> 0 tracks selected\n",
      "\n",
      "J2N:\n",
      "super: OBS_SSH_NADIR\n",
      "path: data/dt_gulfstream_j2n_phy_l3_20161201-20180131_285-315_23-53.nc\n",
      "name_time: time\n",
      "name_lon: longitude\n",
      "name_lat: latitude\n",
      "name_var: {'SSH': 'sla_filtered'}\n",
      "synthetic_noise: None\n",
      "varmax: 100.0\n",
      "sigma_noise: None\n",
      "add_mdt: True\n",
      "substract_mdt: None\n",
      "path_mdt: ../../aux/aux_mdt_cnes_cls18_global.nc\n",
      "name_var_mdt: {'lon': 'longitude', 'lat': 'latitude', 'mdt': 'mdt'}\n",
      "path_err: None\n",
      "name_var_err: None\n",
      "nudging_params_ssh: None\n",
      "delta_t: None\n",
      "velocity: None\n",
      "\n",
      "--> 0 tracks selected\n",
      "\n",
      "J3:\n",
      "super: OBS_SSH_NADIR\n",
      "path: data/dt_gulfstream_j3_phy_l3_20161201-20180131_285-315_23-53.nc\n",
      "name_time: time\n",
      "name_lon: longitude\n",
      "name_lat: latitude\n",
      "name_var: {'SSH': 'sla_filtered'}\n",
      "synthetic_noise: None\n",
      "varmax: 100.0\n",
      "sigma_noise: None\n",
      "add_mdt: True\n",
      "substract_mdt: None\n",
      "path_mdt: ../../aux/aux_mdt_cnes_cls18_global.nc\n",
      "name_var_mdt: {'lon': 'longitude', 'lat': 'latitude', 'mdt': 'mdt'}\n",
      "path_err: None\n",
      "name_var_err: None\n",
      "nudging_params_ssh: None\n",
      "delta_t: None\n",
      "velocity: None\n",
      "\n"
     ]
    }
   ],
   "source": [
    "from src import obs as obs\n",
    "dict_obs = obs.Obs(config,State)"
   ]
  },
  {
   "cell_type": "code",
   "execution_count": null,
   "metadata": {
    "execution": {
     "iopub.execute_input": "2023-02-21T10:58:19.284684Z",
     "iopub.status.busy": "2023-02-21T10:58:19.284298Z",
     "iopub.status.idle": "2023-02-21T10:58:19.754491Z",
     "shell.execute_reply": "2023-02-21T10:58:19.753224Z"
    }
   },
   "outputs": [],
   "source": [
    "from src import obsop as obsop\n",
    "Obsop = obsop.Obsop(config,State,dict_obs,Model)"
   ]
  },
  {
   "cell_type": "markdown",
   "metadata": {},
   "source": [
    "## Reduced Basis"
   ]
  },
  {
   "cell_type": "code",
   "execution_count": null,
   "metadata": {
    "execution": {
     "iopub.execute_input": "2023-02-21T10:58:19.758947Z",
     "iopub.status.busy": "2023-02-21T10:58:19.758581Z",
     "iopub.status.idle": "2023-02-21T10:58:19.766411Z",
     "shell.execute_reply": "2023-02-21T10:58:19.765439Z"
    }
   },
   "outputs": [],
   "source": [
    "from src import basis as basis\n",
    "Basis = basis.Basis(config,State)"
   ]
  },
  {
   "cell_type": "markdown",
   "metadata": {},
   "source": [
    "## Assimilation"
   ]
  },
  {
   "cell_type": "code",
   "execution_count": null,
   "metadata": {
    "execution": {
     "iopub.execute_input": "2023-02-21T10:58:19.770343Z",
     "iopub.status.busy": "2023-02-21T10:58:19.770003Z",
     "iopub.status.idle": "2023-02-21T20:09:26.582576Z",
     "shell.execute_reply": "2023-02-21T20:09:26.581410Z"
    }
   },
   "outputs": [],
   "source": [
    "from src import inv as inv\n",
    "inv.Inv(config,State,Model,dict_obs=dict_obs,Obsop=Obsop,Basis=Basis,Bc=Bc)"
   ]
  },
  {
   "cell_type": "markdown",
   "metadata": {},
   "source": [
    "## Diagnostics"
   ]
  },
  {
   "cell_type": "code",
   "execution_count": null,
   "metadata": {
    "execution": {
     "iopub.execute_input": "2023-02-21T20:09:26.587195Z",
     "iopub.status.busy": "2023-02-21T20:09:26.586843Z",
     "iopub.status.idle": "2023-02-21T20:09:26.594185Z",
     "shell.execute_reply": "2023-02-21T20:09:26.593220Z"
    }
   },
   "outputs": [],
   "source": [
    "from src import diag as diag\n",
    "Diag = diag.Diag(config,State)"
   ]
  },
  {
   "cell_type": "code",
   "execution_count": 12,
   "metadata": {},
   "outputs": [],
   "source": [
    "Diag.regrid_exp()"
   ]
  },
  {
   "cell_type": "code",
   "execution_count": null,
   "metadata": {},
   "outputs": [],
   "source": [
    "Diag.rmse_based_scores(plot=True)"
   ]
  },
  {
   "cell_type": "code",
   "execution_count": null,
   "metadata": {},
   "outputs": [],
   "source": [
    "Diag.psd_based_scores(plot=True)"
   ]
  },
  {
   "cell_type": "code",
   "execution_count": null,
   "metadata": {},
   "outputs": [],
   "source": [
    "Diag.movie()"
   ]
  },
  {
   "cell_type": "code",
   "execution_count": null,
   "metadata": {},
   "outputs": [],
   "source": [
    "Diag.Leaderboard()"
   ]
  },
  {
   "cell_type": "code",
   "execution_count": null,
   "metadata": {},
   "outputs": [],
   "source": []
  }
 ],
 "metadata": {
  "kernelspec": {
   "display_name": "massh",
   "language": "python",
   "name": "python3"
  },
  "language_info": {
   "codemirror_mode": {
    "name": "ipython",
    "version": 3
   },
   "file_extension": ".py",
   "mimetype": "text/x-python",
   "name": "python",
   "nbconvert_exporter": "python",
   "pygments_lexer": "ipython3",
   "version": "3.9.18"
  },
  "vscode": {
   "interpreter": {
    "hash": "984563e4ffd3f593bcb1e9a3d9bd9585f0a60902c24eb7a5e718c1ebf267e079"
   }
  }
 },
 "nbformat": 4,
 "nbformat_minor": 4
}
