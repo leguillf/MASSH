{
 "cells": [
  {
   "attachments": {},
   "cell_type": "markdown",
   "metadata": {},
   "source": [
    "# Data Challenge 2020a : Data Access"
   ]
  },
  {
   "attachments": {},
   "cell_type": "markdown",
   "metadata": {},
   "source": [
    "This notebook aims at documenting how to access the input datasets for one \"ocean data challenge\".\n",
    "Two *tar.gz* archives with Sea Surface Height (SSH) datasets are available on the MEOM opendap server.\n",
    "The **dc_ref** dataset refers to the reference simulation, a.k.a NATL60-CMJ165 nature run carried out by the MEOM Team. The **dc_obs** corresponds to the observations datasets (for various altimeter missions) based on nadir (TOPEX/Poseidon, Jason1, Envisat, Geosat-2) and large swath (SWOT) orbits constructed with the [SWOTsimulator](https://github.com/SWOTsimulator/swotsimulator) package."
   ]
  },
  {
   "cell_type": "code",
   "execution_count": null,
   "metadata": {},
   "outputs": [],
   "source": [
    "# Create data directory \n",
    "!mkdir data"
   ]
  },
  {
   "cell_type": "code",
   "execution_count": null,
   "metadata": {},
   "outputs": [],
   "source": [
    "# Get pseuso-observation\n",
    "!wget https://ige-meom-opendap.univ-grenoble-alpes.fr/thredds/fileServer/meomopendap/extract/ocean-data-challenges/dc_data1/dc_obs.tar.gz\n",
    "# Untar \n",
    "!tar -xvf dc_obs.tar.gz --directory data/\n",
    "# Delete archive\n",
    "!rm -f dc_obs.tar.gz"
   ]
  },
  {
   "cell_type": "code",
   "execution_count": null,
   "metadata": {},
   "outputs": [],
   "source": [
    "# Get nature run (it may take several minutes depending on your connection)\n",
    "!wget https://ige-meom-opendap.univ-grenoble-alpes.fr/thredds/fileServer/meomopendap/extract/ocean-data-challenges/dc_data1/dc_ref.tar.gz\n",
    "# Untar \n",
    "!tar -xvf dc_ref.tar.gz --directory data/\n",
    "# Delete archive\n",
    "!rm -f dc_ref.tar.gz"
   ]
  },
  {
   "cell_type": "code",
   "execution_count": null,
   "metadata": {},
   "outputs": [],
   "source": [
    "# Get DUACS SSH maps for diagnostics\n",
    "!wget https://ige-meom-opendap.univ-grenoble-alpes.fr/thredds/fileServer/meomopendap/extract/ocean-data-challenges/dc_data1/dc_mapping/2020a_SSH_mapping_NATL60_DUACS_en_j1_tpn_g2.nc\n",
    "!wget https://ige-meom-opendap.univ-grenoble-alpes.fr/thredds/fileServer/meomopendap/extract/ocean-data-challenges/dc_data1/dc_mapping/2020a_SSH_mapping_NATL60_DUACS_swot_en_j1_tpn_g2.nc\n",
    "!mv 2020a_SSH_mapping_NATL60_DUACS_en_j1_tpn_g2.nc data/\n",
    "!mv 2020a_SSH_mapping_NATL60_DUACS_swot_en_j1_tpn_g2.nc data/"
   ]
  }
 ],
 "metadata": {
  "kernelspec": {
   "display_name": "massh",
   "language": "python",
   "name": "python3"
  },
  "language_info": {
   "codemirror_mode": {
    "name": "ipython",
    "version": 3
   },
   "file_extension": ".py",
   "mimetype": "text/x-python",
   "name": "python",
   "nbconvert_exporter": "python",
   "pygments_lexer": "ipython3",
   "version": "3.10.9 (main, Jan 11 2023, 15:21:40) [GCC 11.2.0]"
  },
  "vscode": {
   "interpreter": {
    "hash": "984563e4ffd3f593bcb1e9a3d9bd9585f0a60902c24eb7a5e718c1ebf267e079"
   }
  }
 },
 "nbformat": 4,
 "nbformat_minor": 4
}
