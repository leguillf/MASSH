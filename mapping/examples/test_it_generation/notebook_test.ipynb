{
 "cells": [
  {
   "attachments": {},
   "cell_type": "markdown",
   "metadata": {},
   "source": [
    "# Test for SW model with IT generation "
   ]
  },
  {
   "cell_type": "markdown",
   "metadata": {},
   "source": [
    "This notebook aims at testing Internal Tide Generation in a basic study case (ridge in the middle). "
   ]
  },
  {
   "cell_type": "code",
   "execution_count": 1,
   "metadata": {},
   "outputs": [],
   "source": [
    "import numpy as np \n",
    "np.set_printoptions(linewidth=180)\n",
    "import matplotlib.pyplot as plt\n",
    "import matplotlib\n",
    "#matplotlib.use('Agg')"
   ]
  },
  {
   "cell_type": "code",
   "execution_count": 2,
   "metadata": {},
   "outputs": [],
   "source": [
    "path_config = 'config_test'"
   ]
  },
  {
   "cell_type": "code",
   "execution_count": 3,
   "metadata": {},
   "outputs": [],
   "source": [
    "import sys\n",
    "dir_massh = '/home/bellemva/MASSH/mapping'\n",
    "sys.path.append(dir_massh)"
   ]
  },
  {
   "cell_type": "code",
   "execution_count": 4,
   "metadata": {},
   "outputs": [
    {
     "name": "stdout",
     "output_type": "stream",
     "text": [
      "name_experiment: config_test\n",
      "saveoutputs: True\n",
      "name_exp_save: config_test\n",
      "path_save: ../outputs/config_test\n",
      "tmp_DA_path: ../scratch/config_test\n",
      "init_date: 2012-06-01 00:00:00\n",
      "final_date: 2012-06-02 00:00:00\n",
      "assimilation_time_step: 1:00:00\n",
      "saveoutput_time_step: 1:00:00\n",
      "flag_plot: 0\n",
      "write_obs: True\n",
      "path_obs: ../obs/2022a_4DVARQG\n",
      "name_lon: lon\n",
      "name_lat: lat\n",
      "name_time: time\n",
      "plot_time_step: 1 day, 0:00:00\n",
      "time_obs_min: None\n",
      "time_obs_max: None\n",
      "compute_obs: False\n",
      "coriolis_force: True\n",
      "\n",
      "NAME_BC is not set in the configuration file\n"
     ]
    }
   ],
   "source": [
    "from src import exp\n",
    "config = exp.Exp(path_config)"
   ]
  },
  {
   "cell_type": "code",
   "execution_count": 19,
   "metadata": {},
   "outputs": [
    {
     "name": "stdout",
     "output_type": "stream",
     "text": [
      "super: GRID_GEO\n",
      "lon_min: 0.0\n",
      "lon_max: 9.0\n",
      "lat_min: 0.0\n",
      "lat_max: 9.0\n",
      "dlon: 1\n",
      "dlat: 1\n",
      "name_init_mask: ./mask/mask_test.nc\n",
      "name_var_mask: {'lon': 'longitude', 'lat': 'latitude', 'var': 'mask'}\n",
      "interp_method_mask: nearest\n",
      "\n"
     ]
    }
   ],
   "source": [
    "from src import state as state\n",
    "State = state.State(config)"
   ]
  },
  {
   "cell_type": "code",
   "execution_count": 20,
   "metadata": {},
   "outputs": [
    {
     "name": "stdout",
     "output_type": "stream",
     "text": [
      "super: MOD_SW1L_JAX\n",
      "name_var: {'U': 'u', 'V': 'v', 'SSH': 'ssh'}\n",
      "name_init_var: []\n",
      "name_params: ['itg']\n",
      "dir_model: None\n",
      "var_to_save: None\n",
      "dtmodel: 300\n",
      "time_scheme: rk4\n",
      "bc_kind: 1d\n",
      "w_waves: [0.00014376682471122976]\n",
      "He_init: 0.7\n",
      "He_data: None\n",
      "Ntheta: 1\n",
      "g: 9.81\n",
      "\n"
     ]
    }
   ],
   "source": [
    "from src import mod as mod\n",
    "Model = mod.Model(config,State)"
   ]
  },
  {
   "cell_type": "code",
   "execution_count": 21,
   "metadata": {},
   "outputs": [
    {
     "data": {
      "image/png": "[encoded data removed]",
      "text/plain": [
       "<Figure size 640x480 with 1 Axes>"
      ]
     },
     "metadata": {},
     "output_type": "display_data"
    }
   ],
   "source": [
    "array_itg = np.zeros_like(State.params['itg'][0])\n",
    "array_itg[1,3:7]=1e-3\n",
    "fig,ax = plt.subplots(1,1)\n",
    "ax.pcolormesh(array_itg)\n",
    "ax.set_aspect(\"equal\")\n",
    "ax.set_title(\"Visualisation of IT generation site\")\n",
    "State.params['itg'][1]=array_itg"
   ]
  },
  {
   "cell_type": "code",
   "execution_count": 22,
   "metadata": {},
   "outputs": [
    {
     "name": "stdout",
     "output_type": "stream",
     "text": [
      "[[ 0.  0.  0.  0.  0.  0.  0.  0.  0.  0.]\n",
      " [ 0.  0.  0.  0.  0.  0.  0.  0.  0.  0.]\n",
      " [ 0.  0.  0.  0.  0.  0.  0.  0.  0.  0.]\n",
      " [ 0.  0.  0.  0.  0.  0.  0.  0.  0.  0.]\n",
      " [ 0.  0.  0. nan nan nan nan  0.  0.  0.]\n",
      " [ 0.  0.  0. nan nan nan nan  0.  0.  0.]\n",
      " [ 0.  0.  0. nan nan nan nan  0.  0.  0.]\n",
      " [ 0.  0.  0. nan nan nan nan  0.  0.  0.]\n",
      " [ 0.  0.  0. nan nan nan nan  0.  0.  0.]\n",
      " [ 0.  0.  0. nan nan nan nan  0.  0.  0.]]\n"
     ]
    }
   ],
   "source": [
    "print(np.round(State.var['ssh'],decimals=3))"
   ]
  },
  {
   "cell_type": "code",
   "execution_count": 23,
   "metadata": {},
   "outputs": [],
   "source": [
    "t=0"
   ]
  },
  {
   "cell_type": "code",
   "execution_count": 24,
   "metadata": {},
   "outputs": [
    {
     "data": {
      "text/plain": [
       "300"
      ]
     },
     "execution_count": 24,
     "metadata": {},
     "output_type": "execute_result"
    }
   ],
   "source": [
    "Model.step(State,t=t,nstep=1)\n",
    "t+=1*Model.dt\n",
    "t\n"
   ]
  },
  {
   "cell_type": "code",
   "execution_count": 25,
   "metadata": {},
   "outputs": [
    {
     "name": "stdout",
     "output_type": "stream",
     "text": [
      "[[ 0.  0.  0.  0.  0.  0.  0.  0.  0.  0.]\n",
      " [ 0.  0.  0.  0.  0.  0.  0.  0.  0.  0.]\n",
      " [ 0. nan nan nan nan nan nan nan  0.  0.]\n",
      " [ 0. nan nan nan nan nan nan nan  0.  0.]\n",
      " [ 0. nan  0. nan nan nan nan nan nan  0.]\n",
      " [ 0. nan  0. nan nan nan nan nan nan  0.]\n",
      " [ 0. nan  0. nan nan nan nan nan nan  0.]\n",
      " [ 0. nan  0. nan nan nan nan nan nan  0.]\n",
      " [ 0. nan  0. nan nan nan nan nan nan  0.]\n",
      " [ 0. nan  0. nan nan nan nan nan nan  0.]]\n"
     ]
    }
   ],
   "source": [
    "print(np.round(State.var['u'],decimals=3))"
   ]
  },
  {
   "cell_type": "code",
   "execution_count": null,
   "metadata": {},
   "outputs": [],
   "source": [
    "State.var['ssh'][2,:]"
   ]
  },
  {
   "cell_type": "code",
   "execution_count": null,
   "metadata": {},
   "outputs": [],
   "source": [
    "State.var['ssh']"
   ]
  },
  {
   "cell_type": "code",
   "execution_count": null,
   "metadata": {},
   "outputs": [],
   "source": [
    "Model.step(State,nstep=400)"
   ]
  },
  {
   "cell_type": "code",
   "execution_count": null,
   "metadata": {},
   "outputs": [],
   "source": [
    "fig,ax = plt.subplots(1,1)\n",
    "ax.pcolormesh(State.var['ssh'],cmap='RdBu',vmin=-1.5,vmax=1.5)\n",
    "#ax.colorbar()\n",
    "ax.set_aspect(\"equal\")"
   ]
  },
  {
   "cell_type": "code",
   "execution_count": null,
   "metadata": {},
   "outputs": [],
   "source": [
    "plt.bar(np.arange(0,10),State.var['ssh'][4,:])"
   ]
  },
  {
   "cell_type": "code",
   "execution_count": null,
   "metadata": {},
   "outputs": [],
   "source": [
    "State.var['ssh']"
   ]
  },
  {
   "cell_type": "code",
   "execution_count": null,
   "metadata": {},
   "outputs": [],
   "source": [
    "Model.step(State,nstep=1)"
   ]
  },
  {
   "cell_type": "code",
   "execution_count": null,
   "metadata": {},
   "outputs": [],
   "source": [
    "State.var['u']"
   ]
  }
 ],
 "metadata": {
  "kernelspec": {
   "display_name": "pangeo-forge",
   "language": "python",
   "name": "python3"
  },
  "language_info": {
   "codemirror_mode": {
    "name": "ipython",
    "version": 3
   },
   "file_extension": ".py",
   "mimetype": "text/x-python",
   "name": "python",
   "nbconvert_exporter": "python",
   "pygments_lexer": "ipython3",
   "version": "3.10.8"
  },
  "orig_nbformat": 4
 },
 "nbformat": 4,
 "nbformat_minor": 2
}
