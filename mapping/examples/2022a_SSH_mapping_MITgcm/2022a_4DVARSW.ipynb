{
 "cells": [
  {
   "cell_type": "markdown",
   "metadata": {},
   "source": [
    "# 2020a_4DVARQG\n",
    "This notebook, associated to the configuration file *config_2020a_4DVARQG.py* runs a BFN-QG experiment to map SSH from simulated SWOT and Nadir data"
   ]
  },
  {
   "cell_type": "markdown",
   "metadata": {},
   "source": [
    "## Configuration file"
   ]
  },
  {
   "cell_type": "code",
   "execution_count": 1,
   "metadata": {},
   "outputs": [],
   "source": [
    "path_config = 'config_2022a_4DVARSW'"
   ]
  },
  {
   "cell_type": "code",
   "execution_count": 2,
   "metadata": {},
   "outputs": [],
   "source": [
    "import sys\n",
    "sys.path.append('..')"
   ]
  },
  {
   "cell_type": "code",
   "execution_count": 3,
   "metadata": {},
   "outputs": [
    {
     "name": "stdout",
     "output_type": "stream",
     "text": [
      "name_experiment: 2022a_4DVARSW\n",
      "saveoutputs: True\n",
      "name_exp_save: 2022a_4DVARSW\n",
      "path_save: ../outputs/2022a_4DVARSW\n",
      "tmp_DA_path: ../scratch/2022a_4DVARSW\n",
      "init_date: 2012-02-01 00:00:00\n",
      "final_date: 2012-02-10 00:00:00\n",
      "assimilation_time_step: 1:00:00\n",
      "saveoutput_time_step: 1:00:00\n",
      "flag_plot: 0\n",
      "write_obs: True\n",
      "path_obs: ../obs/2022a_4DVARQG\n",
      "name_lon: lon\n",
      "name_lat: lat\n",
      "name_time: time\n",
      "plot_time_step: 1 day, 0:00:00\n",
      "time_obs_min: None\n",
      "time_obs_max: None\n",
      "compute_obs: False\n",
      "\n",
      "NAME_BC is not set in the configuration file\n"
     ]
    }
   ],
   "source": [
    "\n",
    "from src import exp\n",
    "config = exp.Exp(path_config)"
   ]
  },
  {
   "cell_type": "markdown",
   "metadata": {},
   "source": [
    "## State"
   ]
  },
  {
   "cell_type": "code",
   "execution_count": 4,
   "metadata": {},
   "outputs": [
    {
     "name": "stdout",
     "output_type": "stream",
     "text": [
      "super: GRID_GEO\n",
      "lon_min: 230.0\n",
      "lon_max: 239.5\n",
      "lat_min: 30.0\n",
      "lat_max: 39.5\n",
      "dlon: 0.25\n",
      "dlat: 0.25\n",
      "name_init_mask: ../aux/aux_mdt_cnes_cls18_global.nc\n",
      "name_var_mask: {'lon': 'longitude', 'lat': 'latitude', 'var': 'mdt'}\n",
      "\n"
     ]
    }
   ],
   "source": [
    "from src import state as state\n",
    "State = state.State(config)"
   ]
  },
  {
   "cell_type": "markdown",
   "metadata": {},
   "source": [
    "## Model"
   ]
  },
  {
   "cell_type": "code",
   "execution_count": 5,
   "metadata": {},
   "outputs": [
    {
     "name": "stdout",
     "output_type": "stream",
     "text": [
      "super: MOD_SW1L_NP\n",
      "name_var: {'U': 'u', 'V': 'v', 'SSH': 'ssh'}\n",
      "name_init_var: []\n",
      "dir_model: None\n",
      "dtmodel: 1200\n",
      "time_scheme: rk4\n",
      "bc_kind: 1d\n",
      "w_waves: [0.00014376682471122976]\n",
      "He_init: 0.7\n",
      "He_data: None\n",
      "Ntheta: 1\n",
      "g: 9.81\n",
      "\n",
      "Tangent test:\n",
      "1E+00 1E+00\n",
      "1E-01 3E-01\n",
      "1E-02 4E-02\n",
      "1E-03 5E-03\n",
      "1E-04 5E-04\n",
      "1E-05 5E-05\n",
      "1E-06 5E-06\n",
      "1E-07 5E-07\n",
      "1E-08 7E-08\n",
      "1E-09 6E-07\n",
      "Adjoint test:\n",
      "1.0000000000000002\n"
     ]
    }
   ],
   "source": [
    "from src import mod as mod\n",
    "Model = mod.Model(config,State)"
   ]
  },
  {
   "cell_type": "code",
   "execution_count": 6,
   "metadata": {},
   "outputs": [],
   "source": [
    "State.plot()"
   ]
  },
  {
   "cell_type": "code",
   "execution_count": 7,
   "metadata": {},
   "outputs": [],
   "source": [
    "from src import bc as bc\n",
    "Bc = bc.Bc(config)"
   ]
  },
  {
   "cell_type": "markdown",
   "metadata": {},
   "source": [
    "## Observations"
   ]
  },
  {
   "cell_type": "code",
   "execution_count": 8,
   "metadata": {},
   "outputs": [
    {
     "name": "stdout",
     "output_type": "stream",
     "text": [
      "Observation information will be saved in dict_obs_SWOT_ALG_C2_H2G_J2G_J2N_J3_S3A_20120201_20120210_230_239_30_39.txt\n",
      "Reading dict_obs_SWOT_ALG_C2_H2G_J2G_J2N_J3_S3A_20120201_20120210_230_239_30_39.txt from previous run\n"
     ]
    }
   ],
   "source": [
    "from src import obs as obs\n",
    "dict_obs = obs.Obs(config,State)"
   ]
  },
  {
   "cell_type": "code",
   "execution_count": 9,
   "metadata": {},
   "outputs": [
    {
     "name": "stdout",
     "output_type": "stream",
     "text": [
      "super: OBSOP_INTERP\n",
      "path_save: None\n",
      "compute_op: False\n",
      "Npix: 4\n",
      "mask_coast: False\n",
      "dist_coast: 100\n",
      "mask_borders: False\n",
      "\n"
     ]
    }
   ],
   "source": [
    "from src import obsop as obsop\n",
    "Obsop = obsop.Obsop(config,State,dict_obs,Model)"
   ]
  },
  {
   "cell_type": "markdown",
   "metadata": {},
   "source": [
    "## Reduced Basis"
   ]
  },
  {
   "cell_type": "code",
   "execution_count": 10,
   "metadata": {},
   "outputs": [
    {
     "name": "stdout",
     "output_type": "stream",
     "text": [
      "super: BASIS_IT\n",
      "sigma_B_He: 0.2\n",
      "sigma_B_bc: 0.01\n",
      "facgauss: 3.5\n",
      "D_He: 200\n",
      "T_He: 20\n",
      "D_bc: 200\n",
      "T_bc: 20\n",
      "facB_bc_coast: 1\n",
      "facB_He_coast: 1\n",
      "scalemodes: None\n",
      "scalew_igws: None\n",
      "\n"
     ]
    }
   ],
   "source": [
    "from src import basis as basis\n",
    "Basis = basis.Basis(config, State)"
   ]
  },
  {
   "cell_type": "markdown",
   "metadata": {},
   "source": [
    "## Assimilation"
   ]
  },
  {
   "cell_type": "code",
   "execution_count": 11,
   "metadata": {},
   "outputs": [
    {
     "name": "stdout",
     "output_type": "stream",
     "text": [
      "super: INV_4DVAR\n",
      "compute_test: True\n",
      "path_init_4Dvar: None\n",
      "restart_4Dvar: False\n",
      "gtol: 0.001\n",
      "maxiter: 10\n",
      "opt_method: L-BFGS-B\n",
      "save_minimization: False\n",
      "timestep_checkpoint: 1 day, 0:00:00\n",
      "sigma_R: 0.01\n",
      "sigma_B: None\n",
      "prec: True\n",
      "prescribe_background: False\n",
      "bkg_satellite: None\n",
      "path_background: None\n",
      "bkg_Kdiffus: 0.0\n",
      "name_bkg_var: res\n",
      "bkg_maxiter: 30\n",
      "bkg_maxiter_inner: 10\n",
      "largescale_error_ratio: 1\n",
      "only_largescale: False\n",
      "\n",
      "--> 70 checkpoints to evaluate the cost function\n",
      "nHe: 2694\n",
      "nbc: 3060\n",
      "reduced order: 171990 --> 5754\n",
      " reduced factor: 29\n",
      "Gradient test:\n",
      "1.0E+00 , 4.66E-02\n",
      "1.0E-01 , 4.92E-02\n",
      "1.0E-02 , 5.23E-03\n",
      "1.0E-03 , 5.26E-04\n",
      "1.0E-04 , 5.27E-05\n",
      "1.0E-05 , 5.24E-06\n",
      "1.0E-06 , 8.47E-07\n",
      "1.0E-07 , 5.53E-06\n",
      "1.0E-08 , 3.99E-05\n",
      "1.0E-09 , 5.08E-04\n",
      "\n",
      "*** Minimization ***\n",
      "\n"
     ]
    },
    {
     "ename": "KeyboardInterrupt",
     "evalue": "",
     "output_type": "error",
     "traceback": [
      "\u001b[0;31m---------------------------------------------------------------------------\u001b[0m",
      "\u001b[0;31mKeyboardInterrupt\u001b[0m                         Traceback (most recent call last)",
      "\u001b[1;32m/home/fleguillou/Dev/MASSH/mapping/examples/2022a_4DVARSW.ipynb Cell 18\u001b[0m in \u001b[0;36m<cell line: 2>\u001b[0;34m()\u001b[0m\n\u001b[1;32m      <a href='vscode-notebook-cell://ssh-remote%2B185.178.86.142/home/fleguillou/Dev/MASSH/mapping/examples/2022a_4DVARSW.ipynb#X23sdnNjb2RlLXJlbW90ZQ%3D%3D?line=0'>1</a>\u001b[0m \u001b[39mfrom\u001b[39;00m \u001b[39msrc\u001b[39;00m \u001b[39mimport\u001b[39;00m inv \u001b[39mas\u001b[39;00m inv\n\u001b[0;32m----> <a href='vscode-notebook-cell://ssh-remote%2B185.178.86.142/home/fleguillou/Dev/MASSH/mapping/examples/2022a_4DVARSW.ipynb#X23sdnNjb2RlLXJlbW90ZQ%3D%3D?line=1'>2</a>\u001b[0m inv\u001b[39m.\u001b[39;49mInv(config,State,Model,dict_obs\u001b[39m=\u001b[39;49mdict_obs,Obsop\u001b[39m=\u001b[39;49mObsop,Basis\u001b[39m=\u001b[39;49mBasis,Bc\u001b[39m=\u001b[39;49mBc)\n",
      "File \u001b[0;32m~/Dev/MASSH/mapping/examples/../src/inv.py:46\u001b[0m, in \u001b[0;36mInv\u001b[0;34m(config, State, Model, dict_obs, Obsop, Basis, Bc, *args, **kwargs)\u001b[0m\n\u001b[1;32m     43\u001b[0m     \u001b[39mreturn\u001b[39;00m Inv_bfn(config,State,Model,dict_obs,Bc\u001b[39m=\u001b[39mBc)\n\u001b[1;32m     45\u001b[0m \u001b[39melif\u001b[39;00m config\u001b[39m.\u001b[39mINV\u001b[39m.\u001b[39msuper\u001b[39m==\u001b[39m\u001b[39m'\u001b[39m\u001b[39mINV_4DVAR\u001b[39m\u001b[39m'\u001b[39m:\n\u001b[0;32m---> 46\u001b[0m     \u001b[39mreturn\u001b[39;00m Inv_4Dvar(config,State,Model,dict_obs\u001b[39m=\u001b[39;49mdict_obs,Obsop\u001b[39m=\u001b[39;49mObsop,Basis\u001b[39m=\u001b[39;49mBasis,Bc\u001b[39m=\u001b[39;49mBc)\n\u001b[1;32m     48\u001b[0m \u001b[39melif\u001b[39;00m config\u001b[39m.\u001b[39mINV\u001b[39m.\u001b[39msuper\u001b[39m==\u001b[39m\u001b[39m'\u001b[39m\u001b[39mINV_MIOST\u001b[39m\u001b[39m'\u001b[39m:\n\u001b[1;32m     49\u001b[0m     \u001b[39mreturn\u001b[39;00m Inv_miost(config,State,dict_obs)\n",
      "File \u001b[0;32m~/Dev/MASSH/mapping/examples/../src/inv.py:591\u001b[0m, in \u001b[0;36mInv_4Dvar\u001b[0;34m(config, State, Model, dict_obs, Obsop, Basis, Bc)\u001b[0m\n\u001b[1;32m    589\u001b[0m options \u001b[39m=\u001b[39m {\u001b[39m'\u001b[39m\u001b[39mdisp\u001b[39m\u001b[39m'\u001b[39m: \u001b[39mTrue\u001b[39;00m, \u001b[39m'\u001b[39m\u001b[39mmaxiter\u001b[39m\u001b[39m'\u001b[39m: config\u001b[39m.\u001b[39mINV\u001b[39m.\u001b[39mmaxiter}\n\u001b[1;32m    590\u001b[0m \u001b[39mif\u001b[39;00m config\u001b[39m.\u001b[39mINV\u001b[39m.\u001b[39mgtol \u001b[39mis\u001b[39;00m \u001b[39mnot\u001b[39;00m \u001b[39mNone\u001b[39;00m:\n\u001b[0;32m--> 591\u001b[0m     J0 \u001b[39m=\u001b[39m var\u001b[39m.\u001b[39;49mcost(Xopt)\n\u001b[1;32m    592\u001b[0m     g0 \u001b[39m=\u001b[39m var\u001b[39m.\u001b[39mgrad(Xopt)\n\u001b[1;32m    593\u001b[0m     projg0 \u001b[39m=\u001b[39m np\u001b[39m.\u001b[39mmax(np\u001b[39m.\u001b[39mabs(g0))\n",
      "File \u001b[0;32m~/Dev/MASSH/mapping/examples/../src/tools_4Dvar.py:118\u001b[0m, in \u001b[0;36mVariational.cost\u001b[0;34m(self, X0)\u001b[0m\n\u001b[1;32m    114\u001b[0m     State\u001b[39m.\u001b[39msave(os\u001b[39m.\u001b[39mpath\u001b[39m.\u001b[39mjoin(\u001b[39mself\u001b[39m\u001b[39m.\u001b[39mtmp_DA_path,\n\u001b[1;32m    115\u001b[0m                 \u001b[39m'\u001b[39m\u001b[39mmodel_state_\u001b[39m\u001b[39m'\u001b[39m \u001b[39m+\u001b[39m \u001b[39mstr\u001b[39m(\u001b[39mself\u001b[39m\u001b[39m.\u001b[39mcheckpoints[i]) \u001b[39m+\u001b[39m \u001b[39m'\u001b[39m\u001b[39m.nc\u001b[39m\u001b[39m'\u001b[39m))\n\u001b[1;32m    117\u001b[0m     \u001b[39m# 3. Run forward model\u001b[39;00m\n\u001b[0;32m--> 118\u001b[0m     \u001b[39mself\u001b[39;49m\u001b[39m.\u001b[39;49mM\u001b[39m.\u001b[39;49mstep(t\u001b[39m=\u001b[39;49mt,State\u001b[39m=\u001b[39;49mState,nstep\u001b[39m=\u001b[39;49mnstep)\n\u001b[1;32m    120\u001b[0m timestamp \u001b[39m=\u001b[39m \u001b[39mself\u001b[39m\u001b[39m.\u001b[39mM\u001b[39m.\u001b[39mtimestamps[\u001b[39mself\u001b[39m\u001b[39m.\u001b[39mcheckpoints[\u001b[39m-\u001b[39m\u001b[39m1\u001b[39m]]\n\u001b[1;32m    121\u001b[0m \u001b[39mif\u001b[39;00m timestamp \u001b[39min\u001b[39;00m \u001b[39mself\u001b[39m\u001b[39m.\u001b[39mH\u001b[39m.\u001b[39mdate_obs:\n",
      "File \u001b[0;32m~/Dev/MASSH/mapping/examples/../src/mod.py:1215\u001b[0m, in \u001b[0;36mModel_sw1l_np.step\u001b[0;34m(self, State, nstep, t0, t)\u001b[0m\n\u001b[1;32m   1213\u001b[0m             first \u001b[39m=\u001b[39m \u001b[39mTrue\u001b[39;00m\n\u001b[1;32m   1214\u001b[0m     \u001b[39melse\u001b[39;00m: first \u001b[39m=\u001b[39m \u001b[39mFalse\u001b[39;00m\n\u001b[0;32m-> 1215\u001b[0m     u,v,h \u001b[39m=\u001b[39m \u001b[39mself\u001b[39;49m\u001b[39m.\u001b[39;49mswm_step(\n\u001b[1;32m   1216\u001b[0m         t\u001b[39m+\u001b[39;49mi\u001b[39m*\u001b[39;49m\u001b[39mself\u001b[39;49m\u001b[39m.\u001b[39;49mdt,\n\u001b[1;32m   1217\u001b[0m         u,v,h,He\u001b[39m=\u001b[39;49mHe,hbcx\u001b[39m=\u001b[39;49mhbcx,hbcy\u001b[39m=\u001b[39;49mhbcy,first\u001b[39m=\u001b[39;49mfirst)\n\u001b[1;32m   1219\u001b[0m State\u001b[39m.\u001b[39msetvar(u,\u001b[39mself\u001b[39m\u001b[39m.\u001b[39mname_var[\u001b[39m'\u001b[39m\u001b[39mU\u001b[39m\u001b[39m'\u001b[39m])\n\u001b[1;32m   1220\u001b[0m State\u001b[39m.\u001b[39msetvar(v,\u001b[39mself\u001b[39m\u001b[39m.\u001b[39mname_var[\u001b[39m'\u001b[39m\u001b[39mV\u001b[39m\u001b[39m'\u001b[39m])\n",
      "File \u001b[0;32m~/Dev/MASSH/mapping/models/model_sw1l/swm.py:248\u001b[0m, in \u001b[0;36mSwm.step_rk4\u001b[0;34m(self, t, u0, v0, h0, He, hbcx, hbcy, first)\u001b[0m\n\u001b[1;32m    244\u001b[0m \u001b[39m#######################\u001b[39;00m\n\u001b[1;32m    245\u001b[0m \u001b[39m# Boundary conditions #\u001b[39;00m\n\u001b[1;32m    246\u001b[0m \u001b[39m#######################\u001b[39;00m\n\u001b[1;32m    247\u001b[0m \u001b[39mif\u001b[39;00m hbcx \u001b[39mis\u001b[39;00m \u001b[39mnot\u001b[39;00m \u001b[39mNone\u001b[39;00m \u001b[39mand\u001b[39;00m hbcy \u001b[39mis\u001b[39;00m \u001b[39mnot\u001b[39;00m \u001b[39mNone\u001b[39;00m:\n\u001b[0;32m--> 248\u001b[0m     obcs(\u001b[39mself\u001b[39;49m,t,u,v,h,u1,v1,h1,He,hbcx,hbcy)\n\u001b[1;32m    250\u001b[0m \u001b[39mreturn\u001b[39;00m u,v,h\n",
      "File \u001b[0;32m~/Dev/MASSH/mapping/models/model_sw1l/obcs.py:178\u001b[0m, in \u001b[0;36mobcs\u001b[0;34m(M, t, u, v, h, u0, v0, h0, He, hbcx, hbcy)\u001b[0m\n\u001b[1;32m    176\u001b[0m fS \u001b[39m=\u001b[39m (M\u001b[39m.\u001b[39mf[\u001b[39m0\u001b[39m,:]\u001b[39m+\u001b[39mM\u001b[39m.\u001b[39mf[\u001b[39m1\u001b[39m,:])\u001b[39m/\u001b[39m\u001b[39m2\u001b[39m\n\u001b[1;32m    177\u001b[0m HeS \u001b[39m=\u001b[39m (He[\u001b[39m0\u001b[39m,:]\u001b[39m+\u001b[39mHe[\u001b[39m1\u001b[39m,:])\u001b[39m/\u001b[39m\u001b[39m2\u001b[39m\n\u001b[0;32m--> 178\u001b[0m cS \u001b[39m=\u001b[39m np\u001b[39m.\u001b[39;49msqrt(M\u001b[39m.\u001b[39;49mg\u001b[39m*\u001b[39;49mHeS)\n\u001b[1;32m    179\u001b[0m \u001b[39mif\u001b[39;00m M\u001b[39m.\u001b[39mbc\u001b[39m==\u001b[39m\u001b[39m'\u001b[39m\u001b[39m1d\u001b[39m\u001b[39m'\u001b[39m:\n\u001b[1;32m    180\u001b[0m     cS \u001b[39m*\u001b[39m\u001b[39m=\u001b[39m M\u001b[39m.\u001b[39mdt\u001b[39m/\u001b[39m(M\u001b[39m.\u001b[39mY[\u001b[39m1\u001b[39m,:]\u001b[39m-\u001b[39mM\u001b[39m.\u001b[39mY[\u001b[39m0\u001b[39m,:])\n",
      "\u001b[0;31mKeyboardInterrupt\u001b[0m: "
     ]
    }
   ],
   "source": [
    "from src import inv as inv\n",
    "inv.Inv(config,State,Model,dict_obs=dict_obs,Obsop=Obsop,Basis=Basis,Bc=Bc)"
   ]
  },
  {
   "cell_type": "markdown",
   "metadata": {},
   "source": [
    "## Diagnostics"
   ]
  },
  {
   "cell_type": "code",
   "execution_count": null,
   "metadata": {},
   "outputs": [],
   "source": [
    "from src import diag as diag\n",
    "Diag = diag.Diag(config,State)"
   ]
  },
  {
   "cell_type": "code",
   "execution_count": null,
   "metadata": {},
   "outputs": [],
   "source": [
    "Diag.regrid_exp()\n",
    "Diag.exp_regridded.ssh[-1].plot()"
   ]
  },
  {
   "cell_type": "code",
   "execution_count": null,
   "metadata": {},
   "outputs": [],
   "source": [
    "Diag.rmse_based_scores(plot=True)"
   ]
  },
  {
   "cell_type": "code",
   "execution_count": null,
   "metadata": {},
   "outputs": [],
   "source": [
    "Diag.psd_based_scores(plot=True)"
   ]
  },
  {
   "cell_type": "code",
   "execution_count": null,
   "metadata": {},
   "outputs": [],
   "source": [
    "Diag.movie(framerate=12,clim=(0,.5),range_err=.2)"
   ]
  },
  {
   "cell_type": "code",
   "execution_count": null,
   "metadata": {},
   "outputs": [],
   "source": [
    "import os\n",
    "from IPython.display import Video\n",
    "Video(os.path.join(Diag.dir_output, 'movie.mp4'))"
   ]
  },
  {
   "cell_type": "code",
   "execution_count": null,
   "metadata": {},
   "outputs": [],
   "source": [
    "Leaderboard = Diag.Leaderboard()\n",
    "Leaderboard"
   ]
  },
  {
   "cell_type": "code",
   "execution_count": null,
   "metadata": {},
   "outputs": [],
   "source": []
  }
 ],
 "metadata": {
  "kernelspec": {
   "display_name": "Python 3.10.4 ('env-plot': conda)",
   "language": "python",
   "name": "python3"
  },
  "language_info": {
   "codemirror_mode": {
    "name": "ipython",
    "version": 3
   },
   "file_extension": ".py",
   "mimetype": "text/x-python",
   "name": "python",
   "nbconvert_exporter": "python",
   "pygments_lexer": "ipython3",
   "version": "3.10.4"
  },
  "vscode": {
   "interpreter": {
    "hash": "78b767bc73e83775d284238556dee940a86bc4d5d535f6dfd44ceeea93cd0788"
   }
  }
 },
 "nbformat": 4,
 "nbformat_minor": 4
}
