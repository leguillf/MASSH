{
 "cells": [
  {
   "attachments": {},
   "cell_type": "markdown",
   "metadata": {},
   "source": [
    "# Test for SW model with IT generation "
   ]
  },
  {
   "cell_type": "markdown",
   "metadata": {},
   "source": [
    "This notebook aims at testing Internal Tide Generation in a basic study case (ridge in the middle). "
   ]
  },
  {
   "cell_type": "code",
   "execution_count": 1,
   "metadata": {},
   "outputs": [],
   "source": [
    "import numpy as np \n",
    "import matplotlib.pyplot as plt\n",
    "import matplotlib\n",
    "#matplotlib.use('Agg')"
   ]
  },
  {
   "cell_type": "code",
   "execution_count": 2,
   "metadata": {},
   "outputs": [],
   "source": [
    "path_config = 'config_hawaii_generation'"
   ]
  },
  {
   "cell_type": "code",
   "execution_count": 3,
   "metadata": {},
   "outputs": [],
   "source": [
    "import sys\n",
    "#dir_massh = '/home/bellemva/MASSH/mapping'\n",
    "dir_massh = '/Users/vbellemin/python/MASSH/mapping'\n",
    "sys.path.append(dir_massh)"
   ]
  },
  {
   "cell_type": "code",
   "execution_count": 4,
   "metadata": {},
   "outputs": [
    {
     "name": "stdout",
     "output_type": "stream",
     "text": [
      "name_experiment: config_hawaii_generation\n",
      "saveoutputs: True\n",
      "name_exp_save: config_hawaii_generation\n",
      "path_save: ../outputs/config_hawaii_generation\n",
      "tmp_DA_path: ../scratch/config_hawaii_generation\n",
      "init_date: 2012-06-05 00:00:00\n",
      "final_date: 2012-06-10 00:00:00\n",
      "assimilation_time_step: 1:00:00\n",
      "saveoutput_time_step: 1:00:00\n",
      "flag_plot: 4\n",
      "write_obs: True\n",
      "path_obs: ../obs/2022a_4DVARQG\n",
      "coriolis_force: False\n",
      "name_lon: lon\n",
      "name_lat: lat\n",
      "name_time: time\n",
      "plot_time_step: 1 day, 0:00:00\n",
      "time_obs_min: None\n",
      "time_obs_max: None\n",
      "compute_obs: False\n",
      "\n",
      "NAME_BC is not set in the configuration file\n"
     ]
    }
   ],
   "source": [
    "from src import exp\n",
    "config = exp.Exp(path_config)"
   ]
  },
  {
   "cell_type": "code",
   "execution_count": 5,
   "metadata": {},
   "outputs": [
    {
     "name": "stdout",
     "output_type": "stream",
     "text": [
      "super: GRID_GEO\n",
      "lon_min: 185.0\n",
      "lon_max: 205\n",
      "lat_min: 15.0\n",
      "lat_max: 35.0\n",
      "dlon: 0.08333333333333333\n",
      "dlat: 0.08333333333333333\n",
      "name_init_mask: ./mask/mask_square.nc\n",
      "name_var_mask: {'lon': 'longitude', 'lat': 'latitude', 'var': 'mask'}\n",
      "interp_method_mask: nearest\n",
      "\n"
     ]
    }
   ],
   "source": [
    "from src import state as state\n",
    "State = state.State(config)"
   ]
  },
  {
   "cell_type": "code",
   "execution_count": 6,
   "metadata": {},
   "outputs": [
    {
     "name": "stdout",
     "output_type": "stream",
     "text": [
      "super: MOD_SW1L_JAX\n",
      "name_var: {'U': 'u', 'V': 'v', 'SSH': 'ssh'}\n",
      "name_init_var: []\n",
      "name_params: ['itg']\n",
      "dir_model: None\n",
      "var_to_save: None\n",
      "dtmodel: 300\n",
      "time_scheme: rk4\n",
      "bc_kind: 1d\n",
      "bc_island: dirichlet\n",
      "w_waves: [0.00014376682471122976]\n",
      "He_init: 0.7\n",
      "He_data: None\n",
      "Ntheta: 1\n",
      "g: 9.81\n",
      "\n"
     ]
    }
   ],
   "source": [
    "from src import mod as mod\n",
    "Model = mod.Model(config,State)"
   ]
  },
  {
   "cell_type": "code",
   "execution_count": 7,
   "metadata": {},
   "outputs": [
    {
     "data": {
      "text/plain": [
       "array([[False, False, False, ..., False, False, False],\n",
       "       [False, False, False, ..., False, False, False],\n",
       "       [False, False, False, ..., False, False, False],\n",
       "       ...,\n",
       "       [False, False, False, ..., False, False, False],\n",
       "       [False, False, False, ..., False, False, False],\n",
       "       [False, False, False, ..., False, False, False]])"
      ]
     },
     "execution_count": 7,
     "metadata": {},
     "output_type": "execute_result"
    }
   ],
   "source": [
    "State.mask"
   ]
  },
  {
   "cell_type": "code",
   "execution_count": 8,
   "metadata": {},
   "outputs": [
    {
     "data": {
      "text/plain": [
       "<matplotlib.collections.QuadMesh at 0x16edeaa50>"
      ]
     },
     "execution_count": 8,
     "metadata": {},
     "output_type": "execute_result"
    },
    {
     "data": {
      "image/png": "[encoded data removed]",
      "text/plain": [
       "<Figure size 640x480 with 1 Axes>"
      ]
     },
     "metadata": {},
     "output_type": "display_data"
    }
   ],
   "source": [
    "plt.pcolormesh(State.var['v'])"
   ]
  },
  {
   "attachments": {},
   "cell_type": "markdown",
   "metadata": {},
   "source": [
    "Setting a ridge of IT generation. "
   ]
  },
  {
   "cell_type": "code",
   "execution_count": 9,
   "metadata": {},
   "outputs": [
    {
     "name": "stdout",
     "output_type": "stream",
     "text": [
      "super: GRID_GEO\n",
      "lon_min: 185.0\n",
      "lon_max: 205\n",
      "lat_min: 15.0\n",
      "lat_max: 35.0\n",
      "dlon: 0.08333333333333333\n",
      "dlat: 0.08333333333333333\n",
      "name_init_mask: ./mask/mask_square.nc\n",
      "name_var_mask: {'lon': 'longitude', 'lat': 'latitude', 'var': 'mask'}\n",
      "interp_method_mask: nearest\n",
      "\n",
      "super: MOD_SW1L_JAX\n",
      "name_var: {'U': 'u', 'V': 'v', 'SSH': 'ssh'}\n",
      "name_init_var: []\n",
      "name_params: ['itg']\n",
      "dir_model: None\n",
      "var_to_save: None\n",
      "dtmodel: 300\n",
      "time_scheme: rk4\n",
      "bc_kind: 1d\n",
      "bc_island: dirichlet\n",
      "w_waves: [0.00014376682471122976]\n",
      "He_init: 0.7\n",
      "He_data: None\n",
      "Ntheta: 1\n",
      "g: 9.81\n",
      "\n"
     ]
    }
   ],
   "source": [
    "State = state.State(config)\n",
    "Model = mod.Model(config,State)"
   ]
  },
  {
   "cell_type": "code",
   "execution_count": 13,
   "metadata": {},
   "outputs": [
    {
     "data": {
      "text/plain": [
       "Text(0.5, 1.0, 'Visualisation of IT generation site')"
      ]
     },
     "execution_count": 13,
     "metadata": {},
     "output_type": "execute_result"
    },
    {
     "data": {
      "image/png": "[encoded data removed]",
      "text/plain": [
       "<Figure size 640x480 with 1 Axes>"
      ]
     },
     "metadata": {},
     "output_type": "display_data"
    }
   ],
   "source": [
    "array_itg = np.zeros_like(State.params['itg'][0])\n",
    "array_itg[121,80:242-80]=1e-3\n",
    "#array_itg[1,:]=1e-3\n",
    "fig,ax = plt.subplots(1,1)\n",
    "ax.pcolormesh(array_itg)\n",
    "ax.set_aspect(\"equal\")\n",
    "ax.set_title(\"Visualisation of IT generation site\")"
   ]
  },
  {
   "cell_type": "code",
   "execution_count": null,
   "metadata": {},
   "outputs": [],
   "source": [
    "State.params['itg'][1]=array_itg"
   ]
  },
  {
   "cell_type": "code",
   "execution_count": null,
   "metadata": {},
   "outputs": [],
   "source": [
    "####################\n",
    "### SAVING PLOTS ###\n",
    "####################\n",
    "def form(i) : \n",
    "    if i//10 ==0 : \n",
    "        return \"00\" + str(i)\n",
    "    elif i//100 ==0 : \n",
    "        return \"0\" + str(i) \n",
    "    else : \n",
    "        return str(i)\n",
    "\n",
    "def save_plot (State,i):\n",
    "    fig,ax = plt.subplots(1,1)\n",
    "    ax.pcolormesh(State.var['ssh'],cmap='RdBu',vmin=-1.5,vmax=1.5)\n",
    "    #ax.colorbar()\n",
    "    ax.set_aspect(\"equal\")\n",
    "    plt.savefig(\"./frames/\"+form(i)+\".png\")\n",
    "\n",
    "t=0\n",
    "for i in range (200):\n",
    "    #print (i,\" : \", State.params['itg'][1,30,121]) #, end=\"\\r\"\n",
    "    #if i==7 : \n",
    "    #    State.params['itg'][1,30,80:242-80]=0\n",
    "    Model.step(State,t=t,nstep=10)\n",
    "    t+=10*Model.dt\n",
    "    save_plot(State,i)\n"
   ]
  },
  {
   "cell_type": "code",
   "execution_count": null,
   "metadata": {},
   "outputs": [],
   "source": [
    "6.07*3600/300"
   ]
  },
  {
   "cell_type": "code",
   "execution_count": null,
   "metadata": {},
   "outputs": [],
   "source": [
    "t=0\n",
    "\n",
    "Model.step(State,nstep=1000,t=t)"
   ]
  },
  {
   "cell_type": "code",
   "execution_count": null,
   "metadata": {},
   "outputs": [],
   "source": [
    "fig,ax = plt.subplots(1,1)\n",
    "ax.pcolormesh(State.var['ssh'],cmap='RdBu',vmin=-1.5,vmax=1.5)\n",
    "#ax.colorbar()\n",
    "ax.set_aspect(\"equal\")"
   ]
  },
  {
   "cell_type": "code",
   "execution_count": null,
   "metadata": {},
   "outputs": [],
   "source": [
    "t=0\n",
    "\n",
    "Model.step(State,nstep=10,t=t)\n",
    "\n",
    "fig,ax = plt.subplots(1,1)\n",
    "ax.pcolormesh(State.var['ssh'],cmap='RdBu',vmin=-1.5,vmax=1.5)\n",
    "#ax.colorbar()\n",
    "ax.set_aspect(\"equal\")\n",
    "\n",
    "t+=10*Model.dt"
   ]
  },
  {
   "cell_type": "code",
   "execution_count": null,
   "metadata": {},
   "outputs": [],
   "source": [
    "import numpy as np\n",
    "a = np.array([[False,True],[True,True]])\n",
    "b = np.array([[1,2],[3,4]])\n",
    "b[np.where(a)]"
   ]
  },
  {
   "cell_type": "code",
   "execution_count": null,
   "metadata": {},
   "outputs": [],
   "source": [
    "mask = np.where(a)\n",
    "np.zeros(mask[0].shape)"
   ]
  },
  {
   "cell_type": "code",
   "execution_count": null,
   "metadata": {},
   "outputs": [],
   "source": [
    "for k,(i,j) in enumerate(zip(mask[0],mask[1])) : \n",
    "    print(k,i,j)"
   ]
  },
  {
   "cell_type": "code",
   "execution_count": null,
   "metadata": {},
   "outputs": [],
   "source": [
    "np.argwhere(a).shape[0]"
   ]
  },
  {
   "cell_type": "code",
   "execution_count": null,
   "metadata": {},
   "outputs": [],
   "source": [
    "np.any(np.argwhere(a))"
   ]
  },
  {
   "cell_type": "code",
   "execution_count": null,
   "metadata": {},
   "outputs": [],
   "source": [
    "for idx in np.argwhere(a): \n",
    "    print(idx)"
   ]
  },
  {
   "cell_type": "code",
   "execution_count": null,
   "metadata": {},
   "outputs": [],
   "source": [
    "np.array([[False,False],[False,False]])"
   ]
  },
  {
   "cell_type": "code",
   "execution_count": null,
   "metadata": {},
   "outputs": [],
   "source": []
  },
  {
   "cell_type": "code",
   "execution_count": null,
   "metadata": {},
   "outputs": [],
   "source": [
    "import numpy as np \n",
    "a= np.array([1,2,3],dtype='float')\n",
    "b = np.array([],dtype='float')\n",
    "np.concatenate((a,b))"
   ]
  },
  {
   "cell_type": "code",
   "execution_count": null,
   "metadata": {},
   "outputs": [],
   "source": []
  }
 ],
 "metadata": {
  "kernelspec": {
   "display_name": "pangeo-forge",
   "language": "python",
   "name": "python3"
  },
  "language_info": {
   "codemirror_mode": {
    "name": "ipython",
    "version": 3
   },
   "file_extension": ".py",
   "mimetype": "text/x-python",
   "name": "python",
   "nbconvert_exporter": "python",
   "pygments_lexer": "ipython3",
   "version": "3.11.0"
  },
  "orig_nbformat": 4
 },
 "nbformat": 4,
 "nbformat_minor": 2
}
