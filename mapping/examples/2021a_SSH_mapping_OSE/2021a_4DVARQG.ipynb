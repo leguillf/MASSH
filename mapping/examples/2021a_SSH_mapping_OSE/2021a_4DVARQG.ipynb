{
 "cells": [
  {
   "attachments": {},
   "cell_type": "markdown",
   "metadata": {},
   "source": [
    "# 2021a_4DVARQG\n",
    "This notebook, associated to the configuration file *config_2021a_4DVARQG.py* runs a BFN-QG experiment to map SSH from real nadir data"
   ]
  },
  {
   "cell_type": "markdown",
   "metadata": {},
   "source": [
    "## Configuration file"
   ]
  },
  {
   "cell_type": "code",
   "execution_count": null,
   "metadata": {
    "execution": {
     "iopub.execute_input": "2023-02-08T16:11:43.754327Z",
     "iopub.status.busy": "2023-02-08T16:11:43.753410Z",
     "iopub.status.idle": "2023-02-08T16:11:43.762497Z",
     "shell.execute_reply": "2023-02-08T16:11:43.761486Z"
    }
   },
   "outputs": [],
   "source": [
    "path_config = 'config_2021a_4DVARQG.py'"
   ]
  },
  {
   "cell_type": "code",
   "execution_count": null,
   "metadata": {
    "execution": {
     "iopub.execute_input": "2023-02-08T16:11:43.766600Z",
     "iopub.status.busy": "2023-02-08T16:11:43.766075Z",
     "iopub.status.idle": "2023-02-08T16:11:43.770454Z",
     "shell.execute_reply": "2023-02-08T16:11:43.769461Z"
    }
   },
   "outputs": [],
   "source": [
    "import sys\n",
    "sys.path.append('../..')"
   ]
  },
  {
   "cell_type": "code",
   "execution_count": null,
   "metadata": {
    "execution": {
     "iopub.execute_input": "2023-02-08T16:11:43.774667Z",
     "iopub.status.busy": "2023-02-08T16:11:43.774026Z",
     "iopub.status.idle": "2023-02-08T16:11:43.789253Z",
     "shell.execute_reply": "2023-02-08T16:11:43.788226Z"
    }
   },
   "outputs": [],
   "source": [
    "\n",
    "from src import exp\n",
    "config = exp.Exp(path_config)"
   ]
  },
  {
   "cell_type": "markdown",
   "metadata": {},
   "source": [
    "## State"
   ]
  },
  {
   "cell_type": "code",
   "execution_count": null,
   "metadata": {
    "execution": {
     "iopub.execute_input": "2023-02-08T16:11:43.826554Z",
     "iopub.status.busy": "2023-02-08T16:11:43.825853Z",
     "iopub.status.idle": "2023-02-08T16:11:45.078865Z",
     "shell.execute_reply": "2023-02-08T16:11:45.077587Z"
    }
   },
   "outputs": [],
   "source": [
    "from src import state as state\n",
    "State = state.State(config)"
   ]
  },
  {
   "cell_type": "markdown",
   "metadata": {},
   "source": [
    "## Model"
   ]
  },
  {
   "cell_type": "code",
   "execution_count": null,
   "metadata": {
    "execution": {
     "iopub.execute_input": "2023-02-08T16:11:45.083566Z",
     "iopub.status.busy": "2023-02-08T16:11:45.082997Z",
     "iopub.status.idle": "2023-02-08T16:11:45.567012Z",
     "shell.execute_reply": "2023-02-08T16:11:45.565753Z"
    }
   },
   "outputs": [],
   "source": [
    "from src import mod as mod\n",
    "Model = mod.Model(config,State)"
   ]
  },
  {
   "cell_type": "code",
   "execution_count": null,
   "metadata": {
    "execution": {
     "iopub.execute_input": "2023-02-08T16:11:45.571982Z",
     "iopub.status.busy": "2023-02-08T16:11:45.570924Z",
     "iopub.status.idle": "2023-02-08T16:11:45.746175Z",
     "shell.execute_reply": "2023-02-08T16:11:45.745003Z"
    }
   },
   "outputs": [],
   "source": [
    "from src import bc as bc\n",
    "Bc = bc.Bc(config)"
   ]
  },
  {
   "cell_type": "markdown",
   "metadata": {},
   "source": [
    "## Observations"
   ]
  },
  {
   "cell_type": "code",
   "execution_count": null,
   "metadata": {
    "execution": {
     "iopub.execute_input": "2023-02-08T16:11:45.750885Z",
     "iopub.status.busy": "2023-02-08T16:11:45.750507Z",
     "iopub.status.idle": "2023-02-08T16:11:51.531574Z",
     "shell.execute_reply": "2023-02-08T16:11:51.530456Z"
    }
   },
   "outputs": [],
   "source": [
    "from src import obs as obs\n",
    "dict_obs = obs.Obs(config,State)"
   ]
  },
  {
   "cell_type": "code",
   "execution_count": null,
   "metadata": {
    "execution": {
     "iopub.execute_input": "2023-02-08T16:11:51.536123Z",
     "iopub.status.busy": "2023-02-08T16:11:51.535434Z",
     "iopub.status.idle": "2023-02-08T16:11:52.060122Z",
     "shell.execute_reply": "2023-02-08T16:11:52.058625Z"
    }
   },
   "outputs": [],
   "source": [
    "from src import obsop as obsop\n",
    "Obsop = obsop.Obsop(config,State,dict_obs,Model)"
   ]
  },
  {
   "cell_type": "markdown",
   "metadata": {},
   "source": [
    "## Reduced Basis"
   ]
  },
  {
   "cell_type": "code",
   "execution_count": null,
   "metadata": {
    "execution": {
     "iopub.execute_input": "2023-02-08T16:11:52.065046Z",
     "iopub.status.busy": "2023-02-08T16:11:52.064649Z",
     "iopub.status.idle": "2023-02-08T16:11:52.071889Z",
     "shell.execute_reply": "2023-02-08T16:11:52.070742Z"
    }
   },
   "outputs": [],
   "source": [
    "from src import basis as basis\n",
    "Basis = basis.Basis(config,State)"
   ]
  },
  {
   "cell_type": "markdown",
   "metadata": {},
   "source": [
    "## Assimilation"
   ]
  },
  {
   "cell_type": "code",
   "execution_count": null,
   "metadata": {
    "execution": {
     "iopub.execute_input": "2023-02-08T16:11:52.076140Z",
     "iopub.status.busy": "2023-02-08T16:11:52.075784Z",
     "iopub.status.idle": "2023-02-09T03:02:44.340067Z",
     "shell.execute_reply": "2023-02-09T03:02:44.338710Z"
    }
   },
   "outputs": [],
   "source": [
    "from src import inv as inv\n",
    "inv.Inv(config,State,Model,dict_obs=dict_obs,Obsop=Obsop,Basis=Basis,Bc=Bc)"
   ]
  },
  {
   "cell_type": "markdown",
   "metadata": {},
   "source": [
    "## Diagnostics"
   ]
  },
  {
   "cell_type": "code",
   "execution_count": null,
   "metadata": {
    "execution": {
     "iopub.execute_input": "2023-02-09T03:02:44.344982Z",
     "iopub.status.busy": "2023-02-09T03:02:44.344649Z",
     "iopub.status.idle": "2023-02-09T03:02:57.041697Z",
     "shell.execute_reply": "2023-02-09T03:02:57.040322Z"
    }
   },
   "outputs": [],
   "source": [
    "from src import diag as diag\n",
    "Diag = diag.Diag(config,State)"
   ]
  },
  {
   "cell_type": "code",
   "execution_count": null,
   "metadata": {},
   "outputs": [],
   "source": []
  }
 ],
 "metadata": {
  "kernelspec": {
   "display_name": "massh",
   "language": "python",
   "name": "python3"
  },
  "language_info": {
   "codemirror_mode": {
    "name": "ipython",
    "version": 3
   },
   "file_extension": ".py",
   "mimetype": "text/x-python",
   "name": "python",
   "nbconvert_exporter": "python",
   "pygments_lexer": "ipython3",
   "version": "3.10.9 (main, Jan 11 2023, 15:21:40) [GCC 11.2.0]"
  },
  "vscode": {
   "interpreter": {
    "hash": "984563e4ffd3f593bcb1e9a3d9bd9585f0a60902c24eb7a5e718c1ebf267e079"
   }
  }
 },
 "nbformat": 4,
 "nbformat_minor": 4
}
