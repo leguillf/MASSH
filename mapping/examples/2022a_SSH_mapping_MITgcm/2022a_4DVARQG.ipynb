{
 "cells": [
  {
   "cell_type": "markdown",
   "metadata": {},
   "source": [
    "# 2022a_4DVARQG\n",
    "This notebook, associated to the configuration file *config_2020a_4DVARQG.py* runs a BFN-QG experiment to map SSH from simulated SWOT and Nadir data"
   ]
  },
  {
   "cell_type": "markdown",
   "metadata": {},
   "source": [
    "## Configuration file"
   ]
  },
  {
   "cell_type": "code",
   "execution_count": 1,
   "metadata": {},
   "outputs": [],
   "source": [
    "path_config = 'config_2022a_4DVARQG'"
   ]
  },
  {
   "cell_type": "code",
   "execution_count": 2,
   "metadata": {},
   "outputs": [],
   "source": [
    "import sys\n",
    "sys.path.append('..')"
   ]
  },
  {
   "cell_type": "code",
   "execution_count": 3,
   "metadata": {},
   "outputs": [
    {
     "name": "stdout",
     "output_type": "stream",
     "text": [
      "name_experiment: 2022a_4DVARQG\n",
      "saveoutputs: True\n",
      "name_exp_save: 2022a_4DVARQG\n",
      "path_save: ../outputs/2022a_4DVARQG\n",
      "tmp_DA_path: ../scratch/2022a_4DVARQG\n",
      "init_date: 2012-02-01 00:00:00\n",
      "final_date: 2012-02-10 00:00:00\n",
      "assimilation_time_step: 1:00:00\n",
      "saveoutput_time_step: 12:00:00\n",
      "flag_plot: 1\n",
      "write_obs: True\n",
      "path_obs: ../obs/2022a_4DVARQG\n",
      "name_lon: lon\n",
      "name_lat: lat\n",
      "name_time: time\n",
      "plot_time_step: 1 day, 0:00:00\n",
      "time_obs_min: None\n",
      "time_obs_max: None\n",
      "compute_obs: False\n",
      "\n"
     ]
    }
   ],
   "source": [
    "\n",
    "from src import exp\n",
    "config = exp.Exp(path_config)"
   ]
  },
  {
   "cell_type": "markdown",
   "metadata": {},
   "source": [
    "## State"
   ]
  },
  {
   "cell_type": "code",
   "execution_count": 4,
   "metadata": {},
   "outputs": [
    {
     "name": "stdout",
     "output_type": "stream",
     "text": [
      "super: GRID_CAR\n",
      "lon_min: 230.0\n",
      "lon_max: 239\n",
      "lat_min: 30.0\n",
      "lat_max: 39\n",
      "dx: 25.0\n",
      "name_init_mask: ../aux/aux_mdt_cnes_cls18_global.nc\n",
      "name_var_mask: {'lon': 'longitude', 'lat': 'latitude', 'var': 'mdt'}\n",
      "\n"
     ]
    }
   ],
   "source": [
    "from src import state as state\n",
    "State = state.State(config)"
   ]
  },
  {
   "cell_type": "markdown",
   "metadata": {},
   "source": [
    "## Model"
   ]
  },
  {
   "cell_type": "code",
   "execution_count": 5,
   "metadata": {},
   "outputs": [
    {
     "name": "stdout",
     "output_type": "stream",
     "text": [
      "super: MOD_QG1L_JAX\n",
      "name_var: {'SSH': 'ssh'}\n",
      "name_init_var: {}\n",
      "dir_model: None\n",
      "multiscale: False\n",
      "dtmodel: 1200\n",
      "time_scheme: Euler\n",
      "upwind: 3\n",
      "upwind_adj: None\n",
      "Reynolds: False\n",
      "c0: 2.7\n",
      "filec_aux: None\n",
      "name_var_c: {'lon': '', 'lat': '', 'var': ''}\n",
      "cmin: None\n",
      "cmax: None\n",
      "only_diffusion: False\n",
      "path_mdt: None\n",
      "name_var_mdt: {'lon': '', 'lat': '', 'mdt': '', 'mdu': '', 'mdv': ''}\n",
      "g: 9.81\n",
      "\n"
     ]
    }
   ],
   "source": [
    "from src import mod as mod\n",
    "Model = mod.Model(config,State)"
   ]
  },
  {
   "cell_type": "code",
   "execution_count": 6,
   "metadata": {},
   "outputs": [
    {
     "name": "stdout",
     "output_type": "stream",
     "text": [
      "super: BC_EXT\n",
      "file: ../../data/2022a_mapping_HFdynamic/mdt.nc\n",
      "name_lon: lon\n",
      "name_lat: lat\n",
      "name_time: None\n",
      "name_var: {'SSH': 'ssh'}\n",
      "name_mod_var: {'SSH': 'ssh'}\n",
      "dist_sponge: None\n",
      "\n",
      "<xarray.Dataset>\n",
      "Dimensions:  (lat: 200, lon: 200)\n",
      "Coordinates:\n",
      "  * lat      (lat) float64 20.0 20.1 20.2 20.3 20.4 ... 39.5 39.6 39.7 39.8 39.9\n",
      "  * lon      (lon) float64 220.0 220.1 220.2 220.3 ... 239.6 239.7 239.8 239.9\n",
      "Data variables:\n",
      "    ssh      (lat, lon) float64 dask.array<chunksize=(200, 200), meta=np.ndarray>\n"
     ]
    }
   ],
   "source": [
    "from src import bc as bc\n",
    "Bc = bc.Bc(config)"
   ]
  },
  {
   "cell_type": "markdown",
   "metadata": {},
   "source": [
    "## Observations"
   ]
  },
  {
   "cell_type": "code",
   "execution_count": 7,
   "metadata": {},
   "outputs": [
    {
     "name": "stdout",
     "output_type": "stream",
     "text": [
      "Observation information will be saved in dict_obs_SWOT_ALG_C2_H2G_J2G_J2N_J3_S3A_20120201_20120210_230_239_30_39.txt\n",
      "Reading dict_obs_SWOT_ALG_C2_H2G_J2G_J2N_J3_S3A_20120201_20120210_230_239_30_39.txt from previous run\n"
     ]
    }
   ],
   "source": [
    "from src import obs as obs\n",
    "dict_obs = obs.Obs(config,State)"
   ]
  },
  {
   "cell_type": "code",
   "execution_count": 8,
   "metadata": {},
   "outputs": [
    {
     "name": "stdout",
     "output_type": "stream",
     "text": [
      "super: OBSOP_INTERP\n",
      "path_save: None\n",
      "compute_op: False\n",
      "Npix: 4\n",
      "mask_coast: False\n",
      "dist_coast: 100\n",
      "mask_borders: False\n",
      "\n"
     ]
    }
   ],
   "source": [
    "from src import obsop as obsop\n",
    "Obsop = obsop.Obsop(config,State,dict_obs,Model)"
   ]
  },
  {
   "cell_type": "markdown",
   "metadata": {},
   "source": [
    "## Reduced Basis"
   ]
  },
  {
   "cell_type": "code",
   "execution_count": 9,
   "metadata": {},
   "outputs": [
    {
     "name": "stdout",
     "output_type": "stream",
     "text": [
      "super: BASIS_BM\n",
      "name_mod_var: ssh\n",
      "flux: False\n",
      "save_wave_basis: False\n",
      "wavelet_init: True\n",
      "facns: 1.0\n",
      "facnlt: 2.0\n",
      "npsp: 3.5\n",
      "facpsp: 1.5\n",
      "lmin: 80\n",
      "lmax: 970.0\n",
      "lmeso: 300\n",
      "tmeso: 10\n",
      "sloptdec: -1.0\n",
      "factdec: 0.5\n",
      "tdecmin: 0.0\n",
      "tdecmax: 20.0\n",
      "facQ: 1\n",
      "Qmax: 0.03\n",
      "slopQ: -2\n",
      "\n"
     ]
    }
   ],
   "source": [
    "from src import basis as basis\n",
    "Basis = basis.Basis(config, State)"
   ]
  },
  {
   "cell_type": "markdown",
   "metadata": {},
   "source": [
    "## Assimilation"
   ]
  },
  {
   "cell_type": "code",
   "execution_count": 10,
   "metadata": {},
   "outputs": [
    {
     "name": "stdout",
     "output_type": "stream",
     "text": [
      "super: INV_4DVAR\n",
      "compute_test: False\n",
      "path_init_4Dvar: None\n",
      "restart_4Dvar: True\n",
      "gtol: 0.001\n",
      "maxiter: 0\n",
      "opt_method: L-BFGS-B\n",
      "save_minimization: False\n",
      "timestep_checkpoint: 6:00:00\n",
      "sigma_R: 0.01\n",
      "sigma_B: None\n",
      "prec: True\n",
      "prescribe_background: False\n",
      "bkg_satellite: None\n",
      "path_background: None\n",
      "bkg_Kdiffus: 0.0\n",
      "name_bkg_var: res\n",
      "bkg_maxiter: 30\n",
      "bkg_maxiter_inner: 10\n",
      "largescale_error_ratio: 1\n",
      "only_largescale: False\n",
      "\n",
      "--> 84 checkpoints to evaluate the cost function\n",
      "lambda=9.7E+02 nlocs=4.0E+00 tdec=1.0E+01 Q=2.1E-02\n",
      "lambda=6.8E+02 nlocs=4.0E+00 tdec=1.0E+01 Q=2.1E-02\n",
      "lambda=4.8E+02 nlocs=7.0E+00 tdec=7.9E+00 Q=2.1E-02\n",
      "lambda=3.3E+02 nlocs=9.0E+00 tdec=5.6E+00 Q=2.1E-02\n",
      "lambda=2.3E+02 nlocs=1.4E+01 tdec=3.9E+00 Q=1.3E-02\n",
      "lambda=1.6E+02 nlocs=2.2E+01 tdec=2.7E+00 Q=6.3E-03\n",
      "lambda=1.1E+02 nlocs=3.5E+01 tdec=1.9E+00 Q=3.1E-03\n",
      "lambda=8.0E+01 nlocs=6.7E+01 tdec=1.3E+00 Q=1.5E-03\n"
     ]
    },
    {
     "name": "stderr",
     "output_type": "stream",
     "text": [
      "WARNING:absl:No GPU/TPU found, falling back to CPU. (Set TF_CPP_MIN_LOG_LEVEL=0 and rerun for more info.)\n"
     ]
    },
    {
     "name": "stdout",
     "output_type": "stream",
     "text": [
      "reduced order: 123984 --> 37278\n",
      " reduced factor: 3\n",
      "Restart at: ../scratch/2022a_4DVARQG/X_it-2022-12-01_182341.nc\n",
      "You ask for restart_4Dvar and maxiter==0, so we move directly to the saving of the trajectory\n",
      "\n",
      "*** Saving trajectory ***\n",
      "\n",
      "\n"
     ]
    }
   ],
   "source": [
    "from src import inv as inv\n",
    "inv.Inv(config,State,Model,dict_obs=dict_obs,Obsop=Obsop,Basis=Basis,Bc=Bc)"
   ]
  },
  {
   "cell_type": "markdown",
   "metadata": {},
   "source": [
    "## Diagnostics"
   ]
  },
  {
   "cell_type": "code",
   "execution_count": 11,
   "metadata": {},
   "outputs": [
    {
     "name": "stdout",
     "output_type": "stream",
     "text": [
      "super: DIAG_OSSE\n",
      "dir_output: None\n",
      "time_min: None\n",
      "time_max: None\n",
      "lon_min: None\n",
      "lon_max: None\n",
      "lat_min: None\n",
      "lat_max: None\n",
      "name_ref: ../../data/2022a_mapping_HFdynamic/dc_ref_eval/2022a_SSH_mapping_CalXover_eval*.nc\n",
      "name_ref_time: time\n",
      "name_ref_lon: lon\n",
      "name_ref_lat: lat\n",
      "name_ref_var: ssh\n",
      "options_ref: {'parallel': True}\n",
      "name_exp_var: ssh\n",
      "\n"
     ]
    },
    {
     "ename": "ValueError",
     "evalue": "cannot reindex or align along dimension 'y' because of conflicting dimension sizes: {41, 45}",
     "output_type": "error",
     "traceback": [
      "\u001b[0;31m---------------------------------------------------------------------------\u001b[0m",
      "\u001b[0;31mValueError\u001b[0m                                Traceback (most recent call last)",
      "\u001b[1;32m/home/fleguillou/Dev/MASSH/mapping/examples/2022a_4DVARQG.ipynb Cell 19\u001b[0m in \u001b[0;36m<cell line: 2>\u001b[0;34m()\u001b[0m\n\u001b[1;32m      <a href='vscode-notebook-cell://ssh-remote%2B185.178.86.142/home/fleguillou/Dev/MASSH/mapping/examples/2022a_4DVARQG.ipynb#X24sdnNjb2RlLXJlbW90ZQ%3D%3D?line=0'>1</a>\u001b[0m \u001b[39mfrom\u001b[39;00m \u001b[39msrc\u001b[39;00m \u001b[39mimport\u001b[39;00m diag \u001b[39mas\u001b[39;00m diag\n\u001b[0;32m----> <a href='vscode-notebook-cell://ssh-remote%2B185.178.86.142/home/fleguillou/Dev/MASSH/mapping/examples/2022a_4DVARQG.ipynb#X24sdnNjb2RlLXJlbW90ZQ%3D%3D?line=1'>2</a>\u001b[0m Diag \u001b[39m=\u001b[39m diag\u001b[39m.\u001b[39;49mDiag(config,State)\n",
      "File \u001b[0;32m~/Dev/MASSH/mapping/examples/../src/diag.py:36\u001b[0m, in \u001b[0;36mDiag\u001b[0;34m(config, State)\u001b[0m\n\u001b[1;32m     32\u001b[0m \u001b[39mprint\u001b[39m(config\u001b[39m.\u001b[39mDIAG)\n\u001b[1;32m     35\u001b[0m \u001b[39mif\u001b[39;00m config\u001b[39m.\u001b[39mDIAG\u001b[39m.\u001b[39msuper\u001b[39m==\u001b[39m\u001b[39m'\u001b[39m\u001b[39mDIAG_OSSE\u001b[39m\u001b[39m'\u001b[39m:\n\u001b[0;32m---> 36\u001b[0m     \u001b[39mreturn\u001b[39;00m Diag_osse(config,State)\n\u001b[1;32m     37\u001b[0m \u001b[39melse\u001b[39;00m:\n\u001b[1;32m     38\u001b[0m     sys\u001b[39m.\u001b[39mexit(config\u001b[39m.\u001b[39mDIAG\u001b[39m.\u001b[39msuper \u001b[39m+\u001b[39m \u001b[39m'\u001b[39m\u001b[39m not implemented yet\u001b[39m\u001b[39m'\u001b[39m)\n",
      "File \u001b[0;32m~/Dev/MASSH/mapping/examples/../src/diag.py:126\u001b[0m, in \u001b[0;36mDiag_osse.__init__\u001b[0;34m(self, config, State)\u001b[0m\n\u001b[1;32m    124\u001b[0m \u001b[39mself\u001b[39m\u001b[39m.\u001b[39mname_exp_lat \u001b[39m=\u001b[39m config\u001b[39m.\u001b[39mEXP\u001b[39m.\u001b[39mname_lat\n\u001b[1;32m    125\u001b[0m \u001b[39mself\u001b[39m\u001b[39m.\u001b[39mname_exp_var \u001b[39m=\u001b[39m config\u001b[39m.\u001b[39mDIAG\u001b[39m.\u001b[39mname_exp_var\n\u001b[0;32m--> 126\u001b[0m exp \u001b[39m=\u001b[39m xr\u001b[39m.\u001b[39;49mopen_mfdataset(\u001b[39mf\u001b[39;49m\u001b[39m'\u001b[39;49m\u001b[39m{\u001b[39;49;00mconfig\u001b[39m.\u001b[39;49mEXP\u001b[39m.\u001b[39;49mpath_save\u001b[39m}\u001b[39;49;00m\u001b[39m/\u001b[39;49m\u001b[39m{\u001b[39;49;00mconfig\u001b[39m.\u001b[39;49mEXP\u001b[39m.\u001b[39;49mname_exp_save\u001b[39m}\u001b[39;49;00m\u001b[39m*nc\u001b[39;49m\u001b[39m'\u001b[39;49m)\n\u001b[1;32m    127\u001b[0m exp \u001b[39m=\u001b[39m exp\u001b[39m.\u001b[39massign_coords({\u001b[39mself\u001b[39m\u001b[39m.\u001b[39mname_ref_lon:exp[\u001b[39mself\u001b[39m\u001b[39m.\u001b[39mname_ref_lon]\u001b[39m%\u001b[39m\u001b[39m360\u001b[39m})\n\u001b[1;32m    128\u001b[0m \u001b[39mself\u001b[39m\u001b[39m.\u001b[39mexp \u001b[39m=\u001b[39m exp\u001b[39m.\u001b[39msel(\n\u001b[1;32m    129\u001b[0m     {\u001b[39mself\u001b[39m\u001b[39m.\u001b[39mname_exp_time:\u001b[39mslice\u001b[39m(np\u001b[39m.\u001b[39mdatetime64(\u001b[39mself\u001b[39m\u001b[39m.\u001b[39mtime_min),np\u001b[39m.\u001b[39mdatetime64(\u001b[39mself\u001b[39m\u001b[39m.\u001b[39mtime_max))},\n\u001b[1;32m    130\u001b[0m      )\n",
      "File \u001b[0;32m~/anaconda3/envs/env-plot/lib/python3.10/site-packages/xarray/backends/api.py:1016\u001b[0m, in \u001b[0;36mopen_mfdataset\u001b[0;34m(paths, chunks, concat_dim, compat, preprocess, engine, data_vars, coords, combine, parallel, join, attrs_file, combine_attrs, **kwargs)\u001b[0m\n\u001b[1;32m   1003\u001b[0m     combined \u001b[39m=\u001b[39m _nested_combine(\n\u001b[1;32m   1004\u001b[0m         datasets,\n\u001b[1;32m   1005\u001b[0m         concat_dims\u001b[39m=\u001b[39mconcat_dim,\n\u001b[0;32m   (...)\u001b[0m\n\u001b[1;32m   1011\u001b[0m         combine_attrs\u001b[39m=\u001b[39mcombine_attrs,\n\u001b[1;32m   1012\u001b[0m     )\n\u001b[1;32m   1013\u001b[0m \u001b[39melif\u001b[39;00m combine \u001b[39m==\u001b[39m \u001b[39m\"\u001b[39m\u001b[39mby_coords\u001b[39m\u001b[39m\"\u001b[39m:\n\u001b[1;32m   1014\u001b[0m     \u001b[39m# Redo ordering from coordinates, ignoring how they were ordered\u001b[39;00m\n\u001b[1;32m   1015\u001b[0m     \u001b[39m# previously\u001b[39;00m\n\u001b[0;32m-> 1016\u001b[0m     combined \u001b[39m=\u001b[39m combine_by_coords(\n\u001b[1;32m   1017\u001b[0m         datasets,\n\u001b[1;32m   1018\u001b[0m         compat\u001b[39m=\u001b[39;49mcompat,\n\u001b[1;32m   1019\u001b[0m         data_vars\u001b[39m=\u001b[39;49mdata_vars,\n\u001b[1;32m   1020\u001b[0m         coords\u001b[39m=\u001b[39;49mcoords,\n\u001b[1;32m   1021\u001b[0m         join\u001b[39m=\u001b[39;49mjoin,\n\u001b[1;32m   1022\u001b[0m         combine_attrs\u001b[39m=\u001b[39;49mcombine_attrs,\n\u001b[1;32m   1023\u001b[0m     )\n\u001b[1;32m   1024\u001b[0m \u001b[39melse\u001b[39;00m:\n\u001b[1;32m   1025\u001b[0m     \u001b[39mraise\u001b[39;00m \u001b[39mValueError\u001b[39;00m(\n\u001b[1;32m   1026\u001b[0m         \u001b[39m\"\u001b[39m\u001b[39m{}\u001b[39;00m\u001b[39m is an invalid option for the keyword argument\u001b[39m\u001b[39m\"\u001b[39m\n\u001b[1;32m   1027\u001b[0m         \u001b[39m\"\u001b[39m\u001b[39m ``combine``\u001b[39m\u001b[39m\"\u001b[39m\u001b[39m.\u001b[39mformat(combine)\n\u001b[1;32m   1028\u001b[0m     )\n",
      "File \u001b[0;32m~/anaconda3/envs/env-plot/lib/python3.10/site-packages/xarray/core/combine.py:982\u001b[0m, in \u001b[0;36mcombine_by_coords\u001b[0;34m(data_objects, compat, data_vars, coords, fill_value, join, combine_attrs, datasets)\u001b[0m\n\u001b[1;32m    980\u001b[0m     concatenated_grouped_by_data_vars \u001b[39m=\u001b[39m []\n\u001b[1;32m    981\u001b[0m     \u001b[39mfor\u001b[39;00m \u001b[39mvars\u001b[39m, datasets_with_same_vars \u001b[39min\u001b[39;00m grouped_by_vars:\n\u001b[0;32m--> 982\u001b[0m         concatenated \u001b[39m=\u001b[39m _combine_single_variable_hypercube(\n\u001b[1;32m    983\u001b[0m             \u001b[39mlist\u001b[39;49m(datasets_with_same_vars),\n\u001b[1;32m    984\u001b[0m             fill_value\u001b[39m=\u001b[39;49mfill_value,\n\u001b[1;32m    985\u001b[0m             data_vars\u001b[39m=\u001b[39;49mdata_vars,\n\u001b[1;32m    986\u001b[0m             coords\u001b[39m=\u001b[39;49mcoords,\n\u001b[1;32m    987\u001b[0m             compat\u001b[39m=\u001b[39;49mcompat,\n\u001b[1;32m    988\u001b[0m             join\u001b[39m=\u001b[39;49mjoin,\n\u001b[1;32m    989\u001b[0m             combine_attrs\u001b[39m=\u001b[39;49mcombine_attrs,\n\u001b[1;32m    990\u001b[0m         )\n\u001b[1;32m    991\u001b[0m         concatenated_grouped_by_data_vars\u001b[39m.\u001b[39mappend(concatenated)\n\u001b[1;32m    993\u001b[0m \u001b[39mreturn\u001b[39;00m merge(\n\u001b[1;32m    994\u001b[0m     concatenated_grouped_by_data_vars,\n\u001b[1;32m    995\u001b[0m     compat\u001b[39m=\u001b[39mcompat,\n\u001b[0;32m   (...)\u001b[0m\n\u001b[1;32m    998\u001b[0m     combine_attrs\u001b[39m=\u001b[39mcombine_attrs,\n\u001b[1;32m    999\u001b[0m )\n",
      "File \u001b[0;32m~/anaconda3/envs/env-plot/lib/python3.10/site-packages/xarray/core/combine.py:640\u001b[0m, in \u001b[0;36m_combine_single_variable_hypercube\u001b[0;34m(datasets, fill_value, data_vars, coords, compat, join, combine_attrs)\u001b[0m\n\u001b[1;32m    637\u001b[0m     _check_dimension_depth_tile_ids(combined_ids)\n\u001b[1;32m    639\u001b[0m \u001b[39m# Concatenate along all of concat_dims one by one to create single ds\u001b[39;00m\n\u001b[0;32m--> 640\u001b[0m concatenated \u001b[39m=\u001b[39m _combine_nd(\n\u001b[1;32m    641\u001b[0m     combined_ids,\n\u001b[1;32m    642\u001b[0m     concat_dims\u001b[39m=\u001b[39;49mconcat_dims,\n\u001b[1;32m    643\u001b[0m     data_vars\u001b[39m=\u001b[39;49mdata_vars,\n\u001b[1;32m    644\u001b[0m     coords\u001b[39m=\u001b[39;49mcoords,\n\u001b[1;32m    645\u001b[0m     compat\u001b[39m=\u001b[39;49mcompat,\n\u001b[1;32m    646\u001b[0m     fill_value\u001b[39m=\u001b[39;49mfill_value,\n\u001b[1;32m    647\u001b[0m     join\u001b[39m=\u001b[39;49mjoin,\n\u001b[1;32m    648\u001b[0m     combine_attrs\u001b[39m=\u001b[39;49mcombine_attrs,\n\u001b[1;32m    649\u001b[0m )\n\u001b[1;32m    651\u001b[0m \u001b[39m# Check the overall coordinates are monotonically increasing\u001b[39;00m\n\u001b[1;32m    652\u001b[0m \u001b[39mfor\u001b[39;00m dim \u001b[39min\u001b[39;00m concat_dims:\n",
      "File \u001b[0;32m~/anaconda3/envs/env-plot/lib/python3.10/site-packages/xarray/core/combine.py:239\u001b[0m, in \u001b[0;36m_combine_nd\u001b[0;34m(combined_ids, concat_dims, data_vars, coords, compat, fill_value, join, combine_attrs)\u001b[0m\n\u001b[1;32m    235\u001b[0m \u001b[39m# Each iteration of this loop reduces the length of the tile_ids tuples\u001b[39;00m\n\u001b[1;32m    236\u001b[0m \u001b[39m# by one. It always combines along the first dimension, removing the first\u001b[39;00m\n\u001b[1;32m    237\u001b[0m \u001b[39m# element of the tuple\u001b[39;00m\n\u001b[1;32m    238\u001b[0m \u001b[39mfor\u001b[39;00m concat_dim \u001b[39min\u001b[39;00m concat_dims:\n\u001b[0;32m--> 239\u001b[0m     combined_ids \u001b[39m=\u001b[39m _combine_all_along_first_dim(\n\u001b[1;32m    240\u001b[0m         combined_ids,\n\u001b[1;32m    241\u001b[0m         dim\u001b[39m=\u001b[39;49mconcat_dim,\n\u001b[1;32m    242\u001b[0m         data_vars\u001b[39m=\u001b[39;49mdata_vars,\n\u001b[1;32m    243\u001b[0m         coords\u001b[39m=\u001b[39;49mcoords,\n\u001b[1;32m    244\u001b[0m         compat\u001b[39m=\u001b[39;49mcompat,\n\u001b[1;32m    245\u001b[0m         fill_value\u001b[39m=\u001b[39;49mfill_value,\n\u001b[1;32m    246\u001b[0m         join\u001b[39m=\u001b[39;49mjoin,\n\u001b[1;32m    247\u001b[0m         combine_attrs\u001b[39m=\u001b[39;49mcombine_attrs,\n\u001b[1;32m    248\u001b[0m     )\n\u001b[1;32m    249\u001b[0m (combined_ds,) \u001b[39m=\u001b[39m combined_ids\u001b[39m.\u001b[39mvalues()\n\u001b[1;32m    250\u001b[0m \u001b[39mreturn\u001b[39;00m combined_ds\n",
      "File \u001b[0;32m~/anaconda3/envs/env-plot/lib/python3.10/site-packages/xarray/core/combine.py:275\u001b[0m, in \u001b[0;36m_combine_all_along_first_dim\u001b[0;34m(combined_ids, dim, data_vars, coords, compat, fill_value, join, combine_attrs)\u001b[0m\n\u001b[1;32m    273\u001b[0m     combined_ids \u001b[39m=\u001b[39m \u001b[39mdict\u001b[39m(\u001b[39msorted\u001b[39m(group))\n\u001b[1;32m    274\u001b[0m     datasets \u001b[39m=\u001b[39m combined_ids\u001b[39m.\u001b[39mvalues()\n\u001b[0;32m--> 275\u001b[0m     new_combined_ids[new_id] \u001b[39m=\u001b[39m _combine_1d(\n\u001b[1;32m    276\u001b[0m         datasets, dim, compat, data_vars, coords, fill_value, join, combine_attrs\n\u001b[1;32m    277\u001b[0m     )\n\u001b[1;32m    278\u001b[0m \u001b[39mreturn\u001b[39;00m new_combined_ids\n",
      "File \u001b[0;32m~/anaconda3/envs/env-plot/lib/python3.10/site-packages/xarray/core/combine.py:298\u001b[0m, in \u001b[0;36m_combine_1d\u001b[0;34m(datasets, concat_dim, compat, data_vars, coords, fill_value, join, combine_attrs)\u001b[0m\n\u001b[1;32m    296\u001b[0m \u001b[39mif\u001b[39;00m concat_dim \u001b[39mis\u001b[39;00m \u001b[39mnot\u001b[39;00m \u001b[39mNone\u001b[39;00m:\n\u001b[1;32m    297\u001b[0m     \u001b[39mtry\u001b[39;00m:\n\u001b[0;32m--> 298\u001b[0m         combined \u001b[39m=\u001b[39m concat(\n\u001b[1;32m    299\u001b[0m             datasets,\n\u001b[1;32m    300\u001b[0m             dim\u001b[39m=\u001b[39;49mconcat_dim,\n\u001b[1;32m    301\u001b[0m             data_vars\u001b[39m=\u001b[39;49mdata_vars,\n\u001b[1;32m    302\u001b[0m             coords\u001b[39m=\u001b[39;49mcoords,\n\u001b[1;32m    303\u001b[0m             compat\u001b[39m=\u001b[39;49mcompat,\n\u001b[1;32m    304\u001b[0m             fill_value\u001b[39m=\u001b[39;49mfill_value,\n\u001b[1;32m    305\u001b[0m             join\u001b[39m=\u001b[39;49mjoin,\n\u001b[1;32m    306\u001b[0m             combine_attrs\u001b[39m=\u001b[39;49mcombine_attrs,\n\u001b[1;32m    307\u001b[0m         )\n\u001b[1;32m    308\u001b[0m     \u001b[39mexcept\u001b[39;00m \u001b[39mValueError\u001b[39;00m \u001b[39mas\u001b[39;00m err:\n\u001b[1;32m    309\u001b[0m         \u001b[39mif\u001b[39;00m \u001b[39m\"\u001b[39m\u001b[39mencountered unexpected variable\u001b[39m\u001b[39m\"\u001b[39m \u001b[39min\u001b[39;00m \u001b[39mstr\u001b[39m(err):\n",
      "File \u001b[0;32m~/anaconda3/envs/env-plot/lib/python3.10/site-packages/xarray/core/concat.py:243\u001b[0m, in \u001b[0;36mconcat\u001b[0;34m(objs, dim, data_vars, coords, compat, positions, fill_value, join, combine_attrs)\u001b[0m\n\u001b[1;32m    231\u001b[0m     \u001b[39mreturn\u001b[39;00m _dataarray_concat(\n\u001b[1;32m    232\u001b[0m         objs,\n\u001b[1;32m    233\u001b[0m         dim\u001b[39m=\u001b[39mdim,\n\u001b[0;32m   (...)\u001b[0m\n\u001b[1;32m    240\u001b[0m         combine_attrs\u001b[39m=\u001b[39mcombine_attrs,\n\u001b[1;32m    241\u001b[0m     )\n\u001b[1;32m    242\u001b[0m \u001b[39melif\u001b[39;00m \u001b[39misinstance\u001b[39m(first_obj, Dataset):\n\u001b[0;32m--> 243\u001b[0m     \u001b[39mreturn\u001b[39;00m _dataset_concat(\n\u001b[1;32m    244\u001b[0m         objs,\n\u001b[1;32m    245\u001b[0m         dim\u001b[39m=\u001b[39;49mdim,\n\u001b[1;32m    246\u001b[0m         data_vars\u001b[39m=\u001b[39;49mdata_vars,\n\u001b[1;32m    247\u001b[0m         coords\u001b[39m=\u001b[39;49mcoords,\n\u001b[1;32m    248\u001b[0m         compat\u001b[39m=\u001b[39;49mcompat,\n\u001b[1;32m    249\u001b[0m         positions\u001b[39m=\u001b[39;49mpositions,\n\u001b[1;32m    250\u001b[0m         fill_value\u001b[39m=\u001b[39;49mfill_value,\n\u001b[1;32m    251\u001b[0m         join\u001b[39m=\u001b[39;49mjoin,\n\u001b[1;32m    252\u001b[0m         combine_attrs\u001b[39m=\u001b[39;49mcombine_attrs,\n\u001b[1;32m    253\u001b[0m     )\n\u001b[1;32m    254\u001b[0m \u001b[39melse\u001b[39;00m:\n\u001b[1;32m    255\u001b[0m     \u001b[39mraise\u001b[39;00m \u001b[39mTypeError\u001b[39;00m(\n\u001b[1;32m    256\u001b[0m         \u001b[39m\"\u001b[39m\u001b[39mcan only concatenate xarray Dataset and DataArray \u001b[39m\u001b[39m\"\u001b[39m\n\u001b[1;32m    257\u001b[0m         \u001b[39mf\u001b[39m\u001b[39m\"\u001b[39m\u001b[39mobjects, got \u001b[39m\u001b[39m{\u001b[39;00m\u001b[39mtype\u001b[39m(first_obj)\u001b[39m}\u001b[39;00m\u001b[39m\"\u001b[39m\n\u001b[1;32m    258\u001b[0m     )\n",
      "File \u001b[0;32m~/anaconda3/envs/env-plot/lib/python3.10/site-packages/xarray/core/concat.py:466\u001b[0m, in \u001b[0;36m_dataset_concat\u001b[0;34m(datasets, dim, data_vars, coords, compat, positions, fill_value, join, combine_attrs)\u001b[0m\n\u001b[1;32m    463\u001b[0m \u001b[39m# Make sure we're working on a copy (we'll be loading variables)\u001b[39;00m\n\u001b[1;32m    464\u001b[0m datasets \u001b[39m=\u001b[39m [ds\u001b[39m.\u001b[39mcopy() \u001b[39mfor\u001b[39;00m ds \u001b[39min\u001b[39;00m datasets]\n\u001b[1;32m    465\u001b[0m datasets \u001b[39m=\u001b[39m \u001b[39mlist\u001b[39m(\n\u001b[0;32m--> 466\u001b[0m     align(\u001b[39m*\u001b[39;49mdatasets, join\u001b[39m=\u001b[39;49mjoin, copy\u001b[39m=\u001b[39;49m\u001b[39mFalse\u001b[39;49;00m, exclude\u001b[39m=\u001b[39;49m[dim], fill_value\u001b[39m=\u001b[39;49mfill_value)\n\u001b[1;32m    467\u001b[0m )\n\u001b[1;32m    469\u001b[0m dim_coords, dims_sizes, coord_names, data_names \u001b[39m=\u001b[39m _parse_datasets(datasets)\n\u001b[1;32m    470\u001b[0m dim_names \u001b[39m=\u001b[39m \u001b[39mset\u001b[39m(dim_coords)\n",
      "File \u001b[0;32m~/anaconda3/envs/env-plot/lib/python3.10/site-packages/xarray/core/alignment.py:764\u001b[0m, in \u001b[0;36malign\u001b[0;34m(join, copy, indexes, exclude, fill_value, *objects)\u001b[0m\n\u001b[1;32m    568\u001b[0m \u001b[39m\"\"\"\u001b[39;00m\n\u001b[1;32m    569\u001b[0m \u001b[39mGiven any number of Dataset and/or DataArray objects, returns new\u001b[39;00m\n\u001b[1;32m    570\u001b[0m \u001b[39mobjects with aligned indexes and dimension sizes.\u001b[39;00m\n\u001b[0;32m   (...)\u001b[0m\n\u001b[1;32m    754\u001b[0m \n\u001b[1;32m    755\u001b[0m \u001b[39m\"\"\"\u001b[39;00m\n\u001b[1;32m    756\u001b[0m aligner \u001b[39m=\u001b[39m Aligner(\n\u001b[1;32m    757\u001b[0m     objects,\n\u001b[1;32m    758\u001b[0m     join\u001b[39m=\u001b[39mjoin,\n\u001b[0;32m   (...)\u001b[0m\n\u001b[1;32m    762\u001b[0m     fill_value\u001b[39m=\u001b[39mfill_value,\n\u001b[1;32m    763\u001b[0m )\n\u001b[0;32m--> 764\u001b[0m aligner\u001b[39m.\u001b[39;49malign()\n\u001b[1;32m    765\u001b[0m \u001b[39mreturn\u001b[39;00m aligner\u001b[39m.\u001b[39mresults\n",
      "File \u001b[0;32m~/anaconda3/envs/env-plot/lib/python3.10/site-packages/xarray/core/alignment.py:552\u001b[0m, in \u001b[0;36mAligner.align\u001b[0;34m(self)\u001b[0m\n\u001b[1;32m    550\u001b[0m \u001b[39mself\u001b[39m\u001b[39m.\u001b[39massert_no_index_conflict()\n\u001b[1;32m    551\u001b[0m \u001b[39mself\u001b[39m\u001b[39m.\u001b[39malign_indexes()\n\u001b[0;32m--> 552\u001b[0m \u001b[39mself\u001b[39;49m\u001b[39m.\u001b[39;49massert_unindexed_dim_sizes_equal()\n\u001b[1;32m    554\u001b[0m \u001b[39mif\u001b[39;00m \u001b[39mself\u001b[39m\u001b[39m.\u001b[39mjoin \u001b[39m==\u001b[39m \u001b[39m\"\u001b[39m\u001b[39moverride\u001b[39m\u001b[39m\"\u001b[39m:\n\u001b[1;32m    555\u001b[0m     \u001b[39mself\u001b[39m\u001b[39m.\u001b[39moverride_indexes()\n",
      "File \u001b[0;32m~/anaconda3/envs/env-plot/lib/python3.10/site-packages/xarray/core/alignment.py:452\u001b[0m, in \u001b[0;36mAligner.assert_unindexed_dim_sizes_equal\u001b[0;34m(self)\u001b[0m\n\u001b[1;32m    450\u001b[0m     add_err_msg \u001b[39m=\u001b[39m \u001b[39m\"\u001b[39m\u001b[39m\"\u001b[39m\n\u001b[1;32m    451\u001b[0m \u001b[39mif\u001b[39;00m \u001b[39mlen\u001b[39m(sizes) \u001b[39m>\u001b[39m \u001b[39m1\u001b[39m:\n\u001b[0;32m--> 452\u001b[0m     \u001b[39mraise\u001b[39;00m \u001b[39mValueError\u001b[39;00m(\n\u001b[1;32m    453\u001b[0m         \u001b[39mf\u001b[39m\u001b[39m\"\u001b[39m\u001b[39mcannot reindex or align along dimension \u001b[39m\u001b[39m{\u001b[39;00mdim\u001b[39m!r}\u001b[39;00m\u001b[39m \u001b[39m\u001b[39m\"\u001b[39m\n\u001b[1;32m    454\u001b[0m         \u001b[39mf\u001b[39m\u001b[39m\"\u001b[39m\u001b[39mbecause of conflicting dimension sizes: \u001b[39m\u001b[39m{\u001b[39;00msizes\u001b[39m!r}\u001b[39;00m\u001b[39m\"\u001b[39m \u001b[39m+\u001b[39m add_err_msg\n\u001b[1;32m    455\u001b[0m     )\n",
      "\u001b[0;31mValueError\u001b[0m: cannot reindex or align along dimension 'y' because of conflicting dimension sizes: {41, 45}"
     ]
    }
   ],
   "source": [
    "from src import diag as diag\n",
    "Diag = diag.Diag(config,State)"
   ]
  },
  {
   "cell_type": "code",
   "execution_count": null,
   "metadata": {},
   "outputs": [],
   "source": [
    "Diag.regrid_exp()"
   ]
  },
  {
   "cell_type": "code",
   "execution_count": null,
   "metadata": {},
   "outputs": [],
   "source": [
    "Diag.rmse_based_scores(plot=True)"
   ]
  },
  {
   "cell_type": "code",
   "execution_count": null,
   "metadata": {},
   "outputs": [],
   "source": [
    "Diag.psd_based_scores(plot=True)"
   ]
  },
  {
   "cell_type": "code",
   "execution_count": null,
   "metadata": {},
   "outputs": [],
   "source": [
    "Diag.movie(framerate=12,clim=(0,.5),range_err=.2)"
   ]
  },
  {
   "cell_type": "code",
   "execution_count": null,
   "metadata": {},
   "outputs": [],
   "source": [
    "import os\n",
    "from IPython.display import Video\n",
    "Video(os.path.join(Diag.dir_output, 'movie.mp4'))"
   ]
  },
  {
   "cell_type": "code",
   "execution_count": null,
   "metadata": {},
   "outputs": [],
   "source": [
    "Leaderboard = Diag.Leaderboard()\n",
    "Leaderboard"
   ]
  }
 ],
 "metadata": {
  "kernelspec": {
   "display_name": "Python 3.10.4 ('env-plot': conda)",
   "language": "python",
   "name": "python3"
  },
  "language_info": {
   "codemirror_mode": {
    "name": "ipython",
    "version": 3
   },
   "file_extension": ".py",
   "mimetype": "text/x-python",
   "name": "python",
   "nbconvert_exporter": "python",
   "pygments_lexer": "ipython3",
   "version": "3.10.4"
  },
  "vscode": {
   "interpreter": {
    "hash": "78b767bc73e83775d284238556dee940a86bc4d5d535f6dfd44ceeea93cd0788"
   }
  }
 },
 "nbformat": 4,
 "nbformat_minor": 4
}
