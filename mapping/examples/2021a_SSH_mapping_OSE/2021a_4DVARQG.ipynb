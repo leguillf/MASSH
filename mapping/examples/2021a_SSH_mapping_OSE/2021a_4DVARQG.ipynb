{
 "cells": [
  {
   "attachments": {},
   "cell_type": "markdown",
   "metadata": {},
   "source": [
    "# 2021a_4DVARQG\n",
    "This notebook, associated to the configuration file *config_2021a_4DVARQG.py* runs a BFN-QG experiment to map SSH from real nadir data"
   ]
  },
  {
   "cell_type": "markdown",
   "metadata": {},
   "source": [
    "## Configuration file"
   ]
  },
  {
   "cell_type": "code",
   "execution_count": 1,
   "metadata": {
    "execution": {
     "iopub.execute_input": "2023-02-21T10:56:23.559033Z",
     "iopub.status.busy": "2023-02-21T10:56:23.558702Z",
     "iopub.status.idle": "2023-02-21T10:56:23.567227Z",
     "shell.execute_reply": "2023-02-21T10:56:23.566291Z"
    }
   },
   "outputs": [],
   "source": [
    "path_config = 'config_2021a_4DVARQG.py'"
   ]
  },
  {
   "cell_type": "code",
   "execution_count": 2,
   "metadata": {
    "execution": {
     "iopub.execute_input": "2023-02-21T10:56:23.571208Z",
     "iopub.status.busy": "2023-02-21T10:56:23.570881Z",
     "iopub.status.idle": "2023-02-21T10:56:23.575226Z",
     "shell.execute_reply": "2023-02-21T10:56:23.574289Z"
    }
   },
   "outputs": [],
   "source": [
    "import sys\n",
    "sys.path.append('../..')"
   ]
  },
  {
   "cell_type": "code",
   "execution_count": 3,
   "metadata": {
    "execution": {
     "iopub.execute_input": "2023-02-21T10:56:23.579072Z",
     "iopub.status.busy": "2023-02-21T10:56:23.578745Z",
     "iopub.status.idle": "2023-02-21T10:56:23.593981Z",
     "shell.execute_reply": "2023-02-21T10:56:23.592965Z"
    }
   },
   "outputs": [
    {
     "name": "stdout",
     "output_type": "stream",
     "text": [
      "name_experiment: 2021a_4DVARQG\n",
      "saveoutputs: True\n",
      "name_exp_save: 2021a_4DVARQG\n",
      "path_save: outputs/2021a_4DVARQG\n",
      "tmp_DA_path: scratch/2021a_4DVARQG\n",
      "init_date: 2017-10-01 00:00:00\n",
      "final_date: 2017-12-15 00:00:00\n",
      "assimilation_time_step: 6:00:00\n",
      "saveoutput_time_step: 6:00:00\n",
      "flag_plot: 0\n",
      "name_lon: lon\n",
      "name_lat: lat\n",
      "name_time: time\n",
      "plot_time_step: 1 day, 0:00:00\n",
      "time_obs_min: None\n",
      "time_obs_max: None\n",
      "write_obs: False\n",
      "compute_obs: False\n",
      "path_obs: None\n",
      "\n"
     ]
    }
   ],
   "source": [
    "\n",
    "from src import exp\n",
    "config = exp.Exp(path_config)"
   ]
  },
  {
   "cell_type": "markdown",
   "metadata": {},
   "source": [
    "## State"
   ]
  },
  {
   "cell_type": "code",
   "execution_count": 4,
   "metadata": {
    "execution": {
     "iopub.execute_input": "2023-02-21T10:56:23.631887Z",
     "iopub.status.busy": "2023-02-21T10:56:23.631472Z",
     "iopub.status.idle": "2023-02-21T10:56:24.805815Z",
     "shell.execute_reply": "2023-02-21T10:56:24.804649Z"
    }
   },
   "outputs": [
    {
     "name": "stdout",
     "output_type": "stream",
     "text": [
      "super: GRID_CAR\n",
      "lon_min: 295.25\n",
      "lon_max: 304.75\n",
      "lat_min: 33.25\n",
      "lat_max: 42.75\n",
      "dx: 10.0\n",
      "name_init_mask: None\n",
      "name_var_mask: {'lon': '', 'lat': '', 'var': ''}\n",
      "\n"
     ]
    }
   ],
   "source": [
    "from src import state as state\n",
    "State = state.State(config)"
   ]
  },
  {
   "cell_type": "markdown",
   "metadata": {},
   "source": [
    "## Model"
   ]
  },
  {
   "cell_type": "code",
   "execution_count": 5,
   "metadata": {
    "execution": {
     "iopub.execute_input": "2023-02-21T10:56:24.810370Z",
     "iopub.status.busy": "2023-02-21T10:56:24.809843Z",
     "iopub.status.idle": "2023-02-21T10:56:25.278501Z",
     "shell.execute_reply": "2023-02-21T10:56:25.274931Z"
    }
   },
   "outputs": [
    {
     "name": "stdout",
     "output_type": "stream",
     "text": [
      "super: MOD_QG1L_JAX\n",
      "name_var: {'SSH': 'ssh'}\n",
      "init_from_bc: True\n",
      "name_init_var: {}\n",
      "dir_model: None\n",
      "var_to_save: None\n",
      "multiscale: False\n",
      "advect_tracer: False\n",
      "dtmodel: 1200\n",
      "time_scheme: rk2\n",
      "upwind: 3\n",
      "upwind_adj: None\n",
      "Reynolds: False\n",
      "c0: 2.7\n",
      "filec_aux: None\n",
      "name_var_c: {'lon': '', 'lat': '', 'var': ''}\n",
      "cmin: None\n",
      "cmax: None\n",
      "only_diffusion: False\n",
      "path_mdt: None\n",
      "name_var_mdt: {'lon': '', 'lat': '', 'mdt': '', 'mdu': '', 'mdv': ''}\n",
      "g: 9.81\n",
      "\n"
     ]
    }
   ],
   "source": [
    "from src import mod as mod\n",
    "Model = mod.Model(config,State)"
   ]
  },
  {
   "cell_type": "code",
   "execution_count": 6,
   "metadata": {
    "execution": {
     "iopub.execute_input": "2023-02-21T10:56:25.282947Z",
     "iopub.status.busy": "2023-02-21T10:56:25.282424Z",
     "iopub.status.idle": "2023-02-21T10:56:25.455805Z",
     "shell.execute_reply": "2023-02-21T10:56:25.454689Z"
    }
   },
   "outputs": [
    {
     "name": "stdout",
     "output_type": "stream",
     "text": [
      "super: BC_EXT\n",
      "file: data/OSE_ssh_mapping_DUACS.nc\n",
      "name_lon: lon\n",
      "name_lat: lat\n",
      "name_time: time\n",
      "name_var: {'SSH': 'ssh'}\n",
      "dist_sponge: None\n",
      "\n",
      "<xarray.Dataset>\n",
      "Dimensions:  (lat: 40, lon: 40, time: 365)\n",
      "Coordinates:\n",
      "  * lat      (lat) float64 33.12 33.38 33.62 33.88 ... 42.12 42.38 42.62 42.88\n",
      "  * lon      (lon) float64 295.1 295.4 295.6 295.9 ... 304.1 304.4 304.6 304.9\n",
      "  * time     (time) datetime64[ns] 2017-01-01 2017-01-02 ... 2017-12-31\n",
      "Data variables:\n",
      "    ssh      (time, lat, lon) float64 dask.array<chunksize=(365, 40, 40), meta=np.ndarray>\n",
      "Attributes:\n",
      "    FileType:      GRID_DOTS\n",
      "    OriginalName:  dt_upd_global_merged_msla_h_20170101_20170101_20190823.nc\n",
      "    CreatedBy:     ballarm@node036.sis.cnes.fr\n",
      "    CreatedOn:     23-AUG-2019 11:21:19:000000\n",
      "    title:         SSALTO/DUACS - DT MSLA - Merged Product - Up-to-date Globa...\n",
      "    history:       2019/08/23 11:21:19 ballarm@node036.sis.cnes.fr Import dep...\n"
     ]
    }
   ],
   "source": [
    "from src import bc as bc\n",
    "Bc = bc.Bc(config)"
   ]
  },
  {
   "cell_type": "markdown",
   "metadata": {},
   "source": [
    "## Observations"
   ]
  },
  {
   "cell_type": "code",
   "execution_count": 7,
   "metadata": {
    "execution": {
     "iopub.execute_input": "2023-02-21T10:56:25.460034Z",
     "iopub.status.busy": "2023-02-21T10:56:25.459670Z",
     "iopub.status.idle": "2023-02-21T10:58:19.280312Z",
     "shell.execute_reply": "2023-02-21T10:58:19.279152Z"
    }
   },
   "outputs": [
    {
     "name": "stdout",
     "output_type": "stream",
     "text": [
      "Observation information will be saved in dict_obs_ALG_H2G_J2G_J2N_J3_S3A_20171001_20171215_295_304_33_42.txt\n",
      "\n",
      "ALG:\n",
      "super: OBS_SSH_NADIR\n",
      "path: data/dt_gulfstream_alg_phy_l3_20161201-20180131_285-315_23-53.nc\n",
      "name_time: time\n",
      "name_lon: longitude\n",
      "name_lat: latitude\n",
      "name_var: {'SSH': 'sla_filtered'}\n",
      "varmax: 100.0\n",
      "sigma_noise: None\n",
      "add_mdt: True\n",
      "substract_mdt: None\n",
      "path_mdt: ../../aux/aux_mdt_cnes_cls18_global.nc\n",
      "name_var_mdt: {'lon': 'longitude', 'lat': 'latitude', 'mdt': 'mdt'}\n",
      "nudging_params_ssh: None\n",
      "detrend: False\n",
      "\n"
     ]
    },
    {
     "ename": "KeyboardInterrupt",
     "evalue": "",
     "output_type": "error",
     "traceback": [
      "\u001b[0;31m---------------------------------------------------------------------------\u001b[0m",
      "\u001b[0;31mKeyboardInterrupt\u001b[0m                         Traceback (most recent call last)",
      "Cell \u001b[0;32mIn[7], line 2\u001b[0m\n\u001b[1;32m      1\u001b[0m \u001b[39mfrom\u001b[39;00m \u001b[39msrc\u001b[39;00m \u001b[39mimport\u001b[39;00m obs \u001b[39mas\u001b[39;00m obs\n\u001b[0;32m----> 2\u001b[0m dict_obs \u001b[39m=\u001b[39m obs\u001b[39m.\u001b[39;49mObs(config,State)\n",
      "File \u001b[0;32m~/Dev/MASSH/mapping/examples/2021a_SSH_mapping_OSE/../../src/obs.py:112\u001b[0m, in \u001b[0;36mObs\u001b[0;34m(config, State, *args, **kwargs)\u001b[0m\n\u001b[1;32m    110\u001b[0m \u001b[39m# Run subfunction specific to the kind of satellite\u001b[39;00m\n\u001b[1;32m    111\u001b[0m \u001b[39mif\u001b[39;00m OBS\u001b[39m.\u001b[39msuper \u001b[39min\u001b[39;00m [\u001b[39m'\u001b[39m\u001b[39mOBS_SSH_NADIR\u001b[39m\u001b[39m'\u001b[39m,\u001b[39m'\u001b[39m\u001b[39mOBS_SSH_SWATH\u001b[39m\u001b[39m'\u001b[39m]:\n\u001b[0;32m--> 112\u001b[0m     _obs_alti(ds, assim_dates, dict_obs, name_obs, OBS, \n\u001b[1;32m    113\u001b[0m                         config\u001b[39m.\u001b[39;49mEXP\u001b[39m.\u001b[39;49massimilation_time_step, \n\u001b[1;32m    114\u001b[0m                         config\u001b[39m.\u001b[39;49mEXP\u001b[39m.\u001b[39;49mtmp_DA_path,bbox)\n\u001b[1;32m    115\u001b[0m \u001b[39melif\u001b[39;00m OBS\u001b[39m.\u001b[39msuper\u001b[39m==\u001b[39m\u001b[39m'\u001b[39m\u001b[39mOBS_MODEL\u001b[39m\u001b[39m'\u001b[39m:\n\u001b[1;32m    116\u001b[0m     _obs_model(ds, assim_dates, dict_obs, name_obs, OBS, \n\u001b[1;32m    117\u001b[0m                         config\u001b[39m.\u001b[39mEXP\u001b[39m.\u001b[39massimilation_time_step, \n\u001b[1;32m    118\u001b[0m                         config\u001b[39m.\u001b[39mEXP\u001b[39m.\u001b[39mtmp_DA_path,bbox)\n",
      "File \u001b[0;32m~/Dev/MASSH/mapping/examples/2021a_SSH_mapping_OSE/../../src/obs.py:147\u001b[0m, in \u001b[0;36m_obs_alti\u001b[0;34m(ds, dt_list, dict_obs, obs_name, obs_attr, dt_timestep, out_path, bbox)\u001b[0m\n\u001b[1;32m    145\u001b[0m lon_obs \u001b[39m=\u001b[39m ds[obs_attr\u001b[39m.\u001b[39mname_lon] \u001b[39m%\u001b[39m \u001b[39m360\u001b[39m\n\u001b[1;32m    146\u001b[0m lat_obs \u001b[39m=\u001b[39m ds[obs_attr\u001b[39m.\u001b[39mname_lat]\n\u001b[0;32m--> 147\u001b[0m ds \u001b[39m=\u001b[39m ds\u001b[39m.\u001b[39;49mwhere((bbox[\u001b[39m0\u001b[39;49m]\u001b[39m<\u001b[39;49m\u001b[39m=\u001b[39;49mlon_obs) \u001b[39m&\u001b[39;49m (bbox[\u001b[39m1\u001b[39;49m]\u001b[39m>\u001b[39;49m\u001b[39m=\u001b[39;49mlon_obs) \u001b[39m&\u001b[39;49m \n\u001b[1;32m    148\u001b[0m               (bbox[\u001b[39m2\u001b[39;49m]\u001b[39m<\u001b[39;49m\u001b[39m=\u001b[39;49mlat_obs) \u001b[39m&\u001b[39;49m (bbox[\u001b[39m3\u001b[39;49m]\u001b[39m>\u001b[39;49m\u001b[39m=\u001b[39;49mlat_obs), drop\u001b[39m=\u001b[39;49m\u001b[39mTrue\u001b[39;49;00m)\n\u001b[1;32m    150\u001b[0m \u001b[39m# MDT \u001b[39;00m\n\u001b[1;32m    151\u001b[0m \u001b[39mif\u001b[39;00m \u001b[39mTrue\u001b[39;00m \u001b[39min\u001b[39;00m [obs_attr\u001b[39m.\u001b[39madd_mdt,obs_attr\u001b[39m.\u001b[39msubstract_mdt]:\n",
      "File \u001b[0;32m~/anaconda3/envs/massh/lib/python3.10/site-packages/xarray/core/common.py:1100\u001b[0m, in \u001b[0;36mDataWithCoords.where\u001b[0;34m(self, cond, other, drop)\u001b[0m\n\u001b[1;32m   1097\u001b[0m     \u001b[39mself\u001b[39m \u001b[39m=\u001b[39m \u001b[39mself\u001b[39m\u001b[39m.\u001b[39misel(\u001b[39m*\u001b[39m\u001b[39m*\u001b[39mindexers)\n\u001b[1;32m   1098\u001b[0m     cond \u001b[39m=\u001b[39m cond\u001b[39m.\u001b[39misel(\u001b[39m*\u001b[39m\u001b[39m*\u001b[39mindexers)\n\u001b[0;32m-> 1100\u001b[0m \u001b[39mreturn\u001b[39;00m ops\u001b[39m.\u001b[39;49mwhere_method(\u001b[39mself\u001b[39;49m, cond, other)\n",
      "File \u001b[0;32m~/anaconda3/envs/massh/lib/python3.10/site-packages/xarray/core/ops.py:177\u001b[0m, in \u001b[0;36mwhere_method\u001b[0;34m(self, cond, other)\u001b[0m\n\u001b[1;32m    175\u001b[0m \u001b[39m# alignment for three arguments is complicated, so don't support it yet\u001b[39;00m\n\u001b[1;32m    176\u001b[0m join \u001b[39m=\u001b[39m \u001b[39m\"\u001b[39m\u001b[39minner\u001b[39m\u001b[39m\"\u001b[39m \u001b[39mif\u001b[39;00m other \u001b[39mis\u001b[39;00m dtypes\u001b[39m.\u001b[39mNA \u001b[39melse\u001b[39;00m \u001b[39m\"\u001b[39m\u001b[39mexact\u001b[39m\u001b[39m\"\u001b[39m\n\u001b[0;32m--> 177\u001b[0m \u001b[39mreturn\u001b[39;00m apply_ufunc(\n\u001b[1;32m    178\u001b[0m     duck_array_ops\u001b[39m.\u001b[39;49mwhere_method,\n\u001b[1;32m    179\u001b[0m     \u001b[39mself\u001b[39;49m,\n\u001b[1;32m    180\u001b[0m     cond,\n\u001b[1;32m    181\u001b[0m     other,\n\u001b[1;32m    182\u001b[0m     join\u001b[39m=\u001b[39;49mjoin,\n\u001b[1;32m    183\u001b[0m     dataset_join\u001b[39m=\u001b[39;49mjoin,\n\u001b[1;32m    184\u001b[0m     dask\u001b[39m=\u001b[39;49m\u001b[39m\"\u001b[39;49m\u001b[39mallowed\u001b[39;49m\u001b[39m\"\u001b[39;49m,\n\u001b[1;32m    185\u001b[0m     keep_attrs\u001b[39m=\u001b[39;49m\u001b[39mTrue\u001b[39;49;00m,\n\u001b[1;32m    186\u001b[0m )\n",
      "File \u001b[0;32m~/anaconda3/envs/massh/lib/python3.10/site-packages/xarray/core/computation.py:1192\u001b[0m, in \u001b[0;36mapply_ufunc\u001b[0;34m(func, input_core_dims, output_core_dims, exclude_dims, vectorize, join, dataset_join, dataset_fill_value, keep_attrs, kwargs, dask, output_dtypes, output_sizes, meta, dask_gufunc_kwargs, *args)\u001b[0m\n\u001b[1;32m   1190\u001b[0m \u001b[39m# feed datasets apply_variable_ufunc through apply_dataset_vfunc\u001b[39;00m\n\u001b[1;32m   1191\u001b[0m \u001b[39melif\u001b[39;00m \u001b[39many\u001b[39m(is_dict_like(a) \u001b[39mfor\u001b[39;00m a \u001b[39min\u001b[39;00m args):\n\u001b[0;32m-> 1192\u001b[0m     \u001b[39mreturn\u001b[39;00m apply_dataset_vfunc(\n\u001b[1;32m   1193\u001b[0m         variables_vfunc,\n\u001b[1;32m   1194\u001b[0m         \u001b[39m*\u001b[39;49margs,\n\u001b[1;32m   1195\u001b[0m         signature\u001b[39m=\u001b[39;49msignature,\n\u001b[1;32m   1196\u001b[0m         join\u001b[39m=\u001b[39;49mjoin,\n\u001b[1;32m   1197\u001b[0m         exclude_dims\u001b[39m=\u001b[39;49mexclude_dims,\n\u001b[1;32m   1198\u001b[0m         dataset_join\u001b[39m=\u001b[39;49mdataset_join,\n\u001b[1;32m   1199\u001b[0m         fill_value\u001b[39m=\u001b[39;49mdataset_fill_value,\n\u001b[1;32m   1200\u001b[0m         keep_attrs\u001b[39m=\u001b[39;49mkeep_attrs,\n\u001b[1;32m   1201\u001b[0m     )\n\u001b[1;32m   1202\u001b[0m \u001b[39m# feed DataArray apply_variable_ufunc through apply_dataarray_vfunc\u001b[39;00m\n\u001b[1;32m   1203\u001b[0m \u001b[39melif\u001b[39;00m \u001b[39many\u001b[39m(\u001b[39misinstance\u001b[39m(a, DataArray) \u001b[39mfor\u001b[39;00m a \u001b[39min\u001b[39;00m args):\n",
      "File \u001b[0;32m~/anaconda3/envs/massh/lib/python3.10/site-packages/xarray/core/computation.py:480\u001b[0m, in \u001b[0;36mapply_dataset_vfunc\u001b[0;34m(func, signature, join, dataset_join, fill_value, exclude_dims, keep_attrs, *args)\u001b[0m\n\u001b[1;32m    475\u001b[0m list_of_coords, list_of_indexes \u001b[39m=\u001b[39m build_output_coords_and_indexes(\n\u001b[1;32m    476\u001b[0m     args, signature, exclude_dims, combine_attrs\u001b[39m=\u001b[39mkeep_attrs\n\u001b[1;32m    477\u001b[0m )\n\u001b[1;32m    478\u001b[0m args \u001b[39m=\u001b[39m \u001b[39mtuple\u001b[39m(\u001b[39mgetattr\u001b[39m(arg, \u001b[39m\"\u001b[39m\u001b[39mdata_vars\u001b[39m\u001b[39m\"\u001b[39m, arg) \u001b[39mfor\u001b[39;00m arg \u001b[39min\u001b[39;00m args)\n\u001b[0;32m--> 480\u001b[0m result_vars \u001b[39m=\u001b[39m apply_dict_of_variables_vfunc(\n\u001b[1;32m    481\u001b[0m     func, \u001b[39m*\u001b[39;49margs, signature\u001b[39m=\u001b[39;49msignature, join\u001b[39m=\u001b[39;49mdataset_join, fill_value\u001b[39m=\u001b[39;49mfill_value\n\u001b[1;32m    482\u001b[0m )\n\u001b[1;32m    484\u001b[0m out: Dataset \u001b[39m|\u001b[39m \u001b[39mtuple\u001b[39m[Dataset, \u001b[39m.\u001b[39m\u001b[39m.\u001b[39m\u001b[39m.\u001b[39m]\n\u001b[1;32m    485\u001b[0m \u001b[39mif\u001b[39;00m signature\u001b[39m.\u001b[39mnum_outputs \u001b[39m>\u001b[39m \u001b[39m1\u001b[39m:\n",
      "File \u001b[0;32m~/anaconda3/envs/massh/lib/python3.10/site-packages/xarray/core/computation.py:422\u001b[0m, in \u001b[0;36mapply_dict_of_variables_vfunc\u001b[0;34m(func, signature, join, fill_value, *args)\u001b[0m\n\u001b[1;32m    420\u001b[0m result_vars \u001b[39m=\u001b[39m {}\n\u001b[1;32m    421\u001b[0m \u001b[39mfor\u001b[39;00m name, variable_args \u001b[39min\u001b[39;00m \u001b[39mzip\u001b[39m(names, grouped_by_name):\n\u001b[0;32m--> 422\u001b[0m     result_vars[name] \u001b[39m=\u001b[39m func(\u001b[39m*\u001b[39;49mvariable_args)\n\u001b[1;32m    424\u001b[0m \u001b[39mif\u001b[39;00m signature\u001b[39m.\u001b[39mnum_outputs \u001b[39m>\u001b[39m \u001b[39m1\u001b[39m:\n\u001b[1;32m    425\u001b[0m     \u001b[39mreturn\u001b[39;00m _unpack_dict_tuples(result_vars, signature\u001b[39m.\u001b[39mnum_outputs)\n",
      "File \u001b[0;32m~/anaconda3/envs/massh/lib/python3.10/site-packages/xarray/core/computation.py:683\u001b[0m, in \u001b[0;36mapply_variable_ufunc\u001b[0;34m(func, signature, exclude_dims, dask, output_dtypes, vectorize, keep_attrs, dask_gufunc_kwargs, *args)\u001b[0m\n\u001b[1;32m    678\u001b[0m broadcast_dims \u001b[39m=\u001b[39m \u001b[39mtuple\u001b[39m(\n\u001b[1;32m    679\u001b[0m     dim \u001b[39mfor\u001b[39;00m dim \u001b[39min\u001b[39;00m dim_sizes \u001b[39mif\u001b[39;00m dim \u001b[39mnot\u001b[39;00m \u001b[39min\u001b[39;00m signature\u001b[39m.\u001b[39mall_core_dims\n\u001b[1;32m    680\u001b[0m )\n\u001b[1;32m    681\u001b[0m output_dims \u001b[39m=\u001b[39m [broadcast_dims \u001b[39m+\u001b[39m out \u001b[39mfor\u001b[39;00m out \u001b[39min\u001b[39;00m signature\u001b[39m.\u001b[39moutput_core_dims]\n\u001b[0;32m--> 683\u001b[0m input_data \u001b[39m=\u001b[39m [\n\u001b[1;32m    684\u001b[0m     broadcast_compat_data(arg, broadcast_dims, core_dims)\n\u001b[1;32m    685\u001b[0m     \u001b[39mif\u001b[39;00m \u001b[39misinstance\u001b[39m(arg, Variable)\n\u001b[1;32m    686\u001b[0m     \u001b[39melse\u001b[39;00m arg\n\u001b[1;32m    687\u001b[0m     \u001b[39mfor\u001b[39;00m arg, core_dims \u001b[39min\u001b[39;00m \u001b[39mzip\u001b[39m(args, signature\u001b[39m.\u001b[39minput_core_dims)\n\u001b[1;32m    688\u001b[0m ]\n\u001b[1;32m    690\u001b[0m \u001b[39mif\u001b[39;00m \u001b[39many\u001b[39m(is_duck_dask_array(array) \u001b[39mfor\u001b[39;00m array \u001b[39min\u001b[39;00m input_data):\n\u001b[1;32m    691\u001b[0m     \u001b[39mif\u001b[39;00m dask \u001b[39m==\u001b[39m \u001b[39m\"\u001b[39m\u001b[39mforbidden\u001b[39m\u001b[39m\"\u001b[39m:\n",
      "File \u001b[0;32m~/anaconda3/envs/massh/lib/python3.10/site-packages/xarray/core/computation.py:684\u001b[0m, in \u001b[0;36m<listcomp>\u001b[0;34m(.0)\u001b[0m\n\u001b[1;32m    678\u001b[0m broadcast_dims \u001b[39m=\u001b[39m \u001b[39mtuple\u001b[39m(\n\u001b[1;32m    679\u001b[0m     dim \u001b[39mfor\u001b[39;00m dim \u001b[39min\u001b[39;00m dim_sizes \u001b[39mif\u001b[39;00m dim \u001b[39mnot\u001b[39;00m \u001b[39min\u001b[39;00m signature\u001b[39m.\u001b[39mall_core_dims\n\u001b[1;32m    680\u001b[0m )\n\u001b[1;32m    681\u001b[0m output_dims \u001b[39m=\u001b[39m [broadcast_dims \u001b[39m+\u001b[39m out \u001b[39mfor\u001b[39;00m out \u001b[39min\u001b[39;00m signature\u001b[39m.\u001b[39moutput_core_dims]\n\u001b[1;32m    683\u001b[0m input_data \u001b[39m=\u001b[39m [\n\u001b[0;32m--> 684\u001b[0m     broadcast_compat_data(arg, broadcast_dims, core_dims)\n\u001b[1;32m    685\u001b[0m     \u001b[39mif\u001b[39;00m \u001b[39misinstance\u001b[39m(arg, Variable)\n\u001b[1;32m    686\u001b[0m     \u001b[39melse\u001b[39;00m arg\n\u001b[1;32m    687\u001b[0m     \u001b[39mfor\u001b[39;00m arg, core_dims \u001b[39min\u001b[39;00m \u001b[39mzip\u001b[39m(args, signature\u001b[39m.\u001b[39minput_core_dims)\n\u001b[1;32m    688\u001b[0m ]\n\u001b[1;32m    690\u001b[0m \u001b[39mif\u001b[39;00m \u001b[39many\u001b[39m(is_duck_dask_array(array) \u001b[39mfor\u001b[39;00m array \u001b[39min\u001b[39;00m input_data):\n\u001b[1;32m    691\u001b[0m     \u001b[39mif\u001b[39;00m dask \u001b[39m==\u001b[39m \u001b[39m\"\u001b[39m\u001b[39mforbidden\u001b[39m\u001b[39m\"\u001b[39m:\n",
      "File \u001b[0;32m~/anaconda3/envs/massh/lib/python3.10/site-packages/xarray/core/computation.py:599\u001b[0m, in \u001b[0;36mbroadcast_compat_data\u001b[0;34m(variable, broadcast_dims, core_dims)\u001b[0m\n\u001b[1;32m    594\u001b[0m \u001b[39mdef\u001b[39;00m \u001b[39mbroadcast_compat_data\u001b[39m(\n\u001b[1;32m    595\u001b[0m     variable: Variable,\n\u001b[1;32m    596\u001b[0m     broadcast_dims: \u001b[39mtuple\u001b[39m[Hashable, \u001b[39m.\u001b[39m\u001b[39m.\u001b[39m\u001b[39m.\u001b[39m],\n\u001b[1;32m    597\u001b[0m     core_dims: \u001b[39mtuple\u001b[39m[Hashable, \u001b[39m.\u001b[39m\u001b[39m.\u001b[39m\u001b[39m.\u001b[39m],\n\u001b[1;32m    598\u001b[0m ) \u001b[39m-\u001b[39m\u001b[39m>\u001b[39m Any:\n\u001b[0;32m--> 599\u001b[0m     data \u001b[39m=\u001b[39m variable\u001b[39m.\u001b[39;49mdata\n\u001b[1;32m    601\u001b[0m     old_dims \u001b[39m=\u001b[39m variable\u001b[39m.\u001b[39mdims\n\u001b[1;32m    602\u001b[0m     new_dims \u001b[39m=\u001b[39m broadcast_dims \u001b[39m+\u001b[39m core_dims\n",
      "File \u001b[0;32m~/anaconda3/envs/massh/lib/python3.10/site-packages/xarray/core/variable.py:435\u001b[0m, in \u001b[0;36mVariable.data\u001b[0;34m(self)\u001b[0m\n\u001b[1;32m    433\u001b[0m     \u001b[39mreturn\u001b[39;00m \u001b[39mself\u001b[39m\u001b[39m.\u001b[39m_data\n\u001b[1;32m    434\u001b[0m \u001b[39melse\u001b[39;00m:\n\u001b[0;32m--> 435\u001b[0m     \u001b[39mreturn\u001b[39;00m \u001b[39mself\u001b[39;49m\u001b[39m.\u001b[39;49mvalues\n",
      "File \u001b[0;32m~/anaconda3/envs/massh/lib/python3.10/site-packages/xarray/core/variable.py:608\u001b[0m, in \u001b[0;36mVariable.values\u001b[0;34m(self)\u001b[0m\n\u001b[1;32m    605\u001b[0m \u001b[39m@property\u001b[39m\n\u001b[1;32m    606\u001b[0m \u001b[39mdef\u001b[39;00m \u001b[39mvalues\u001b[39m(\u001b[39mself\u001b[39m):\n\u001b[1;32m    607\u001b[0m     \u001b[39m\"\"\"The variable's data as a numpy.ndarray\"\"\"\u001b[39;00m\n\u001b[0;32m--> 608\u001b[0m     \u001b[39mreturn\u001b[39;00m _as_array_or_item(\u001b[39mself\u001b[39;49m\u001b[39m.\u001b[39;49m_data)\n",
      "File \u001b[0;32m~/anaconda3/envs/massh/lib/python3.10/site-packages/xarray/core/variable.py:314\u001b[0m, in \u001b[0;36m_as_array_or_item\u001b[0;34m(data)\u001b[0m\n\u001b[1;32m    300\u001b[0m \u001b[39mdef\u001b[39;00m \u001b[39m_as_array_or_item\u001b[39m(data):\n\u001b[1;32m    301\u001b[0m     \u001b[39m\"\"\"Return the given values as a numpy array, or as an individual item if\u001b[39;00m\n\u001b[1;32m    302\u001b[0m \u001b[39m    it's a 0d datetime64 or timedelta64 array.\u001b[39;00m\n\u001b[1;32m    303\u001b[0m \n\u001b[0;32m   (...)\u001b[0m\n\u001b[1;32m    312\u001b[0m \u001b[39m    TODO: remove this (replace with np.asarray) once these issues are fixed\u001b[39;00m\n\u001b[1;32m    313\u001b[0m \u001b[39m    \"\"\"\u001b[39;00m\n\u001b[0;32m--> 314\u001b[0m     data \u001b[39m=\u001b[39m np\u001b[39m.\u001b[39;49masarray(data)\n\u001b[1;32m    315\u001b[0m     \u001b[39mif\u001b[39;00m data\u001b[39m.\u001b[39mndim \u001b[39m==\u001b[39m \u001b[39m0\u001b[39m:\n\u001b[1;32m    316\u001b[0m         \u001b[39mif\u001b[39;00m data\u001b[39m.\u001b[39mdtype\u001b[39m.\u001b[39mkind \u001b[39m==\u001b[39m \u001b[39m\"\u001b[39m\u001b[39mM\u001b[39m\u001b[39m\"\u001b[39m:\n",
      "File \u001b[0;32m~/anaconda3/envs/massh/lib/python3.10/site-packages/xarray/core/indexing.py:653\u001b[0m, in \u001b[0;36mMemoryCachedArray.__array__\u001b[0;34m(self, dtype)\u001b[0m\n\u001b[1;32m    652\u001b[0m \u001b[39mdef\u001b[39;00m \u001b[39m__array__\u001b[39m(\u001b[39mself\u001b[39m, dtype\u001b[39m=\u001b[39m\u001b[39mNone\u001b[39;00m):\n\u001b[0;32m--> 653\u001b[0m     \u001b[39mself\u001b[39;49m\u001b[39m.\u001b[39;49m_ensure_cached()\n\u001b[1;32m    654\u001b[0m     \u001b[39mreturn\u001b[39;00m np\u001b[39m.\u001b[39masarray(\u001b[39mself\u001b[39m\u001b[39m.\u001b[39marray, dtype\u001b[39m=\u001b[39mdtype)\n",
      "File \u001b[0;32m~/anaconda3/envs/massh/lib/python3.10/site-packages/xarray/core/indexing.py:650\u001b[0m, in \u001b[0;36mMemoryCachedArray._ensure_cached\u001b[0;34m(self)\u001b[0m\n\u001b[1;32m    648\u001b[0m \u001b[39mdef\u001b[39;00m \u001b[39m_ensure_cached\u001b[39m(\u001b[39mself\u001b[39m):\n\u001b[1;32m    649\u001b[0m     \u001b[39mif\u001b[39;00m \u001b[39mnot\u001b[39;00m \u001b[39misinstance\u001b[39m(\u001b[39mself\u001b[39m\u001b[39m.\u001b[39marray, NumpyIndexingAdapter):\n\u001b[0;32m--> 650\u001b[0m         \u001b[39mself\u001b[39m\u001b[39m.\u001b[39marray \u001b[39m=\u001b[39m NumpyIndexingAdapter(np\u001b[39m.\u001b[39;49masarray(\u001b[39mself\u001b[39;49m\u001b[39m.\u001b[39;49marray))\n",
      "File \u001b[0;32m~/anaconda3/envs/massh/lib/python3.10/site-packages/xarray/core/indexing.py:623\u001b[0m, in \u001b[0;36mCopyOnWriteArray.__array__\u001b[0;34m(self, dtype)\u001b[0m\n\u001b[1;32m    622\u001b[0m \u001b[39mdef\u001b[39;00m \u001b[39m__array__\u001b[39m(\u001b[39mself\u001b[39m, dtype\u001b[39m=\u001b[39m\u001b[39mNone\u001b[39;00m):\n\u001b[0;32m--> 623\u001b[0m     \u001b[39mreturn\u001b[39;00m np\u001b[39m.\u001b[39;49masarray(\u001b[39mself\u001b[39;49m\u001b[39m.\u001b[39;49marray, dtype\u001b[39m=\u001b[39;49mdtype)\n",
      "File \u001b[0;32m~/anaconda3/envs/massh/lib/python3.10/site-packages/xarray/core/indexing.py:524\u001b[0m, in \u001b[0;36mLazilyIndexedArray.__array__\u001b[0;34m(self, dtype)\u001b[0m\n\u001b[1;32m    522\u001b[0m \u001b[39mdef\u001b[39;00m \u001b[39m__array__\u001b[39m(\u001b[39mself\u001b[39m, dtype\u001b[39m=\u001b[39m\u001b[39mNone\u001b[39;00m):\n\u001b[1;32m    523\u001b[0m     array \u001b[39m=\u001b[39m as_indexable(\u001b[39mself\u001b[39m\u001b[39m.\u001b[39marray)\n\u001b[0;32m--> 524\u001b[0m     \u001b[39mreturn\u001b[39;00m np\u001b[39m.\u001b[39masarray(array[\u001b[39mself\u001b[39;49m\u001b[39m.\u001b[39;49mkey], dtype\u001b[39m=\u001b[39m\u001b[39mNone\u001b[39;00m)\n",
      "File \u001b[0;32m~/anaconda3/envs/massh/lib/python3.10/site-packages/xarray/backends/netCDF4_.py:85\u001b[0m, in \u001b[0;36mNetCDF4ArrayWrapper.__getitem__\u001b[0;34m(self, key)\u001b[0m\n\u001b[1;32m     84\u001b[0m \u001b[39mdef\u001b[39;00m \u001b[39m__getitem__\u001b[39m(\u001b[39mself\u001b[39m, key):\n\u001b[0;32m---> 85\u001b[0m     \u001b[39mreturn\u001b[39;00m indexing\u001b[39m.\u001b[39;49mexplicit_indexing_adapter(\n\u001b[1;32m     86\u001b[0m         key, \u001b[39mself\u001b[39;49m\u001b[39m.\u001b[39;49mshape, indexing\u001b[39m.\u001b[39;49mIndexingSupport\u001b[39m.\u001b[39;49mOUTER, \u001b[39mself\u001b[39;49m\u001b[39m.\u001b[39;49m_getitem\n\u001b[1;32m     87\u001b[0m     )\n",
      "File \u001b[0;32m~/anaconda3/envs/massh/lib/python3.10/site-packages/xarray/core/indexing.py:815\u001b[0m, in \u001b[0;36mexplicit_indexing_adapter\u001b[0;34m(key, shape, indexing_support, raw_indexing_method)\u001b[0m\n\u001b[1;32m    793\u001b[0m \u001b[39m\"\"\"Support explicit indexing by delegating to a raw indexing method.\u001b[39;00m\n\u001b[1;32m    794\u001b[0m \n\u001b[1;32m    795\u001b[0m \u001b[39mOuter and/or vectorized indexers are supported by indexing a second time\u001b[39;00m\n\u001b[0;32m   (...)\u001b[0m\n\u001b[1;32m    812\u001b[0m \u001b[39mIndexing result, in the form of a duck numpy-array.\u001b[39;00m\n\u001b[1;32m    813\u001b[0m \u001b[39m\"\"\"\u001b[39;00m\n\u001b[1;32m    814\u001b[0m raw_key, numpy_indices \u001b[39m=\u001b[39m decompose_indexer(key, shape, indexing_support)\n\u001b[0;32m--> 815\u001b[0m result \u001b[39m=\u001b[39m raw_indexing_method(raw_key\u001b[39m.\u001b[39;49mtuple)\n\u001b[1;32m    816\u001b[0m \u001b[39mif\u001b[39;00m numpy_indices\u001b[39m.\u001b[39mtuple:\n\u001b[1;32m    817\u001b[0m     \u001b[39m# index the loaded np.ndarray\u001b[39;00m\n\u001b[1;32m    818\u001b[0m     result \u001b[39m=\u001b[39m NumpyIndexingAdapter(np\u001b[39m.\u001b[39masarray(result))[numpy_indices]\n",
      "File \u001b[0;32m~/anaconda3/envs/massh/lib/python3.10/site-packages/xarray/backends/netCDF4_.py:98\u001b[0m, in \u001b[0;36mNetCDF4ArrayWrapper._getitem\u001b[0;34m(self, key)\u001b[0m\n\u001b[1;32m     96\u001b[0m     \u001b[39mwith\u001b[39;00m \u001b[39mself\u001b[39m\u001b[39m.\u001b[39mdatastore\u001b[39m.\u001b[39mlock:\n\u001b[1;32m     97\u001b[0m         original_array \u001b[39m=\u001b[39m \u001b[39mself\u001b[39m\u001b[39m.\u001b[39mget_array(needs_lock\u001b[39m=\u001b[39m\u001b[39mFalse\u001b[39;00m)\n\u001b[0;32m---> 98\u001b[0m         array \u001b[39m=\u001b[39m getitem(original_array, key)\n\u001b[1;32m     99\u001b[0m \u001b[39mexcept\u001b[39;00m \u001b[39mIndexError\u001b[39;00m:\n\u001b[1;32m    100\u001b[0m     \u001b[39m# Catch IndexError in netCDF4 and return a more informative\u001b[39;00m\n\u001b[1;32m    101\u001b[0m     \u001b[39m# error message.  This is most often called when an unsorted\u001b[39;00m\n\u001b[1;32m    102\u001b[0m     \u001b[39m# indexer is used before the data is loaded from disk.\u001b[39;00m\n\u001b[1;32m    103\u001b[0m     msg \u001b[39m=\u001b[39m (\n\u001b[1;32m    104\u001b[0m         \u001b[39m\"\u001b[39m\u001b[39mThe indexing operation you are attempting to perform \u001b[39m\u001b[39m\"\u001b[39m\n\u001b[1;32m    105\u001b[0m         \u001b[39m\"\u001b[39m\u001b[39mis not valid on netCDF4.Variable object. Try loading \u001b[39m\u001b[39m\"\u001b[39m\n\u001b[1;32m    106\u001b[0m         \u001b[39m\"\u001b[39m\u001b[39myour data into memory first by calling .load().\u001b[39m\u001b[39m\"\u001b[39m\n\u001b[1;32m    107\u001b[0m     )\n",
      "\u001b[0;31mKeyboardInterrupt\u001b[0m: "
     ]
    }
   ],
   "source": [
    "from src import obs as obs\n",
    "dict_obs = obs.Obs(config,State)"
   ]
  },
  {
   "cell_type": "code",
   "execution_count": null,
   "metadata": {
    "execution": {
     "iopub.execute_input": "2023-02-21T10:58:19.284684Z",
     "iopub.status.busy": "2023-02-21T10:58:19.284298Z",
     "iopub.status.idle": "2023-02-21T10:58:19.754491Z",
     "shell.execute_reply": "2023-02-21T10:58:19.753224Z"
    }
   },
   "outputs": [],
   "source": [
    "from src import obsop as obsop\n",
    "Obsop = obsop.Obsop(config,State,dict_obs,Model)"
   ]
  },
  {
   "cell_type": "markdown",
   "metadata": {},
   "source": [
    "## Reduced Basis"
   ]
  },
  {
   "cell_type": "code",
   "execution_count": null,
   "metadata": {
    "execution": {
     "iopub.execute_input": "2023-02-21T10:58:19.758947Z",
     "iopub.status.busy": "2023-02-21T10:58:19.758581Z",
     "iopub.status.idle": "2023-02-21T10:58:19.766411Z",
     "shell.execute_reply": "2023-02-21T10:58:19.765439Z"
    }
   },
   "outputs": [],
   "source": [
    "from src import basis as basis\n",
    "Basis = basis.Basis(config,State)"
   ]
  },
  {
   "cell_type": "markdown",
   "metadata": {},
   "source": [
    "## Assimilation"
   ]
  },
  {
   "cell_type": "code",
   "execution_count": null,
   "metadata": {
    "execution": {
     "iopub.execute_input": "2023-02-21T10:58:19.770343Z",
     "iopub.status.busy": "2023-02-21T10:58:19.770003Z",
     "iopub.status.idle": "2023-02-21T20:09:26.582576Z",
     "shell.execute_reply": "2023-02-21T20:09:26.581410Z"
    }
   },
   "outputs": [],
   "source": [
    "from src import inv as inv\n",
    "inv.Inv(config,State,Model,dict_obs=dict_obs,Obsop=Obsop,Basis=Basis,Bc=Bc)"
   ]
  },
  {
   "cell_type": "markdown",
   "metadata": {},
   "source": [
    "## Diagnostics"
   ]
  },
  {
   "cell_type": "code",
   "execution_count": null,
   "metadata": {
    "execution": {
     "iopub.execute_input": "2023-02-21T20:09:26.587195Z",
     "iopub.status.busy": "2023-02-21T20:09:26.586843Z",
     "iopub.status.idle": "2023-02-21T20:09:26.594185Z",
     "shell.execute_reply": "2023-02-21T20:09:26.593220Z"
    }
   },
   "outputs": [],
   "source": [
    "from src import diag as diag\n",
    "Diag = diag.Diag(config,State)"
   ]
  },
  {
   "cell_type": "code",
   "execution_count": null,
   "metadata": {},
   "outputs": [],
   "source": [
    "Diag.regrid_exp()"
   ]
  },
  {
   "cell_type": "code",
   "execution_count": null,
   "metadata": {},
   "outputs": [],
   "source": [
    "Diag.rmse_based_scores(plot=True)"
   ]
  },
  {
   "cell_type": "code",
   "execution_count": null,
   "metadata": {},
   "outputs": [],
   "source": [
    "Diag.psd_based_scores(plot=True)"
   ]
  }
 ],
 "metadata": {
  "kernelspec": {
   "display_name": "massh",
   "language": "python",
   "name": "python3"
  },
  "language_info": {
   "codemirror_mode": {
    "name": "ipython",
    "version": 3
   },
   "file_extension": ".py",
   "mimetype": "text/x-python",
   "name": "python",
   "nbconvert_exporter": "python",
   "pygments_lexer": "ipython3",
   "version": "3.10.9"
  },
  "vscode": {
   "interpreter": {
    "hash": "984563e4ffd3f593bcb1e9a3d9bd9585f0a60902c24eb7a5e718c1ebf267e079"
   }
  }
 },
 "nbformat": 4,
 "nbformat_minor": 4
}
