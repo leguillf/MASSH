{
 "cells": [
  {
   "cell_type": "markdown",
   "metadata": {},
   "source": [
    "# Data Challenge 2021a : Data Access"
   ]
  },
  {
   "cell_type": "markdown",
   "metadata": {},
   "source": [
    "This notebook aims at documenting how to access & manipulate the input datasets for one \"ocean data challenge\".\n",
    "Real Sea Surface Height (SSH) datasets are available on the AVISO+ opendap server.\n",
    "The **2021a-SSH-mapping-OSE-along-track** corresponds to the observations datasets based on the year 2017 nadir altimeter constellation (SARAL/Altika, Cryosat-2, Jason-2, Jason-3, Sentinel-3A, Haiyang-2). These data are distributed by the Copernicus Marine Service ([CMEMS](https://resources.marine.copernicus.eu/?option=com_csw&view=details&product_id=SEALEVEL_GLO_PHY_L3_REP_OBSERVATIONS_008_062)), here only an extraction of the data over the Gulfstream region is provided.\n",
    "The example below read the dataset using the ```wget``` command to download the files. Note that users must first create an AVISO+ account to access the data. You can follow [this guide](https://github.com/ocean-data-challenges/2020a_SSH_mapping_NATL60/wiki/AVISO---account-creation) for creating your account... "
   ]
  },
  {
   "cell_type": "code",
   "execution_count": 1,
   "metadata": {},
   "outputs": [],
   "source": [
    "# Create data directory \n",
    "!mkdir data"
   ]
  },
  {
   "cell_type": "code",
   "execution_count": 2,
   "metadata": {},
   "outputs": [
    {
     "name": "stdout",
     "output_type": "stream",
     "text": [
      "--2024-09-12 09:44:25--  https://tds.aviso.altimetry.fr/thredds/fileServer/2021a-SSH-mapping-OSE-along-track-data/dt_gulfstream_alg_phy_l3_20161201-20180131_285-315_23-53.nc\n",
      "Resolving tds.aviso.altimetry.fr (tds.aviso.altimetry.fr)... 91.207.20.235\n",
      "Connecting to tds.aviso.altimetry.fr (tds.aviso.altimetry.fr)|91.207.20.235|:443... connected.\n",
      "HTTP request sent, awaiting response... 401 Unauthorized\n",
      "Authentication selected: Basic realm=\"Ldap Authentification\"\n",
      "Reusing existing connection to tds.aviso.altimetry.fr:443.\n",
      "HTTP request sent, awaiting response... 200 \n",
      "Length: 22496760 (21M) [application/x-netcdf]\n",
      "Saving to: ‘dt_gulfstream_alg_phy_l3_20161201-20180131_285-315_23-53.nc’\n",
      "\n",
      "dt_gulfstream_alg_p 100%[===================>]  21.45M  3.11MB/s    in 7.0s    \n",
      "\n",
      "2024-09-12 09:44:33 (3.05 MB/s) - ‘dt_gulfstream_alg_phy_l3_20161201-20180131_285-315_23-53.nc’ saved [22496760/22496760]\n",
      "\n",
      "--2024-09-12 09:44:33--  https://tds.aviso.altimetry.fr/thredds/fileServer/2021a-SSH-mapping-OSE-along-track-data/dt_gulfstream_c2_phy_l3_20161201-20180131_285-315_23-53.nc\n",
      "Resolving tds.aviso.altimetry.fr (tds.aviso.altimetry.fr)... 91.207.20.235\n",
      "Connecting to tds.aviso.altimetry.fr (tds.aviso.altimetry.fr)|91.207.20.235|:443... connected.\n",
      "HTTP request sent, awaiting response... 401 Unauthorized\n",
      "Authentication selected: Basic realm=\"Ldap Authentification\"\n",
      "Reusing existing connection to tds.aviso.altimetry.fr:443.\n",
      "HTTP request sent, awaiting response... 200 \n",
      "Length: 23604339 (23M) [application/x-netcdf]\n",
      "Saving to: ‘dt_gulfstream_c2_phy_l3_20161201-20180131_285-315_23-53.nc’\n",
      "\n",
      "dt_gulfstream_c2_ph 100%[===================>]  22.51M  2.94MB/s    in 9.5s    \n",
      "\n",
      "2024-09-12 09:44:42 (2.38 MB/s) - ‘dt_gulfstream_c2_phy_l3_20161201-20180131_285-315_23-53.nc’ saved [23604339/23604339]\n",
      "\n",
      "--2024-09-12 09:44:43--  https://tds.aviso.altimetry.fr/thredds/fileServer/2021a-SSH-mapping-OSE-along-track-data/dt_gulfstream_h2g_phy_l3_20161201-20180131_285-315_23-53.nc\n",
      "Resolving tds.aviso.altimetry.fr (tds.aviso.altimetry.fr)... 91.207.20.235\n",
      "Connecting to tds.aviso.altimetry.fr (tds.aviso.altimetry.fr)|91.207.20.235|:443... connected.\n",
      "HTTP request sent, awaiting response... 401 Unauthorized\n",
      "Authentication selected: Basic realm=\"Ldap Authentification\"\n",
      "Reusing existing connection to tds.aviso.altimetry.fr:443.\n",
      "HTTP request sent, awaiting response... 200 \n",
      "Length: 19848868 (19M) [application/x-netcdf]\n",
      "Saving to: ‘dt_gulfstream_h2g_phy_l3_20161201-20180131_285-315_23-53.nc’\n",
      "\n",
      "dt_gulfstream_h2g_p 100%[===================>]  18.93M  3.10MB/s    in 6.1s    \n",
      "\n",
      "2024-09-12 09:44:49 (3.08 MB/s) - ‘dt_gulfstream_h2g_phy_l3_20161201-20180131_285-315_23-53.nc’ saved [19848868/19848868]\n",
      "\n",
      "--2024-09-12 09:44:49--  https://tds.aviso.altimetry.fr/thredds/fileServer/2021a-SSH-mapping-OSE-along-track-data/dt_gulfstream_j2g_phy_l3_20161201-20180131_285-315_23-53.nc\n",
      "Resolving tds.aviso.altimetry.fr (tds.aviso.altimetry.fr)... 91.207.20.235\n",
      "Connecting to tds.aviso.altimetry.fr (tds.aviso.altimetry.fr)|91.207.20.235|:443... connected.\n",
      "HTTP request sent, awaiting response... 401 Unauthorized\n",
      "Authentication selected: Basic realm=\"Ldap Authentification\"\n",
      "Reusing existing connection to tds.aviso.altimetry.fr:443.\n",
      "HTTP request sent, awaiting response... 200 \n",
      "Length: 4142849 (4.0M) [application/x-netcdf]\n",
      "Saving to: ‘dt_gulfstream_j2g_phy_l3_20161201-20180131_285-315_23-53.nc’\n",
      "\n",
      "dt_gulfstream_j2g_p 100%[===================>]   3.95M  3.09MB/s    in 1.3s    \n",
      "\n",
      "2024-09-12 09:44:51 (3.09 MB/s) - ‘dt_gulfstream_j2g_phy_l3_20161201-20180131_285-315_23-53.nc’ saved [4142849/4142849]\n",
      "\n",
      "--2024-09-12 09:44:51--  https://tds.aviso.altimetry.fr/thredds/fileServer/2021a-SSH-mapping-OSE-along-track-data/dt_gulfstream_j2n_phy_l3_20161201-20180131_285-315_23-53.nc\n",
      "Resolving tds.aviso.altimetry.fr (tds.aviso.altimetry.fr)... 91.207.20.235\n",
      "Connecting to tds.aviso.altimetry.fr (tds.aviso.altimetry.fr)|91.207.20.235|:443... connected.\n",
      "HTTP request sent, awaiting response... 401 Unauthorized\n",
      "Authentication selected: Basic realm=\"Ldap Authentification\"\n",
      "Reusing existing connection to tds.aviso.altimetry.fr:443.\n",
      "HTTP request sent, awaiting response... 200 \n",
      "Length: 6024552 (5.7M) [application/x-netcdf]\n",
      "Saving to: ‘dt_gulfstream_j2n_phy_l3_20161201-20180131_285-315_23-53.nc’\n",
      "\n",
      "dt_gulfstream_j2n_p 100%[===================>]   5.75M  3.00MB/s    in 1.9s    \n",
      "\n",
      "2024-09-12 09:44:53 (3.00 MB/s) - ‘dt_gulfstream_j2n_phy_l3_20161201-20180131_285-315_23-53.nc’ saved [6024552/6024552]\n",
      "\n",
      "--2024-09-12 09:44:54--  https://tds.aviso.altimetry.fr/thredds/fileServer/2021a-SSH-mapping-OSE-along-track-data/dt_gulfstream_j3_phy_l3_20161201-20180131_285-315_23-53.nc\n",
      "Resolving tds.aviso.altimetry.fr (tds.aviso.altimetry.fr)... 91.207.20.235\n",
      "Connecting to tds.aviso.altimetry.fr (tds.aviso.altimetry.fr)|91.207.20.235|:443... connected.\n",
      "HTTP request sent, awaiting response... 401 Unauthorized\n",
      "Authentication selected: Basic realm=\"Ldap Authentification\"\n",
      "Reusing existing connection to tds.aviso.altimetry.fr:443.\n",
      "HTTP request sent, awaiting response... 200 \n",
      "Length: 23175157 (22M) [application/x-netcdf]\n",
      "Saving to: ‘dt_gulfstream_j3_phy_l3_20161201-20180131_285-315_23-53.nc’\n",
      "\n",
      "dt_gulfstream_j3_ph 100%[===================>]  22.10M  1.15MB/s    in 12s     \n",
      "\n",
      "2024-09-12 09:45:06 (1.90 MB/s) - ‘dt_gulfstream_j3_phy_l3_20161201-20180131_285-315_23-53.nc’ saved [23175157/23175157]\n",
      "\n",
      "--2024-09-12 09:45:06--  https://tds.aviso.altimetry.fr/thredds/fileServer/2021a-SSH-mapping-OSE-along-track-data/dt_gulfstream_s3a_phy_l3_20161201-20180131_285-315_23-53.nc\n",
      "Resolving tds.aviso.altimetry.fr (tds.aviso.altimetry.fr)... 91.207.20.235\n",
      "Connecting to tds.aviso.altimetry.fr (tds.aviso.altimetry.fr)|91.207.20.235|:443... connected.\n",
      "HTTP request sent, awaiting response... 401 Unauthorized\n",
      "Authentication selected: Basic realm=\"Ldap Authentification\"\n",
      "Reusing existing connection to tds.aviso.altimetry.fr:443.\n",
      "HTTP request sent, awaiting response... 200 \n",
      "Length: 22009976 (21M) [application/x-netcdf]\n",
      "Saving to: ‘dt_gulfstream_s3a_phy_l3_20161201-20180131_285-315_23-53.nc’\n",
      "\n",
      "dt_gulfstream_s3a_p 100%[===================>]  20.99M  3.13MB/s    in 10s     \n",
      "\n",
      "2024-09-12 09:45:16 (2.07 MB/s) - ‘dt_gulfstream_s3a_phy_l3_20161201-20180131_285-315_23-53.nc’ saved [22009976/22009976]\n",
      "\n"
     ]
    }
   ],
   "source": [
    "# Get observation files\n",
    "!wget --user '<AVISO_LOGIN>' --password '<AVISO_PASSWORD>' 'https://tds.aviso.altimetry.fr/thredds/fileServer/2021a-SSH-mapping-OSE-along-track-data/dt_gulfstream_alg_phy_l3_20161201-20180131_285-315_23-53.nc'\n",
    "!wget --user '<AVISO_LOGIN>' --password '<AVISO_PASSWORD>' 'https://tds.aviso.altimetry.fr/thredds/fileServer/2021a-SSH-mapping-OSE-along-track-data/dt_gulfstream_c2_phy_l3_20161201-20180131_285-315_23-53.nc'\n",
    "!wget --user '<AVISO_LOGIN>' --password '<AVISO_PASSWORD>' 'https://tds.aviso.altimetry.fr/thredds/fileServer/2021a-SSH-mapping-OSE-along-track-data/dt_gulfstream_h2g_phy_l3_20161201-20180131_285-315_23-53.nc'\n",
    "!wget --user '<AVISO_LOGIN>' --password '<AVISO_PASSWORD>' 'https://tds.aviso.altimetry.fr/thredds/fileServer/2021a-SSH-mapping-OSE-along-track-data/dt_gulfstream_j2g_phy_l3_20161201-20180131_285-315_23-53.nc'\n",
    "!wget --user '<AVISO_LOGIN>' --password '<AVISO_PASSWORD>' 'https://tds.aviso.altimetry.fr/thredds/fileServer/2021a-SSH-mapping-OSE-along-track-data/dt_gulfstream_j2n_phy_l3_20161201-20180131_285-315_23-53.nc'\n",
    "!wget --user '<AVISO_LOGIN>' --password '<AVISO_PASSWORD>' 'https://tds.aviso.altimetry.fr/thredds/fileServer/2021a-SSH-mapping-OSE-along-track-data/dt_gulfstream_j3_phy_l3_20161201-20180131_285-315_23-53.nc'\n",
    "!wget --user '<AVISO_LOGIN>' --password '<AVISO_PASSWORD>' 'https://tds.aviso.altimetry.fr/thredds/fileServer/2021a-SSH-mapping-OSE-along-track-data/dt_gulfstream_s3a_phy_l3_20161201-20180131_285-315_23-53.nc'"
   ]
  },
  {
   "cell_type": "code",
   "execution_count": 3,
   "metadata": {},
   "outputs": [
    {
     "name": "stdout",
     "output_type": "stream",
     "text": [
      "--2024-09-12 09:45:28--  https://tds.aviso.altimetry.fr/thredds/fileServer/2021a-SSH-mapping-OSE-grid-data/OSE_ssh_mapping_DUACS.nc\n",
      "Resolving tds.aviso.altimetry.fr (tds.aviso.altimetry.fr)... 91.207.20.235\n",
      "Connecting to tds.aviso.altimetry.fr (tds.aviso.altimetry.fr)|91.207.20.235|:443... connected.\n",
      "HTTP request sent, awaiting response... 401 Unauthorized\n",
      "Authentication selected: Basic realm=\"Ldap Authentification\"\n",
      "Reusing existing connection to tds.aviso.altimetry.fr:443.\n",
      "HTTP request sent, awaiting response... 200 \n",
      "Length: 4684262 (4.5M) [application/x-netcdf]\n",
      "Saving to: ‘OSE_ssh_mapping_DUACS.nc’\n",
      "\n",
      "OSE_ssh_mapping_DUA 100%[===================>]   4.47M  1.91MB/s    in 2.3s    \n",
      "\n",
      "2024-09-12 09:45:31 (1.91 MB/s) - ‘OSE_ssh_mapping_DUACS.nc’ saved [4684262/4684262]\n",
      "\n"
     ]
    }
   ],
   "source": [
    "# Get DUACS maps for diagnostics \n",
    "!wget --user '<AVISO_LOGIN>' --password '<AVISO_PASSWORD>' 'https://tds.aviso.altimetry.fr/thredds/fileServer/2021a-SSH-mapping-OSE-grid-data/OSE_ssh_mapping_DUACS.nc' "
   ]
  },
  {
   "cell_type": "code",
   "execution_count": 4,
   "metadata": {},
   "outputs": [],
   "source": [
    "# Move files \n",
    "!mv dt_gulfstream*.nc data/\n",
    "!mv OSE_ssh_mapping_DUACS.nc data/"
   ]
  },
  {
   "cell_type": "code",
   "execution_count": null,
   "metadata": {},
   "outputs": [],
   "source": []
  }
 ],
 "metadata": {
  "kernelspec": {
   "display_name": "Python 3 (ipykernel)",
   "language": "python",
   "name": "python3"
  },
  "language_info": {
   "codemirror_mode": {
    "name": "ipython",
    "version": 3
   },
   "file_extension": ".py",
   "mimetype": "text/x-python",
   "name": "python",
   "nbconvert_exporter": "python",
   "pygments_lexer": "ipython3",
   "version": "3.9.18"
  },
  "vscode": {
   "interpreter": {
    "hash": "984563e4ffd3f593bcb1e9a3d9bd9585f0a60902c24eb7a5e718c1ebf267e079"
   }
  }
 },
 "nbformat": 4,
 "nbformat_minor": 4
}
