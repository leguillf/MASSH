{
 "cells": [
  {
   "cell_type": "markdown",
   "metadata": {},
   "source": [
    "# 2020a_4DVARSW\n",
    "This notebook, associated to the configuration file *config_2022a_4DVARSW_dev.py*."
   ]
  },
  {
   "cell_type": "markdown",
   "metadata": {},
   "source": [
    "## Configuration file"
   ]
  },
  {
   "cell_type": "code",
   "execution_count": 1,
   "metadata": {},
   "outputs": [],
   "source": [
    "path_config = 'config_2022a_4DVARSW_dev'"
   ]
  },
  {
   "cell_type": "code",
   "execution_count": 2,
   "metadata": {},
   "outputs": [],
   "source": [
    "import sys\n",
    "dir_massh = '/home/bellemva/MASSH/mapping'\n",
    "sys.path.append(dir_massh)"
   ]
  },
  {
   "cell_type": "code",
   "execution_count": 3,
   "metadata": {},
   "outputs": [
    {
     "name": "stdout",
     "output_type": "stream",
     "text": [
      "name_experiment: config_hawaii_generation\n",
      "saveoutputs: True\n",
      "name_exp_save: config_hawaii_generation\n",
      "path_save: ../outputs/config_hawaii_generation\n",
      "tmp_DA_path: ../scratch/config_hawaii_generation\n",
      "init_date: 2012-06-05 00:00:00\n",
      "final_date: 2012-06-10 00:00:00\n",
      "assimilation_time_step: 1:00:00\n",
      "saveoutput_time_step: 1:00:00\n",
      "flag_plot: 4\n",
      "write_obs: True\n",
      "path_obs: ../obs/2022a_4DVARQG\n",
      "name_lon: lon\n",
      "name_lat: lat\n",
      "name_time: time\n",
      "plot_time_step: 1 day, 0:00:00\n",
      "time_obs_min: None\n",
      "time_obs_max: None\n",
      "compute_obs: False\n",
      "\n",
      "NAME_BC is not set in the configuration file\n"
     ]
    }
   ],
   "source": [
    "\n",
    "from src import exp\n",
    "config = exp.Exp(path_config)"
   ]
  },
  {
   "cell_type": "markdown",
   "metadata": {},
   "source": [
    "## State"
   ]
  },
  {
   "cell_type": "code",
   "execution_count": 4,
   "metadata": {},
   "outputs": [
    {
     "name": "stdout",
     "output_type": "stream",
     "text": [
      "super: GRID_GEO\n",
      "lon_min: 185.0\n",
      "lon_max: 205\n",
      "lat_min: 15.0\n",
      "lat_max: 35.0\n",
      "dlon: 0.08333333333333333\n",
      "dlat: 0.08333333333333333\n",
      "name_init_mask: ./mask/mask_test.nc\n",
      "name_var_mask: {'lon': 'longitude', 'lat': 'latitude', 'var': 'mask'}\n",
      "\n"
     ]
    }
   ],
   "source": [
    "from src import state as state\n",
    "State = state.State(config)"
   ]
  },
  {
   "cell_type": "code",
   "execution_count": 5,
   "metadata": {},
   "outputs": [
    {
     "data": {
      "text/plain": [
       "242"
      ]
     },
     "execution_count": 5,
     "metadata": {},
     "output_type": "execute_result"
    }
   ],
   "source": [
    "State.nx"
   ]
  },
  {
   "cell_type": "code",
   "execution_count": 7,
   "metadata": {},
   "outputs": [
    {
     "data": {
      "text/plain": [
       "<matplotlib.collections.QuadMesh at 0x7f8f58249d50>"
      ]
     },
     "execution_count": 7,
     "metadata": {},
     "output_type": "execute_result"
    },
    {
     "data": {
      "image/png": "[encoded data removed]",
      "text/plain": [
       "<Figure size 640x480 with 1 Axes>"
      ]
     },
     "metadata": {},
     "output_type": "display_data"
    }
   ],
   "source": [
    "import matplotlib.pyplot as plt\n",
    "plt.pcolormesh(State.mask_int['v'],vmin=0,vmax=2)"
   ]
  },
  {
   "cell_type": "markdown",
   "metadata": {},
   "source": [
    "## Model"
   ]
  },
  {
   "cell_type": "code",
   "execution_count": null,
   "metadata": {},
   "outputs": [],
   "source": [
    "from src import mod as mod\n",
    "Model = mod.Model(config,State)"
   ]
  },
  {
   "cell_type": "code",
   "execution_count": null,
   "metadata": {},
   "outputs": [],
   "source": [
    "State.plot()"
   ]
  },
  {
   "cell_type": "code",
   "execution_count": null,
   "metadata": {},
   "outputs": [],
   "source": [
    "from src import bc as bc\n",
    "Bc = bc.Bc(config)"
   ]
  },
  {
   "cell_type": "markdown",
   "metadata": {},
   "source": [
    "## Observations"
   ]
  },
  {
   "cell_type": "code",
   "execution_count": null,
   "metadata": {},
   "outputs": [],
   "source": [
    "from src import obs as obs\n",
    "dict_obs = obs.Obs(config,State)"
   ]
  },
  {
   "cell_type": "code",
   "execution_count": null,
   "metadata": {},
   "outputs": [],
   "source": [
    "from src import obsop as obsop\n",
    "Obsop = obsop.Obsop(config,State,dict_obs,Model)"
   ]
  },
  {
   "cell_type": "markdown",
   "metadata": {},
   "source": [
    "## Reduced Basis"
   ]
  },
  {
   "cell_type": "code",
   "execution_count": null,
   "metadata": {},
   "outputs": [],
   "source": [
    "from src import basis as basis\n",
    "Basis = basis.Basis(config, State)"
   ]
  },
  {
   "cell_type": "markdown",
   "metadata": {},
   "source": [
    "## Assimilation"
   ]
  },
  {
   "cell_type": "code",
   "execution_count": null,
   "metadata": {},
   "outputs": [],
   "source": [
    "from src import inv as inv\n",
    "inv.Inv(config,State,Model,dict_obs=dict_obs,Obsop=Obsop,Basis=Basis,Bc=Bc)"
   ]
  },
  {
   "cell_type": "markdown",
   "metadata": {},
   "source": [
    "## Diagnostics"
   ]
  },
  {
   "cell_type": "code",
   "execution_count": null,
   "metadata": {},
   "outputs": [],
   "source": [
    "from src import diag as diag\n",
    "Diag = diag.Diag(config,State)"
   ]
  },
  {
   "cell_type": "code",
   "execution_count": null,
   "metadata": {},
   "outputs": [],
   "source": [
    "Diag.regrid_exp()\n",
    "Diag.exp_regridded.ssh[-1].plot()"
   ]
  },
  {
   "cell_type": "code",
   "execution_count": null,
   "metadata": {},
   "outputs": [],
   "source": [
    "Diag.rmse_based_scores(plot=True)"
   ]
  },
  {
   "cell_type": "code",
   "execution_count": null,
   "metadata": {},
   "outputs": [],
   "source": [
    "Diag.psd_based_scores(plot=True)"
   ]
  },
  {
   "cell_type": "code",
   "execution_count": null,
   "metadata": {},
   "outputs": [],
   "source": [
    "Diag.movie(framerate=12,clim=(0,.5),range_err=.2)"
   ]
  },
  {
   "cell_type": "code",
   "execution_count": null,
   "metadata": {},
   "outputs": [],
   "source": [
    "import os\n",
    "from IPython.display import Video\n",
    "Video(os.path.join(Diag.dir_output, 'movie.mp4'))"
   ]
  },
  {
   "cell_type": "code",
   "execution_count": null,
   "metadata": {},
   "outputs": [],
   "source": [
    "Leaderboard = Diag.Leaderboard()\n",
    "Leaderboard"
   ]
  },
  {
   "cell_type": "code",
   "execution_count": null,
   "metadata": {},
   "outputs": [],
   "source": []
  }
 ],
 "metadata": {
  "kernelspec": {
   "display_name": "Python 3.10.4 ('env-plot': conda)",
   "language": "python",
   "name": "python3"
  },
  "language_info": {
   "codemirror_mode": {
    "name": "ipython",
    "version": 3
   },
   "file_extension": ".py",
   "mimetype": "text/x-python",
   "name": "python",
   "nbconvert_exporter": "python",
   "pygments_lexer": "ipython3",
   "version": "3.10.8"
  },
  "vscode": {
   "interpreter": {
    "hash": "78b767bc73e83775d284238556dee940a86bc4d5d535f6dfd44ceeea93cd0788"
   }
  }
 },
 "nbformat": 4,
 "nbformat_minor": 4
}
