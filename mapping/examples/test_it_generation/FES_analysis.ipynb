{
 "cells": [
  {
   "attachments": {},
   "cell_type": "markdown",
   "metadata": {},
   "source": [
    "# Analysing FES model tidal current velocity "
   ]
  },
  {
   "cell_type": "code",
   "execution_count": 76,
   "metadata": {},
   "outputs": [],
   "source": [
    "import xarray as xr \n",
    "import matplotlib.pyplot as plt \n",
    "import numpy as np \n",
    "import os\n",
    "import matplotlib\n",
    "matplotlib.use('Agg')"
   ]
  },
  {
   "attachments": {},
   "cell_type": "markdown",
   "metadata": {},
   "source": [
    "## 1. - Analysis of M2 and K1  "
   ]
  },
  {
   "cell_type": "code",
   "execution_count": 78,
   "metadata": {},
   "outputs": [],
   "source": [
    "m2_u = xr.open_dataset(\"/bettik/bellemva/FES_tide/eastward_velocity/m2.nc\",drop_variables=[\"lat_bnds\",\"lon_bnds\",\"crs\"])\n",
    "m2_v = xr.open_dataset(\"/bettik/bellemva/FES_tide/northward_velocity/m2.nc\",drop_variables=[\"lat_bnds\",\"lon_bnds\",\"crs\"])\n",
    "\n",
    "k1_u = xr.open_dataset(\"/bettik/bellemva/FES_tide/eastward_velocity/k1.nc\",drop_variables=[\"lat_bnds\",\"lon_bnds\",\"crs\"])\n",
    "k1_v = xr.open_dataset(\"/bettik/bellemva/FES_tide/northward_velocity/k1.nc\",drop_variables=[\"lat_bnds\",\"lon_bnds\",\"crs\"])"
   ]
  },
  {
   "attachments": {},
   "cell_type": "markdown",
   "metadata": {},
   "source": [
    "Selection around Hawai'i :"
   ]
  },
  {
   "cell_type": "code",
   "execution_count": 79,
   "metadata": {},
   "outputs": [],
   "source": [
    "m2_u = m2_u.sel(lon = slice(185,205),lat = slice(15,35), drop=True)\n",
    "m2_v = m2_v.sel(lon = slice(185,205),lat = slice(15,35), drop=True)\n",
    "\n",
    "k1_u = k1_u.sel(lon = slice(185,205),lat = slice(15,35), drop=True)\n",
    "k1_v = k1_v.sel(lon = slice(185,205),lat = slice(15,35), drop=True)"
   ]
  },
  {
   "attachments": {},
   "cell_type": "markdown",
   "metadata": {},
   "source": [
    "File of internal tide (for lon lat grid) "
   ]
  },
  {
   "cell_type": "code",
   "execution_count": 80,
   "metadata": {},
   "outputs": [],
   "source": [
    "ds = xr.open_dataset(\"/bettik/bellemva/MITgcm/MITgcm_it/by_mode/MITgcm_it_20120601.nc\")\n",
    "longitude = ds.longitude.values\n",
    "latitude = ds.latitude.values"
   ]
  },
  {
   "cell_type": "code",
   "execution_count": 81,
   "metadata": {},
   "outputs": [],
   "source": [
    "m2_u = m2_u.interp({\"lon\":longitude,\"lat\":latitude})\n",
    "m2_v = m2_v.interp({\"lon\":longitude,\"lat\":latitude})\n",
    "\n",
    "k1_u = k1_u.interp({\"lon\":longitude,\"lat\":latitude})\n",
    "k1_v = k1_v.interp({\"lon\":longitude,\"lat\":latitude})"
   ]
  },
  {
   "cell_type": "code",
   "execution_count": 82,
   "metadata": {},
   "outputs": [
    {
     "name": "stdout",
     "output_type": "stream",
     "text": [
      "-85.09625\n",
      "-143.42293\n"
     ]
    }
   ],
   "source": [
    "print(m2_u.Ug.values[121,121])\n",
    "print(m2_v.Vg.values[121,121])"
   ]
  },
  {
   "cell_type": "code",
   "execution_count": 83,
   "metadata": {},
   "outputs": [],
   "source": [
    "w_m2 = 2*np.pi/(12.42*3600)\n",
    "w_k1 = 2*np.pi/(23.93*3600)"
   ]
  },
  {
   "cell_type": "code",
   "execution_count": 84,
   "metadata": {},
   "outputs": [],
   "source": [
    "#nb_period = 4\n",
    "#array_t=np.arange(0,18*29.93*3600+1,3600)\n",
    "array_t=np.arange(0,12.42*3600+1,3600/6)\n"
   ]
  },
  {
   "attachments": {},
   "cell_type": "markdown",
   "metadata": {},
   "source": [
    "Bathymetry dataset "
   ]
  },
  {
   "cell_type": "code",
   "execution_count": 85,
   "metadata": {},
   "outputs": [],
   "source": [
    "bathy = xr.open_dataset(\"/bettik/bellemva/sad/Bathymetry_hawai.nc\").elevation\n",
    "bathy[\"lon\"] = bathy[\"lon\"]+360\n",
    "bathy = bathy.interp({\"lon\" : longitude, \"lat\" : latitude},method='nearest',kwargs={\"fill_value\": \"extrapolate\"})\n",
    "bathy = bathy.load()\n",
    "bathy = bathy.rename({'lon': 'longitude','lat': 'latitude'})"
   ]
  },
  {
   "cell_type": "code",
   "execution_count": 86,
   "metadata": {},
   "outputs": [],
   "source": [
    "y_grad, x_grad = np.gradient(bathy.values)"
   ]
  },
  {
   "cell_type": "code",
   "execution_count": 87,
   "metadata": {},
   "outputs": [],
   "source": [
    "norm_grad = np.sqrt(x_grad**2+y_grad**2)"
   ]
  },
  {
   "cell_type": "code",
   "execution_count": 88,
   "metadata": {},
   "outputs": [
    {
     "data": {
      "text/plain": [
       "array([440360, 194577, 624684, ..., 517735,   3932, 127899])"
      ]
     },
     "execution_count": 88,
     "metadata": {},
     "output_type": "execute_result"
    }
   ],
   "source": [
    "np.argsort(norm_grad.flatten())"
   ]
  },
  {
   "attachments": {},
   "cell_type": "markdown",
   "metadata": {},
   "source": [
    "Internal tide generation for biggest graident sites : "
   ]
  },
  {
   "cell_type": "code",
   "execution_count": 89,
   "metadata": {},
   "outputs": [],
   "source": [
    "#index of bigger gradients\n",
    "idx1 = np.unravel_index(norm_grad.flatten().argsort()[-1], norm_grad.shape) # (first biggest gradient)\n",
    "idx2 = np.unravel_index(norm_grad.flatten().argsort()[-2], norm_grad.shape) # (second biggest gradient)\n",
    "idx3 = np.unravel_index(norm_grad.flatten().argsort()[-3], norm_grad.shape) # (third biggest gradient)"
   ]
  },
  {
   "cell_type": "code",
   "execution_count": null,
   "metadata": {},
   "outputs": [],
   "source": [
    "array_itg1 = []\n",
    "array_itg2 = []\n",
    "array_itg3 = []\n",
    "\n",
    "for t in array_t :\n",
    "    for idx,array_itg in zip([idx1,idx2,idx3],[array_itg1,array_itg2,array_itg3]):\n",
    "        #array_itg.append(  (m2_u.Ua.values[idx]*np.cos(w_m2*t+m2_u.Ug.values[idx])+k1_u.Ua.values[idx]*np.cos(w_k1*t+k1_u.Ug.values[idx]))*x_grad[idx] + \\\n",
    "        #                   (m2_v.Va.values[idx]*np.cos(w_m2*t+m2_v.Vg.values[idx])+k1_v.Va.values[idx]*np.cos(w_k1*t+k1_v.Vg.values[idx]))*y_grad[idx]  )\n",
    "        array_itg.append(  m2_u.Ua.values[idx]*np.cos(w_m2*t+m2_u.Ug.values[idx])*x_grad[idx] + \\\n",
    "                           m2_v.Va.values[idx]*np.cos(w_m2*t+m2_v.Vg.values[idx])*y_grad[idx]  )\n"
   ]
  },
  {
   "cell_type": "code",
   "execution_count": null,
   "metadata": {},
   "outputs": [],
   "source": [
    "fig,ax = plt.subplots(1,1,figsize=(8,6))\n",
    "ax.plot(array_t,array_itg1,label=\"Point 1\")\n",
    "ax.plot(array_t,array_itg2,label=\"Point 2\")\n",
    "ax.plot(array_t,array_itg3,label=\"Point 3\")\n",
    "\n",
    "ax.set_xlabel(\"Time[second]\")\n",
    "ax.set_ylabel(\"Internal Tide generation\")\n",
    "\n",
    "ax.legend()\n"
   ]
  },
  {
   "attachments": {},
   "cell_type": "markdown",
   "metadata": {},
   "source": [
    "Internal tide generation over all Hawai'i"
   ]
  },
  {
   "cell_type": "code",
   "execution_count": 90,
   "metadata": {},
   "outputs": [],
   "source": [
    "results = np.zeros((array_t.size,ds.dims['latitude'],ds.dims['longitude']))"
   ]
  },
  {
   "cell_type": "code",
   "execution_count": 91,
   "metadata": {},
   "outputs": [],
   "source": [
    "for i,t in enumerate(array_t) : \n",
    "    #results[i] = (m2_u.Ua.values*np.cos(w_m2*t+m2_u.Ug.values)+k1_u.Ua.values*np.cos(w_k1*t+k1_u.Ug.values))*x_grad + \\\n",
    "    #                       (m2_v.Va.values*np.cos(w_m2*t+m2_v.Vg.values)+k1_v.Va.values*np.cos(w_k1*t+k1_v.Vg.values))*y_grad\n",
    "    results[i] = m2_u.Ua.values*np.cos(w_m2*t+m2_u.Ug.values)*x_grad + \\\n",
    "                           m2_v.Va.values*np.cos(w_m2*t+m2_v.Vg.values)*y_grad\n"
   ]
  },
  {
   "cell_type": "code",
   "execution_count": 98,
   "metadata": {},
   "outputs": [],
   "source": [
    "def form(i):\n",
    "    if i//10==0:\n",
    "        return \"0000\"+str(i)\n",
    "    elif i//100==0 : \n",
    "        return \"000\"+str(i)\n",
    "    elif i//1000==0 : \n",
    "        return \"00\"+str(i)\n",
    "    elif i//10000==0 : \n",
    "        return \"0\"+str(i)\n",
    "    else : \n",
    "        return str(i)"
   ]
  },
  {
   "cell_type": "code",
   "execution_count": 99,
   "metadata": {},
   "outputs": [],
   "source": [
    "def plot(t,array):\n",
    "\n",
    "    fig,ax = plt.subplots(1,1,figsize=(6,6))\n",
    "    plot = ax.pcolormesh(longitude,latitude,array,vmin=-600,vmax=600,cmap='RdBu')\n",
    "    plt.colorbar(plot,shrink=0.8)\n",
    "\n",
    "    ax.set_aspect(\"equal\")\n",
    "    ax.set_xlabel(\"Longitude [°]\",fontsize=12)\n",
    "    ax.set_ylabel(\"Latitude [°]\",fontsize=12)\n",
    "    ax.set_title(\"Internal Tide Generation\")\n",
    "\n",
    "    plt.savefig(\"./frames/\"+form(int(t))+\".png\")"
   ]
  },
  {
   "cell_type": "code",
   "execution_count": 100,
   "metadata": {},
   "outputs": [],
   "source": [
    "for i,t in enumerate(array_t):\n",
    "    plot(t,results[i,:,:])"
   ]
  },
  {
   "cell_type": "code",
   "execution_count": null,
   "metadata": {},
   "outputs": [],
   "source": [
    "plt.hist(results[0,:,:].flatten(),range = (-200,200),bins = 100)"
   ]
  },
  {
   "attachments": {},
   "cell_type": "markdown",
   "metadata": {},
   "source": [
    "## 2. - Principal component analysis "
   ]
  },
  {
   "cell_type": "code",
   "execution_count": null,
   "metadata": {},
   "outputs": [],
   "source": [
    "name_file = list(set(os.listdir('/bettik/bellemva/FES_tide/northward_velocity/')) \\\n",
    "                 .intersection(os.listdir('/bettik/bellemva/FES_tide/eastward_velocity/')))"
   ]
  },
  {
   "cell_type": "code",
   "execution_count": null,
   "metadata": {},
   "outputs": [],
   "source": [
    "longitude = np.arange(185.,205.+1/50,1/48)\n",
    "latitude = np.arange(15.,35.+1/50,1/48)\n",
    "\n",
    "def magnitude_tide (name_file) : \n",
    "    ds_u = xr.open_dataset(\"/bettik/bellemva/FES_tide/eastward_velocity/\"+name_file,drop_variables=[\"lat_bnds\",\"lon_bnds\",\"crs\"])\n",
    "    ds_v = xr.open_dataset(\"/bettik/bellemva/FES_tide/northward_velocity/\"+name_file,drop_variables=[\"lat_bnds\",\"lon_bnds\",\"crs\"])\n",
    "\n",
    "    ds_u = ds_u.sel(lon = slice(185,205),lat = slice(15,35), drop=True)\n",
    "    ds_v = ds_v.sel(lon = slice(185,205),lat = slice(15,35), drop=True)\n",
    "\n",
    "    ds_u = ds_u.interp({\"lon\":longitude,\"lat\":latitude})\n",
    "    ds_v = ds_v.interp({\"lon\":longitude,\"lat\":latitude})\n",
    "    \n",
    "    return np.nanmean(np.sqrt(ds_u.Ua.values**2+ds_v.Va.values**2))"
   ]
  },
  {
   "cell_type": "code",
   "execution_count": null,
   "metadata": {},
   "outputs": [],
   "source": [
    "\n",
    "result_magnitude = [magnitude_tide(name) for name in name_file]"
   ]
  },
  {
   "cell_type": "code",
   "execution_count": null,
   "metadata": {},
   "outputs": [],
   "source": [
    "import pandas as pd \n",
    "ds_tides = pd.DataFrame(data={'name': name_file,'magnitude' : result_magnitude})\n",
    "ds_tides = ds_tides.sort_values(\"magnitude\",ascending = False)\n",
    "ds_tides[\"cumsum\"] = ds_tides[\"magnitude\"].cumsum()\n",
    "ds_tides[\"cumper\"] = 100*ds_tides[\"cumsum\"]/ds_tides[\"magnitude\"].sum()"
   ]
  },
  {
   "cell_type": "code",
   "execution_count": null,
   "metadata": {},
   "outputs": [],
   "source": [
    "ds_tides"
   ]
  },
  {
   "cell_type": "code",
   "execution_count": null,
   "metadata": {},
   "outputs": [],
   "source": []
  },
  {
   "cell_type": "code",
   "execution_count": null,
   "metadata": {},
   "outputs": [],
   "source": []
  }
 ],
 "metadata": {
  "kernelspec": {
   "display_name": "pangeo-forge",
   "language": "python",
   "name": "python3"
  },
  "language_info": {
   "codemirror_mode": {
    "name": "ipython",
    "version": 3
   },
   "file_extension": ".py",
   "mimetype": "text/x-python",
   "name": "python",
   "nbconvert_exporter": "python",
   "pygments_lexer": "ipython3",
   "version": "3.10.8"
  },
  "orig_nbformat": 4
 },
 "nbformat": 4,
 "nbformat_minor": 2
}
