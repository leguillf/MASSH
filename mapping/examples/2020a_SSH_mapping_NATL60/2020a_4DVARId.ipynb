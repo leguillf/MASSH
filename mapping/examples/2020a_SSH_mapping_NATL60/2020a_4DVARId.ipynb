{
 "cells": [
  {
   "cell_type": "markdown",
   "metadata": {},
   "source": [
    "# 2020a_4DVARQG\n",
    "This notebook, associated to the configuration file *config_2020a_4DVARQG.py* runs a BFN-QG experiment to map SSH from simulated SWOT and Nadir data"
   ]
  },
  {
   "cell_type": "markdown",
   "metadata": {},
   "source": [
    "## Configuration file"
   ]
  },
  {
   "cell_type": "code",
   "execution_count": 1,
   "metadata": {
    "execution": {
     "iopub.execute_input": "2023-02-08T16:16:00.364758Z",
     "iopub.status.busy": "2023-02-08T16:16:00.363671Z",
     "iopub.status.idle": "2023-02-08T16:16:00.377957Z",
     "shell.execute_reply": "2023-02-08T16:16:00.376615Z"
    }
   },
   "outputs": [],
   "source": [
    "path_config = 'config_2020a_4DVARId.py'"
   ]
  },
  {
   "cell_type": "code",
   "execution_count": 2,
   "metadata": {
    "execution": {
     "iopub.execute_input": "2023-02-08T16:16:00.383210Z",
     "iopub.status.busy": "2023-02-08T16:16:00.382237Z",
     "iopub.status.idle": "2023-02-08T16:16:00.388072Z",
     "shell.execute_reply": "2023-02-08T16:16:00.386782Z"
    }
   },
   "outputs": [],
   "source": [
    "import sys\n",
    "sys.path.append('../..')"
   ]
  },
  {
   "cell_type": "code",
   "execution_count": 3,
   "metadata": {
    "execution": {
     "iopub.execute_input": "2023-02-08T16:16:00.393399Z",
     "iopub.status.busy": "2023-02-08T16:16:00.392282Z",
     "iopub.status.idle": "2023-02-08T16:16:00.411183Z",
     "shell.execute_reply": "2023-02-08T16:16:00.409795Z"
    }
   },
   "outputs": [
    {
     "name": "stdout",
     "output_type": "stream",
     "text": [
      "name_experiment: 2020a_4DVARId\n",
      "saveoutputs: True\n",
      "name_exp_save: 2020a_4DVARId\n",
      "path_save: outputs/2020a_4DVARId\n",
      "tmp_DA_path: scratch/2020a_4DVARId\n",
      "init_date: 2012-10-01 00:00:00\n",
      "final_date: 2012-12-15 00:00:00\n",
      "assimilation_time_step: 3:00:00\n",
      "saveoutput_time_step: 6:00:00\n",
      "flag_plot: 0\n",
      "name_lon: lon\n",
      "name_lat: lat\n",
      "name_time: time\n",
      "plot_time_step: 1 day, 0:00:00\n",
      "time_obs_min: None\n",
      "time_obs_max: None\n",
      "write_obs: False\n",
      "compute_obs: False\n",
      "path_obs: None\n",
      "\n",
      "NAME_BC is not set in the configuration file\n"
     ]
    }
   ],
   "source": [
    "\n",
    "from src import exp\n",
    "config = exp.Exp(path_config)"
   ]
  },
  {
   "cell_type": "markdown",
   "metadata": {},
   "source": [
    "## State"
   ]
  },
  {
   "cell_type": "code",
   "execution_count": 4,
   "metadata": {
    "execution": {
     "iopub.execute_input": "2023-02-08T16:16:00.452172Z",
     "iopub.status.busy": "2023-02-08T16:16:00.451187Z",
     "iopub.status.idle": "2023-02-08T16:16:01.710358Z",
     "shell.execute_reply": "2023-02-08T16:16:01.709113Z"
    }
   },
   "outputs": [
    {
     "name": "stdout",
     "output_type": "stream",
     "text": [
      "super: GRID_GEO\n",
      "lon_min: 295.0\n",
      "lon_max: 305.0\n",
      "lat_min: 33.0\n",
      "lat_max: 43.0\n",
      "dlon: 0.1\n",
      "dlat: 0.1\n",
      "name_init_mask: None\n",
      "name_var_mask: {'lon': '', 'lat': '', 'var': ''}\n",
      "\n"
     ]
    }
   ],
   "source": [
    "from src import state as state\n",
    "State = state.State(config)"
   ]
  },
  {
   "cell_type": "markdown",
   "metadata": {},
   "source": [
    "## Model"
   ]
  },
  {
   "cell_type": "code",
   "execution_count": 5,
   "metadata": {
    "execution": {
     "iopub.execute_input": "2023-02-08T16:16:01.714972Z",
     "iopub.status.busy": "2023-02-08T16:16:01.714402Z",
     "iopub.status.idle": "2023-02-08T16:16:02.424860Z",
     "shell.execute_reply": "2023-02-08T16:16:02.423646Z"
    }
   },
   "outputs": [
    {
     "name": "stdout",
     "output_type": "stream",
     "text": [
      "super: MOD_DIFF\n",
      "name_var: {'SSH': 'ssh'}\n",
      "var_to_save: None\n",
      "name_init_var: {}\n",
      "dtmodel: 3600\n",
      "Kdiffus: 0\n",
      "init_from_bc: False\n",
      "\n"
     ]
    }
   ],
   "source": [
    "from src import mod as mod\n",
    "Model = mod.Model(config,State)"
   ]
  },
  {
   "cell_type": "markdown",
   "metadata": {},
   "source": [
    "## Observations"
   ]
  },
  {
   "cell_type": "code",
   "execution_count": 7,
   "metadata": {
    "execution": {
     "iopub.execute_input": "2023-02-08T16:16:02.576511Z",
     "iopub.status.busy": "2023-02-08T16:16:02.576143Z",
     "iopub.status.idle": "2023-02-08T16:16:09.329641Z",
     "shell.execute_reply": "2023-02-08T16:16:09.328044Z"
    }
   },
   "outputs": [
    {
     "name": "stdout",
     "output_type": "stream",
     "text": [
      "Observation information will be saved in dict_obs_J1_EN_TPN_G2_20121001_20121215_295_305_33_43.txt\n",
      "\n",
      "J1:\n",
      "super: OBS_SSH_NADIR\n",
      "path: data/dc_obs/2020a_SSH_mapping_NATL60_jason1.nc\n",
      "name_time: time\n",
      "name_lon: lon\n",
      "name_lat: lat\n",
      "name_var: {'SSH': 'ssh_model'}\n",
      "varmax: 100.0\n",
      "sigma_noise: None\n",
      "add_mdt: None\n",
      "substract_mdt: None\n",
      "path_mdt: None\n",
      "name_var_mdt: None\n",
      "nudging_params_ssh: None\n",
      "detrend: False\n",
      "\n",
      "--> 92 tracks selected\n",
      "\n",
      "EN:\n",
      "super: OBS_SSH_NADIR\n",
      "path: data/dc_obs/2020a_SSH_mapping_NATL60_envisat.nc\n",
      "name_time: time\n",
      "name_lon: lon\n",
      "name_lat: lat\n",
      "name_var: {'SSH': 'ssh_model'}\n",
      "varmax: 100.0\n",
      "sigma_noise: None\n",
      "add_mdt: None\n",
      "substract_mdt: None\n",
      "path_mdt: None\n",
      "name_var_mdt: None\n",
      "nudging_params_ssh: None\n",
      "detrend: False\n",
      "\n",
      "--> 79 tracks selected\n",
      "\n",
      "TPN:\n",
      "super: OBS_SSH_NADIR\n",
      "path: data/dc_obs/2020a_SSH_mapping_NATL60_topex-poseidon_interleaved.nc\n",
      "name_time: time\n",
      "name_lon: lon\n",
      "name_lat: lat\n",
      "name_var: {'SSH': 'ssh_model'}\n",
      "varmax: 100.0\n",
      "sigma_noise: None\n",
      "add_mdt: None\n",
      "substract_mdt: None\n",
      "path_mdt: None\n",
      "name_var_mdt: None\n",
      "nudging_params_ssh: None\n",
      "detrend: False\n",
      "\n",
      "--> 84 tracks selected\n",
      "\n",
      "G2:\n",
      "super: OBS_SSH_NADIR\n",
      "path: data/dc_obs/2020a_SSH_mapping_NATL60_geosat2.nc\n",
      "name_time: time\n",
      "name_lon: lon\n",
      "name_lat: lat\n",
      "name_var: {'SSH': 'ssh_model'}\n",
      "varmax: 100.0\n",
      "sigma_noise: None\n",
      "add_mdt: None\n",
      "substract_mdt: None\n",
      "path_mdt: None\n",
      "name_var_mdt: None\n",
      "nudging_params_ssh: None\n",
      "detrend: False\n",
      "\n",
      "--> 96 tracks selected\n"
     ]
    }
   ],
   "source": [
    "from src import obs as obs\n",
    "dict_obs = obs.Obs(config,State)"
   ]
  },
  {
   "cell_type": "code",
   "execution_count": 8,
   "metadata": {
    "execution": {
     "iopub.execute_input": "2023-02-08T16:16:09.334608Z",
     "iopub.status.busy": "2023-02-08T16:16:09.333969Z",
     "iopub.status.idle": "2023-02-08T16:16:09.532967Z",
     "shell.execute_reply": "2023-02-08T16:16:09.531723Z"
    }
   },
   "outputs": [
    {
     "name": "stdout",
     "output_type": "stream",
     "text": [
      "super: OBSOP_INTERP\n",
      "path_save: None\n",
      "compute_op: False\n",
      "Npix: 4\n",
      "mask_coast: False\n",
      "dist_coast: 100\n",
      "mask_borders: False\n",
      "\n"
     ]
    }
   ],
   "source": [
    "from src import obsop as obsop\n",
    "Obsop = obsop.Obsop(config,State,dict_obs,Model)"
   ]
  },
  {
   "cell_type": "markdown",
   "metadata": {},
   "source": [
    "## Reduced Basis"
   ]
  },
  {
   "cell_type": "code",
   "execution_count": 9,
   "metadata": {
    "execution": {
     "iopub.execute_input": "2023-02-08T16:16:09.537472Z",
     "iopub.status.busy": "2023-02-08T16:16:09.536822Z",
     "iopub.status.idle": "2023-02-08T16:16:09.543738Z",
     "shell.execute_reply": "2023-02-08T16:16:09.542748Z"
    }
   },
   "outputs": [
    {
     "name": "stdout",
     "output_type": "stream",
     "text": [
      "super: BASIS_BM\n",
      "name_mod_var: ssh\n",
      "wavelet_init: False\n",
      "flux: True\n",
      "save_wave_basis: inline\n",
      "facns: 1.0\n",
      "facnlt: 2.0\n",
      "npsp: 3.5\n",
      "facpsp: 1.5\n",
      "lmin: 80\n",
      "lmax: 970.0\n",
      "lmeso: 300\n",
      "tmeso: 10\n",
      "sloptdec: -1\n",
      "factdec: 1\n",
      "tdecmin: 0.0\n",
      "tdecmax: 15.0\n",
      "facQ: 1\n",
      "Qmax: 0.03\n",
      "slopQ: -2\n",
      "path_background: None\n",
      "var_background: None\n",
      "\n"
     ]
    }
   ],
   "source": [
    "from src import basis as basis\n",
    "Basis = basis.Basis(config,State)"
   ]
  },
  {
   "cell_type": "markdown",
   "metadata": {},
   "source": [
    "## Assimilation"
   ]
  },
  {
   "cell_type": "code",
   "execution_count": 10,
   "metadata": {
    "execution": {
     "iopub.execute_input": "2023-02-08T16:16:09.547916Z",
     "iopub.status.busy": "2023-02-08T16:16:09.547365Z",
     "iopub.status.idle": "2023-02-09T00:05:44.163123Z",
     "shell.execute_reply": "2023-02-09T00:05:44.161791Z"
    }
   },
   "outputs": [
    {
     "name": "stdout",
     "output_type": "stream",
     "text": [
      "super: INV_4DVAR\n",
      "compute_test: False\n",
      "path_init_4Dvar: None\n",
      "restart_4Dvar: False\n",
      "gtol: 1e-05\n",
      "maxiter: 200\n",
      "opt_method: L-BFGS-B\n",
      "save_minimization: False\n",
      "timestep_checkpoint: 6:00:00\n",
      "sigma_R: 0.01\n",
      "sigma_B: None\n",
      "prec: True\n",
      "prescribe_background: False\n",
      "bkg_satellite: None\n",
      "path_background: None\n",
      "bkg_Kdiffus: 0.0\n",
      "name_bkg_var: res\n",
      "bkg_maxiter: 30\n",
      "bkg_maxiter_inner: 10\n",
      "largescale_error_ratio: 1\n",
      "only_largescale: False\n",
      "anomaly_from_bc: False\n",
      "\n",
      "--> 410 checkpoints to evaluate the cost function\n",
      "lambda=9.7E+02 nlocs=4.0E+00 tdec=1.5E+01 Q=2.1E-02\n",
      "lambda=6.8E+02 nlocs=4.0E+00 tdec=1.5E+01 Q=2.1E-02\n",
      "lambda=4.8E+02 nlocs=8.0E+00 tdec=1.5E+01 Q=2.1E-02\n",
      "lambda=3.3E+02 nlocs=9.0E+00 tdec=1.1E+01 Q=2.1E-02\n",
      "lambda=2.3E+02 nlocs=1.5E+01 tdec=7.8E+00 Q=1.3E-02\n",
      "lambda=1.6E+02 nlocs=2.3E+01 tdec=5.4E+00 Q=6.3E-03\n",
      "lambda=1.1E+02 nlocs=4.2E+01 tdec=3.8E+00 Q=3.1E-03\n",
      "lambda=8.0E+01 nlocs=7.0E+01 tdec=2.7E+00 Q=1.5E-03\n",
      "reduced order: 3131604 --> 130500\n",
      " reduced factor: 23\n",
      "\n",
      "*** Minimization ***\n",
      "\n",
      "RUNNING THE L-BFGS-B CODE\n",
      "\n",
      "           * * *\n",
      "\n",
      "Machine precision = 2.220D-16\n",
      " N =       130500     M =           10\n",
      "\n",
      "At X0         0 variables are exactly at the bounds\n",
      "\n",
      "At iterate    0    f=  7.14464D+07    |proj g|=  1.20206D+06\n"
     ]
    },
    {
     "name": "stderr",
     "output_type": "stream",
     "text": [
      " This problem is unconstrained.\n"
     ]
    },
    {
     "name": "stdout",
     "output_type": "stream",
     "text": [
      "\n",
      "At iterate    1    f=  5.00042D+07    |proj g|=  6.00004D+05\n",
      "\n",
      "At iterate    2    f=  2.49067D+07    |proj g|=  2.78087D+05\n",
      "\n",
      "At iterate    3    f=  1.49945D+07    |proj g|=  1.83703D+05\n",
      "\n",
      "At iterate    4    f=  1.36472D+07    |proj g|=  5.90777D+05\n",
      "\n",
      "At iterate    5    f=  9.87118D+06    |proj g|=  8.25248D+04\n",
      "\n",
      "At iterate    6    f=  9.36138D+06    |proj g|=  6.24374D+04\n",
      "\n",
      "At iterate    7    f=  7.81015D+06    |proj g|=  9.11821D+04\n",
      "\n",
      "At iterate    8    f=  7.27301D+06    |proj g|=  1.20502D+05\n",
      "\n",
      "At iterate    9    f=  6.79831D+06    |proj g|=  5.82411D+04\n",
      "\n",
      "At iterate   10    f=  6.24520D+06    |proj g|=  5.56219D+04\n",
      "\n",
      "At iterate   11    f=  5.83279D+06    |proj g|=  6.67867D+04\n",
      "\n",
      "At iterate   12    f=  5.43802D+06    |proj g|=  4.68140D+04\n",
      "\n",
      "At iterate   13    f=  5.16415D+06    |proj g|=  3.32024D+04\n",
      "\n",
      "At iterate   14    f=  4.96049D+06    |proj g|=  3.60008D+04\n",
      "\n",
      "At iterate   15    f=  4.75181D+06    |proj g|=  3.17319D+04\n",
      "\n",
      "At iterate   16    f=  4.46805D+06    |proj g|=  6.37776D+04\n",
      "\n",
      "At iterate   17    f=  4.26275D+06    |proj g|=  4.21929D+04\n",
      "\n",
      "At iterate   18    f=  4.13621D+06    |proj g|=  1.70609D+04\n",
      "\n",
      "At iterate   19    f=  4.03267D+06    |proj g|=  3.31596D+04\n",
      "\n",
      "At iterate   20    f=  3.93222D+06    |proj g|=  5.94978D+04\n",
      "\n",
      "At iterate   21    f=  3.80595D+06    |proj g|=  2.44197D+04\n",
      "\n",
      "At iterate   22    f=  3.69193D+06    |proj g|=  1.40166D+04\n",
      "\n",
      "At iterate   23    f=  3.60042D+06    |proj g|=  1.41866D+04\n",
      "\n",
      "At iterate   24    f=  3.54019D+06    |proj g|=  5.47189D+04\n",
      "\n",
      "At iterate   25    f=  3.43363D+06    |proj g|=  1.13583D+04\n",
      "\n",
      "At iterate   26    f=  3.37417D+06    |proj g|=  9.35767D+03\n",
      "\n",
      "At iterate   27    f=  3.30337D+06    |proj g|=  1.81332D+04\n",
      "\n",
      "At iterate   28    f=  3.28615D+06    |proj g|=  5.60860D+04\n",
      "\n",
      "At iterate   29    f=  3.18631D+06    |proj g|=  1.65448D+04\n",
      "\n",
      "At iterate   30    f=  3.14205D+06    |proj g|=  9.94343D+03\n",
      "\n",
      "At iterate   31    f=  3.09196D+06    |proj g|=  1.27974D+04\n",
      "\n",
      "At iterate   32    f=  3.02830D+06    |proj g|=  1.43309D+04\n",
      "\n",
      "At iterate   33    f=  2.99850D+06    |proj g|=  4.65029D+04\n",
      "\n",
      "At iterate   34    f=  2.93708D+06    |proj g|=  1.87962D+04\n",
      "\n",
      "At iterate   35    f=  2.89815D+06    |proj g|=  1.00767D+04\n",
      "\n",
      "At iterate   36    f=  2.84603D+06    |proj g|=  3.16252D+04\n",
      "\n",
      "At iterate   37    f=  2.81326D+06    |proj g|=  2.26545D+04\n",
      "\n",
      "At iterate   38    f=  2.79047D+06    |proj g|=  9.57684D+03\n",
      "\n",
      "At iterate   39    f=  2.76133D+06    |proj g|=  9.32533D+03\n",
      "\n",
      "At iterate   40    f=  2.73866D+06    |proj g|=  1.13758D+04\n",
      "\n",
      "At iterate   41    f=  2.70289D+06    |proj g|=  3.94639D+04\n",
      "\n",
      "At iterate   42    f=  2.66744D+06    |proj g|=  1.10103D+04\n",
      "\n",
      "At iterate   43    f=  2.65034D+06    |proj g|=  6.73942D+03\n",
      "\n",
      "At iterate   44    f=  2.62492D+06    |proj g|=  1.31701D+04\n",
      "\n",
      "At iterate   45    f=  2.60282D+06    |proj g|=  1.55721D+04\n",
      "\n",
      "At iterate   46    f=  2.57777D+06    |proj g|=  1.02528D+04\n",
      "\n",
      "At iterate   47    f=  2.54478D+06    |proj g|=  1.10981D+04\n",
      "\n",
      "At iterate   48    f=  2.53295D+06    |proj g|=  2.67345D+04\n",
      "\n",
      "At iterate   49    f=  2.51441D+06    |proj g|=  1.27840D+04\n",
      "\n",
      "At iterate   50    f=  2.49765D+06    |proj g|=  8.83293D+03\n",
      "\n",
      "At iterate   51    f=  2.48053D+06    |proj g|=  1.19062D+04\n",
      "\n",
      "At iterate   52    f=  2.45046D+06    |proj g|=  2.09207D+04\n",
      "\n",
      "At iterate   53    f=  2.43542D+06    |proj g|=  3.18254D+04\n",
      "\n",
      "At iterate   54    f=  2.41351D+06    |proj g|=  4.09072D+03\n",
      "\n",
      "At iterate   55    f=  2.40366D+06    |proj g|=  7.00037D+03\n",
      "\n",
      "At iterate   56    f=  2.38707D+06    |proj g|=  1.12617D+04\n",
      "\n",
      "At iterate   57    f=  2.36942D+06    |proj g|=  2.82614D+04\n",
      "\n",
      "At iterate   58    f=  2.34800D+06    |proj g|=  1.18072D+04\n",
      "\n",
      "At iterate   59    f=  2.33402D+06    |proj g|=  4.15674D+03\n",
      "\n",
      "At iterate   60    f=  2.32196D+06    |proj g|=  1.14981D+04\n",
      "\n",
      "At iterate   61    f=  2.31049D+06    |proj g|=  2.02716D+04\n",
      "\n",
      "At iterate   62    f=  2.29835D+06    |proj g|=  9.67428D+03\n",
      "\n",
      "At iterate   63    f=  2.28292D+06    |proj g|=  6.78536D+03\n",
      "\n",
      "At iterate   64    f=  2.27286D+06    |proj g|=  1.03744D+04\n",
      "\n",
      "At iterate   65    f=  2.26228D+06    |proj g|=  3.25329D+04\n",
      "\n",
      "At iterate   66    f=  2.24732D+06    |proj g|=  5.19401D+03\n",
      "\n",
      "At iterate   67    f=  2.24172D+06    |proj g|=  5.53763D+03\n",
      "\n",
      "At iterate   68    f=  2.22791D+06    |proj g|=  1.09923D+04\n",
      "\n",
      "At iterate   69    f=  2.21693D+06    |proj g|=  1.88750D+04\n",
      "\n",
      "At iterate   70    f=  2.20473D+06    |proj g|=  6.74090D+03\n",
      "\n",
      "At iterate   71    f=  2.19576D+06    |proj g|=  3.41076D+03\n",
      "\n",
      "At iterate   72    f=  2.18756D+06    |proj g|=  6.91641D+03\n",
      "\n",
      "At iterate   73    f=  2.17848D+06    |proj g|=  1.98043D+04\n",
      "\n",
      "At iterate   74    f=  2.16568D+06    |proj g|=  7.08754D+03\n",
      "\n",
      "At iterate   75    f=  2.15751D+06    |proj g|=  4.33155D+03\n",
      "\n",
      "At iterate   76    f=  2.14917D+06    |proj g|=  1.05510D+04\n",
      "\n",
      "At iterate   77    f=  2.14154D+06    |proj g|=  8.88701D+03\n",
      "\n",
      "At iterate   78    f=  2.13366D+06    |proj g|=  3.37165D+03\n",
      "\n",
      "At iterate   79    f=  2.12339D+06    |proj g|=  6.30291D+03\n",
      "\n",
      "At iterate   80    f=  2.11618D+06    |proj g|=  1.19088D+04\n",
      "\n",
      "At iterate   81    f=  2.10655D+06    |proj g|=  5.88454D+03\n",
      "\n",
      "At iterate   82    f=  2.09861D+06    |proj g|=  6.67490D+03\n",
      "\n",
      "At iterate   83    f=  2.09005D+06    |proj g|=  7.89970D+03\n",
      "\n",
      "At iterate   84    f=  2.08018D+06    |proj g|=  1.17622D+04\n",
      "\n",
      "At iterate   85    f=  2.07072D+06    |proj g|=  8.11923D+03\n",
      "\n",
      "At iterate   86    f=  2.06313D+06    |proj g|=  3.40807D+03\n",
      "\n",
      "At iterate   87    f=  2.05444D+06    |proj g|=  5.43064D+03\n",
      "\n",
      "At iterate   88    f=  2.04628D+06    |proj g|=  1.01510D+04\n",
      "\n",
      "At iterate   89    f=  2.03674D+06    |proj g|=  5.13262D+03\n",
      "\n",
      "At iterate   90    f=  2.03053D+06    |proj g|=  7.31381D+03\n",
      "\n",
      "At iterate   91    f=  2.02459D+06    |proj g|=  5.41802D+03\n",
      "\n",
      "At iterate   92    f=  2.01793D+06    |proj g|=  5.34838D+03\n",
      "\n",
      "At iterate   93    f=  2.01274D+06    |proj g|=  1.71273D+04\n",
      "\n",
      "At iterate   94    f=  1.99997D+06    |proj g|=  3.36887D+03\n",
      "\n",
      "At iterate   95    f=  1.99652D+06    |proj g|=  2.27890D+03\n",
      "\n",
      "At iterate   96    f=  1.98973D+06    |proj g|=  6.35801D+03\n",
      "\n",
      "At iterate   97    f=  1.98595D+06    |proj g|=  1.90478D+04\n",
      "\n",
      "At iterate   98    f=  1.97844D+06    |proj g|=  5.94323D+03\n",
      "\n",
      "At iterate   99    f=  1.97327D+06    |proj g|=  3.15793D+03\n",
      "\n",
      "At iterate  100    f=  1.96808D+06    |proj g|=  4.04977D+03\n",
      "\n",
      "At iterate  101    f=  1.96200D+06    |proj g|=  1.64376D+04\n",
      "\n",
      "At iterate  102    f=  1.95460D+06    |proj g|=  5.33874D+03\n",
      "\n",
      "At iterate  103    f=  1.94983D+06    |proj g|=  3.26869D+03\n",
      "\n",
      "At iterate  104    f=  1.94428D+06    |proj g|=  6.87070D+03\n",
      "\n",
      "At iterate  105    f=  1.94131D+06    |proj g|=  2.17459D+04\n",
      "\n",
      "At iterate  106    f=  1.93435D+06    |proj g|=  7.25005D+03\n",
      "\n",
      "At iterate  107    f=  1.92977D+06    |proj g|=  3.93238D+03\n",
      "\n",
      "At iterate  108    f=  1.92579D+06    |proj g|=  4.95967D+03\n",
      "\n",
      "At iterate  109    f=  1.91882D+06    |proj g|=  6.23374D+03\n",
      "\n",
      "At iterate  110    f=  1.91523D+06    |proj g|=  1.58951D+04\n",
      "\n",
      "At iterate  111    f=  1.90809D+06    |proj g|=  7.16045D+03\n",
      "\n",
      "At iterate  112    f=  1.90326D+06    |proj g|=  2.23254D+03\n",
      "\n",
      "At iterate  113    f=  1.89707D+06    |proj g|=  6.30258D+03\n",
      "\n",
      "At iterate  114    f=  1.89236D+06    |proj g|=  7.62135D+03\n",
      "\n",
      "At iterate  115    f=  1.88747D+06    |proj g|=  4.57442D+03\n",
      "\n",
      "At iterate  116    f=  1.88067D+06    |proj g|=  2.97795D+03\n",
      "\n",
      "At iterate  117    f=  1.87611D+06    |proj g|=  9.47086D+03\n",
      "\n",
      "At iterate  118    f=  1.87057D+06    |proj g|=  6.65588D+03\n",
      "\n",
      "At iterate  119    f=  1.86536D+06    |proj g|=  1.44093D+04\n",
      "\n",
      "At iterate  120    f=  1.85925D+06    |proj g|=  3.03961D+03\n",
      "\n",
      "At iterate  121    f=  1.85629D+06    |proj g|=  4.42715D+03\n",
      "\n",
      "At iterate  122    f=  1.84820D+06    |proj g|=  4.38630D+03\n",
      "\n",
      "At iterate  123    f=  1.84158D+06    |proj g|=  1.12480D+04\n",
      "\n",
      "At iterate  124    f=  1.83521D+06    |proj g|=  5.38919D+03\n",
      "\n",
      "At iterate  125    f=  1.83087D+06    |proj g|=  2.22200D+03\n",
      "\n",
      "At iterate  126    f=  1.82631D+06    |proj g|=  3.95837D+03\n",
      "\n",
      "At iterate  127    f=  1.82141D+06    |proj g|=  8.48562D+03\n",
      "\n",
      "At iterate  128    f=  1.81526D+06    |proj g|=  5.73886D+03\n",
      "\n",
      "At iterate  129    f=  1.81077D+06    |proj g|=  3.22096D+03\n",
      "\n",
      "At iterate  130    f=  1.80715D+06    |proj g|=  3.23019D+03\n",
      "\n",
      "At iterate  131    f=  1.80149D+06    |proj g|=  4.19037D+03\n",
      "\n",
      "At iterate  132    f=  1.79749D+06    |proj g|=  1.22485D+04\n",
      "\n",
      "At iterate  133    f=  1.79039D+06    |proj g|=  4.82820D+03\n",
      "\n",
      "At iterate  134    f=  1.78686D+06    |proj g|=  3.07025D+03\n",
      "\n",
      "At iterate  135    f=  1.78318D+06    |proj g|=  4.12506D+03\n",
      "\n",
      "At iterate  136    f=  1.77919D+06    |proj g|=  1.32690D+04\n",
      "\n",
      "At iterate  137    f=  1.77398D+06    |proj g|=  5.12748D+03\n",
      "\n",
      "At iterate  138    f=  1.77033D+06    |proj g|=  2.72981D+03\n",
      "\n",
      "At iterate  139    f=  1.76751D+06    |proj g|=  3.80031D+03\n",
      "\n",
      "At iterate  140    f=  1.76201D+06    |proj g|=  1.15655D+04\n",
      "\n",
      "At iterate  141    f=  1.75685D+06    |proj g|=  5.77175D+03\n",
      "\n",
      "At iterate  142    f=  1.75325D+06    |proj g|=  2.78187D+03\n",
      "\n",
      "At iterate  143    f=  1.74847D+06    |proj g|=  3.72793D+03\n",
      "\n",
      "At iterate  144    f=  1.74526D+06    |proj g|=  1.14151D+04\n",
      "\n",
      "At iterate  145    f=  1.74137D+06    |proj g|=  5.43874D+03\n",
      "\n",
      "At iterate  146    f=  1.73617D+06    |proj g|=  4.00665D+03\n",
      "\n",
      "At iterate  147    f=  1.73331D+06    |proj g|=  5.58885D+03\n",
      "\n",
      "At iterate  148    f=  1.72747D+06    |proj g|=  1.20584D+04\n",
      "\n",
      "At iterate  149    f=  1.72343D+06    |proj g|=  5.87039D+03\n",
      "\n",
      "At iterate  150    f=  1.72068D+06    |proj g|=  3.03334D+03\n",
      "\n",
      "At iterate  151    f=  1.71711D+06    |proj g|=  2.42995D+03\n",
      "\n",
      "At iterate  152    f=  1.71382D+06    |proj g|=  4.36941D+03\n",
      "\n",
      "At iterate  153    f=  1.70933D+06    |proj g|=  7.96846D+03\n",
      "\n",
      "At iterate  154    f=  1.70505D+06    |proj g|=  3.83796D+03\n",
      "\n",
      "At iterate  155    f=  1.70202D+06    |proj g|=  2.94444D+03\n",
      "\n",
      "At iterate  156    f=  1.69798D+06    |proj g|=  6.07686D+03\n",
      "\n",
      "At iterate  157    f=  1.69490D+06    |proj g|=  8.05755D+03\n",
      "\n",
      "At iterate  158    f=  1.69131D+06    |proj g|=  4.72968D+03\n",
      "\n",
      "At iterate  159    f=  1.68689D+06    |proj g|=  3.03794D+03\n",
      "\n",
      "At iterate  160    f=  1.68392D+06    |proj g|=  5.94869D+03\n",
      "\n",
      "At iterate  161    f=  1.67946D+06    |proj g|=  9.95991D+03\n",
      "\n",
      "At iterate  162    f=  1.67533D+06    |proj g|=  4.67760D+03\n",
      "\n",
      "At iterate  163    f=  1.67262D+06    |proj g|=  4.65579D+03\n",
      "\n",
      "At iterate  164    f=  1.66843D+06    |proj g|=  4.85927D+03\n",
      "\n",
      "At iterate  165    f=  1.66645D+06    |proj g|=  1.73510D+04\n",
      "\n",
      "At iterate  166    f=  1.66099D+06    |proj g|=  3.84713D+03\n",
      "\n",
      "At iterate  167    f=  1.65852D+06    |proj g|=  2.15050D+03\n",
      "\n",
      "At iterate  168    f=  1.65513D+06    |proj g|=  4.06189D+03\n",
      "\n",
      "At iterate  169    f=  1.65026D+06    |proj g|=  4.82456D+03\n",
      "\n",
      "At iterate  170    f=  1.64795D+06    |proj g|=  1.56298D+04\n",
      "\n",
      "At iterate  171    f=  1.64323D+06    |proj g|=  2.46631D+03\n",
      "\n",
      "At iterate  172    f=  1.64136D+06    |proj g|=  2.77298D+03\n",
      "\n",
      "At iterate  173    f=  1.63813D+06    |proj g|=  6.07068D+03\n",
      "\n",
      "At iterate  174    f=  1.63543D+06    |proj g|=  1.38390D+04\n",
      "\n",
      "At iterate  175    f=  1.63103D+06    |proj g|=  4.97582D+03\n",
      "\n",
      "At iterate  176    f=  1.62803D+06    |proj g|=  2.70283D+03\n",
      "\n",
      "At iterate  177    f=  1.62551D+06    |proj g|=  4.31005D+03\n",
      "\n",
      "At iterate  178    f=  1.62136D+06    |proj g|=  7.98950D+03\n",
      "\n",
      "At iterate  179    f=  1.61810D+06    |proj g|=  9.18350D+03\n",
      "\n",
      "At iterate  180    f=  1.61485D+06    |proj g|=  3.49723D+03\n",
      "\n",
      "At iterate  181    f=  1.61200D+06    |proj g|=  3.60645D+03\n",
      "\n",
      "At iterate  182    f=  1.60926D+06    |proj g|=  4.24662D+03\n",
      "\n",
      "At iterate  183    f=  1.60611D+06    |proj g|=  1.36193D+04\n",
      "\n",
      "At iterate  184    f=  1.60139D+06    |proj g|=  4.21346D+03\n",
      "\n",
      "At iterate  185    f=  1.59826D+06    |proj g|=  2.40222D+03\n",
      "\n",
      "At iterate  186    f=  1.59396D+06    |proj g|=  5.57928D+03\n",
      "\n",
      "At iterate  187    f=  1.59225D+06    |proj g|=  1.29684D+04\n",
      "\n",
      "At iterate  188    f=  1.58870D+06    |proj g|=  4.04029D+03\n",
      "\n",
      "At iterate  189    f=  1.58631D+06    |proj g|=  3.16307D+03\n",
      "\n",
      "At iterate  190    f=  1.58384D+06    |proj g|=  5.13206D+03\n",
      "\n",
      "At iterate  191    f=  1.57924D+06    |proj g|=  5.76133D+03\n",
      "\n",
      "At iterate  192    f=  1.57644D+06    |proj g|=  1.08971D+04\n",
      "\n",
      "At iterate  193    f=  1.57144D+06    |proj g|=  4.27872D+03\n",
      "\n",
      "At iterate  194    f=  1.56759D+06    |proj g|=  4.30121D+03\n",
      "\n",
      "At iterate  195    f=  1.56361D+06    |proj g|=  5.98237D+03\n",
      "\n",
      "At iterate  196    f=  1.56024D+06    |proj g|=  4.13366D+03\n",
      "\n",
      "At iterate  197    f=  1.55651D+06    |proj g|=  7.57600D+03\n",
      "\n",
      "At iterate  198    f=  1.55351D+06    |proj g|=  6.37953D+03\n",
      "\n",
      "At iterate  199    f=  1.55127D+06    |proj g|=  3.92715D+03\n",
      "\n",
      "At iterate  200    f=  1.54752D+06    |proj g|=  3.25386D+03\n",
      "\n",
      "           * * *\n",
      "\n",
      "Tit   = total number of iterations\n",
      "Tnf   = total number of function evaluations\n",
      "Tnint = total number of segments explored during Cauchy searches\n",
      "Skip  = number of BFGS updates skipped\n",
      "Nact  = number of active bounds at final generalized Cauchy point\n",
      "Projg = norm of the final projected gradient\n",
      "F     = final function value\n",
      "\n",
      "           * * *\n",
      "\n",
      "   N    Tit     Tnf  Tnint  Skip  Nact     Projg        F\n",
      "*****    200    207      1     0     0   3.254D+03   1.548D+06\n",
      "  F =   1547520.2524719574     \n",
      "\n",
      "STOP: TOTAL NO. of ITERATIONS REACHED LIMIT                 \n",
      "\n",
      "Is the minimization successful? False\n",
      "\n",
      "Final cost function value: 1547520.2524719574\n",
      "\n",
      "Number of iterations: 200\n",
      "\n",
      "*** Saving trajectory ***\n",
      "\n",
      "\n"
     ]
    }
   ],
   "source": [
    "from src import inv as inv\n",
    "inv.Inv(config,State,Model,dict_obs=dict_obs,Obsop=Obsop,Basis=Basis,Bc=Bc)"
   ]
  },
  {
   "cell_type": "markdown",
   "metadata": {},
   "source": [
    "## Diagnostics"
   ]
  },
  {
   "cell_type": "code",
   "execution_count": 6,
   "metadata": {
    "execution": {
     "iopub.execute_input": "2023-02-09T00:05:44.168401Z",
     "iopub.status.busy": "2023-02-09T00:05:44.168053Z",
     "iopub.status.idle": "2023-02-09T00:05:51.919048Z",
     "shell.execute_reply": "2023-02-09T00:05:51.917857Z"
    }
   },
   "outputs": [
    {
     "name": "stdout",
     "output_type": "stream",
     "text": [
      "super: DIAG_OSSE\n",
      "dir_output: diags/2020a_4DVARId\n",
      "time_min: 2012-10-22 00:00:00\n",
      "time_max: 2012-12-04 00:00:00\n",
      "lon_min: None\n",
      "lon_max: None\n",
      "lat_min: None\n",
      "lat_max: None\n",
      "name_ref: data/dc_ref/NATL60-CJM165_GULFSTREAM*.nc\n",
      "name_ref_time: time\n",
      "name_ref_lon: lon\n",
      "name_ref_lat: lat\n",
      "name_ref_var: sossheig\n",
      "options_ref: {'combine': 'nested', 'concat_dim': 'time', 'parallel': True}\n",
      "name_exp_var: ssh\n",
      "compare_to_baseline: True\n",
      "name_bas: data/2020a_SSH_mapping_NATL60_DUACS_en_j1_tpn_g2.nc\n",
      "name_bas_time: time\n",
      "name_bas_lon: lon\n",
      "name_bas_lat: lat\n",
      "name_bas_var: gssh\n",
      "\n"
     ]
    }
   ],
   "source": [
    "from src import diag as diag\n",
    "Diag = diag.Diag(config,State)"
   ]
  },
  {
   "cell_type": "code",
   "execution_count": 7,
   "metadata": {
    "execution": {
     "iopub.execute_input": "2023-02-09T00:05:51.923534Z",
     "iopub.status.busy": "2023-02-09T00:05:51.923189Z",
     "iopub.status.idle": "2023-02-09T00:06:14.207162Z",
     "shell.execute_reply": "2023-02-09T00:06:14.205937Z"
    }
   },
   "outputs": [],
   "source": [
    "Diag.regrid_exp()"
   ]
  },
  {
   "cell_type": "code",
   "execution_count": 9,
   "metadata": {
    "execution": {
     "iopub.execute_input": "2023-02-09T00:06:14.211852Z",
     "iopub.status.busy": "2023-02-09T00:06:14.211497Z",
     "iopub.status.idle": "2023-02-09T00:06:31.405537Z",
     "shell.execute_reply": "2023-02-09T00:06:31.404296Z"
    }
   },
   "outputs": [],
   "source": [
    "Diag.rmse_based_scores(plot=True)"
   ]
  },
  {
   "cell_type": "code",
   "execution_count": 14,
   "metadata": {
    "execution": {
     "iopub.execute_input": "2023-02-09T00:06:31.413231Z",
     "iopub.status.busy": "2023-02-09T00:06:31.412419Z",
     "iopub.status.idle": "2023-02-09T00:07:00.262375Z",
     "shell.execute_reply": "2023-02-09T00:07:00.261144Z"
    }
   },
   "outputs": [
    {
     "name": "stderr",
     "output_type": "stream",
     "text": [
      "/home/fleguillou/anaconda3/envs/massh/lib/python3.10/site-packages/xrft/xrft.py:47: FutureWarning: Please provide the name of window adhering to scipy.signal.windows. The boolean option will be deprecated in future releases.\n",
      "  warnings.warn(\n",
      "/home/fleguillou/anaconda3/envs/massh/lib/python3.10/site-packages/xrft/xrft.py:47: FutureWarning: Please provide the name of window adhering to scipy.signal.windows. The boolean option will be deprecated in future releases.\n",
      "  warnings.warn(\n",
      "/home/fleguillou/anaconda3/envs/massh/lib/python3.10/site-packages/xrft/xrft.py:47: FutureWarning: Please provide the name of window adhering to scipy.signal.windows. The boolean option will be deprecated in future releases.\n",
      "  warnings.warn(\n"
     ]
    },
    {
     "data": {
      "image/png": "[encoded data removed]",
      "text/plain": [
       "<Figure size 2000x500 with 4 Axes>"
      ]
     },
     "metadata": {},
     "output_type": "display_data"
    }
   ],
   "source": [
    "Diag.psd_based_scores(plot=True)"
   ]
  },
  {
   "cell_type": "code",
   "execution_count": 10,
   "metadata": {
    "execution": {
     "iopub.execute_input": "2023-02-09T00:07:00.267371Z",
     "iopub.status.busy": "2023-02-09T00:07:00.267014Z",
     "iopub.status.idle": "2023-02-09T00:14:50.088066Z",
     "shell.execute_reply": "2023-02-09T00:14:50.086932Z"
    }
   },
   "outputs": [
    {
     "name": "stdout",
     "output_type": "stream",
     "text": [
      "ffmpeg -f image2 -r 12 -pattern_type glob -i diags/2020a_4DVARId/frame_*.png -y -c:v libx264 -preset veryslow -crf 15 -pix_fmt yuv420p -r 12 diags/2020a_4DVARId/movie.mp4\n"
     ]
    },
    {
     "name": "stderr",
     "output_type": "stream",
     "text": [
      "ffmpeg version 4.3.2 Copyright (c) 2000-2021 the FFmpeg developers\n",
      "  built with gcc 10.3.0 (GCC)\n",
      "  configuration: --prefix=/home/fleguillou/anaconda3/envs/env-plot --cc=/home/conda/feedstock_root/build_artifacts/ffmpeg_1645955405450/_build_env/bin/x86_64-conda-linux-gnu-cc --disable-doc --disable-openssl --enable-avresample --enable-gnutls --enable-gpl --enable-hardcoded-tables --enable-libfreetype --enable-libopenh264 --enable-libx264 --enable-pic --enable-pthreads --enable-shared --disable-static --enable-version3 --enable-zlib --enable-libmp3lame --pkg-config=/home/conda/feedstock_root/build_artifacts/ffmpeg_1645955405450/_build_env/bin/pkg-config\n",
      "  libavutil      56. 51.100 / 56. 51.100\n",
      "  libavcodec     58. 91.100 / 58. 91.100\n",
      "  libavformat    58. 45.100 / 58. 45.100\n",
      "  libavdevice    58. 10.100 / 58. 10.100\n",
      "  libavfilter     7. 85.100 /  7. 85.100\n",
      "  libavresample   4.  0.  0 /  4.  0.  0\n",
      "  libswscale      5.  7.100 /  5.  7.100\n",
      "  libswresample   3.  7.100 /  3.  7.100\n",
      "  libpostproc    55.  7.100 / 55.  7.100\n",
      "Input #0, image2, from 'diags/2020a_4DVARId/frame_*.png':\n",
      "  Duration: 00:00:14.25, start: 0.000000, bitrate: N/A\n",
      "    Stream #0:0: Video: png, rgba(pc), 1800x1500 [SAR 3937:3937 DAR 6:5], 12 fps, 12 tbr, 12 tbn, 12 tbc\n",
      "Stream mapping:\n",
      "  Stream #0:0 -> #0:0 (png (native) -> h264 (libx264))\n",
      "Press [q] to stop, [?] for help\n",
      "[libx264 @ 0x5621b00ef2c0] using SAR=1/1\n",
      "[libx264 @ 0x5621b00ef2c0] using cpu capabilities: MMX2 SSE2Fast SSSE3 SSE4.2 AVX\n",
      "[libx264 @ 0x5621b00ef2c0] profile High, level 5.1, 4:2:0, 8-bit\n",
      "[libx264 @ 0x5621b00ef2c0] 264 - core 161 r3030M 8bd6d28 - H.264/MPEG-4 AVC codec - Copyleft 2003-2020 - http://www.videolan.org/x264.html - options: cabac=1 ref=16 deblock=1:0:0 analyse=0x3:0x133 me=umh subme=10 psy=1 psy_rd=1.00:0.00 mixed_ref=1 me_range=24 chroma_me=1 trellis=2 8x8dct=1 cqm=0 deadzone=21,11 fast_pskip=1 chroma_qp_offset=-2 threads=24 lookahead_threads=4 sliced_threads=0 nr=0 decimate=1 interlaced=0 bluray_compat=0 constrained_intra=0 bframes=8 b_pyramid=2 b_adapt=2 b_bias=0 direct=3 weightb=1 open_gop=0 weightp=2 keyint=250 keyint_min=12 scenecut=40 intra_refresh=0 rc_lookahead=60 rc=crf mbtree=1 crf=15.0 qcomp=0.60 qpmin=0 qpmax=69 qpstep=4 ip_ratio=1.40 aq=1:1.00\n",
      "Output #0, mp4, to 'diags/2020a_4DVARId/movie.mp4':\n",
      "  Metadata:\n",
      "    encoder         : Lavf58.45.100\n",
      "    Stream #0:0: Video: h264 (libx264) (avc1 / 0x31637661), yuv420p, 1800x1500 [SAR 1:1 DAR 6:5], q=-1--1, 12 fps, 12288 tbn, 12 tbc\n",
      "    Metadata:\n",
      "      encoder         : Lavc58.91.100 libx264\n",
      "    Side data:\n",
      "      cpb: bitrate max/min/avg: 0/0/0 buffer size: 0 vbv_delay: N/A\n",
      "frame=  171 fps=9.8 q=-1.0 Lsize=    2891kB time=00:00:14.00 bitrate=1691.9kbits/s speed=0.804x    \n",
      "video:2889kB audio:0kB subtitle:0kB other streams:0kB global headers:0kB muxing overhead: 0.082781%\n",
      "[libx264 @ 0x5621b00ef2c0] frame I:1     Avg QP: 8.78  size: 99308\n",
      "[libx264 @ 0x5621b00ef2c0] frame P:27    Avg QP:11.55  size: 43193\n",
      "[libx264 @ 0x5621b00ef2c0] frame B:143   Avg QP:16.67  size: 11834\n",
      "[libx264 @ 0x5621b00ef2c0] consecutive B-frames:  0.6%  0.0%  0.0%  2.3% 14.6% 45.6% 12.3% 14.0% 10.5%\n",
      "[libx264 @ 0x5621b00ef2c0] mb I  I16..4: 40.1% 48.9% 11.1%\n",
      "[libx264 @ 0x5621b00ef2c0] mb P  I16..4:  0.4%  3.9%  1.0%  P16..4:  5.1%  6.8%  9.1%  0.7%  0.1%    skip:72.7%\n",
      "[libx264 @ 0x5621b00ef2c0] mb B  I16..4:  0.0%  0.3%  0.1%  B16..8:  6.8%  4.9%  3.1%  direct: 2.0%  skip:82.9%  L0:42.7% L1:36.4% BI:21.0%\n",
      "[libx264 @ 0x5621b00ef2c0] 8x8 transform intra:66.2% inter:48.3%\n",
      "[libx264 @ 0x5621b00ef2c0] direct mvs  spatial:90.9% temporal:9.1%\n",
      "[libx264 @ 0x5621b00ef2c0] coded y,uvDC,uvAC intra: 63.7% 71.6% 67.8% inter: 6.1% 5.0% 1.7%\n",
      "[libx264 @ 0x5621b00ef2c0] i16 v,h,dc,p: 72% 19%  2%  6%\n",
      "[libx264 @ 0x5621b00ef2c0] i8 v,h,dc,ddl,ddr,vr,hd,vl,hu: 19% 25% 17%  4%  6%  5%  8%  6% 10%\n",
      "[libx264 @ 0x5621b00ef2c0] i4 v,h,dc,ddl,ddr,vr,hd,vl,hu: 15% 19% 11%  6% 12%  9% 12%  6%  9%\n",
      "[libx264 @ 0x5621b00ef2c0] i8c dc,h,v,p: 50% 27% 10% 13%\n",
      "[libx264 @ 0x5621b00ef2c0] Weighted P-Frames: Y:0.0% UV:0.0%\n",
      "[libx264 @ 0x5621b00ef2c0] ref P L0: 49.1%  5.4% 12.8%  5.1%  4.3%  3.4%  3.0%  2.3%  2.1%  2.0%  1.9%  1.9%  1.8%  1.8%  1.7%  1.5%\n",
      "[libx264 @ 0x5621b00ef2c0] ref B L0: 78.0%  9.2%  3.6%  1.8%  1.3%  1.1%  1.0%  0.7%  0.6%  0.6%  0.6%  0.6%  0.6%  0.4%  0.2%\n",
      "[libx264 @ 0x5621b00ef2c0] ref B L1: 95.9%  4.1%\n",
      "[libx264 @ 0x5621b00ef2c0] kb/s:1660.47\n"
     ]
    }
   ],
   "source": [
    "Diag.movie(framerate=12)"
   ]
  },
  {
   "cell_type": "code",
   "execution_count": 11,
   "metadata": {
    "execution": {
     "iopub.execute_input": "2023-02-09T00:14:50.092332Z",
     "iopub.status.busy": "2023-02-09T00:14:50.091865Z",
     "iopub.status.idle": "2023-02-09T00:14:50.233029Z",
     "shell.execute_reply": "2023-02-09T00:14:50.231891Z"
    }
   },
   "outputs": [
    {
     "data": {
      "text/html": [
       "<video src=\"diags/2020a_4DVARId/movie.mp4\" controls  >\n",
       "      Your browser does not support the <code>video</code> element.\n",
       "    </video>"
      ],
      "text/plain": [
       "<IPython.core.display.Video object>"
      ]
     },
     "execution_count": 11,
     "metadata": {},
     "output_type": "execute_result"
    }
   ],
   "source": [
    "import os\n",
    "from IPython.display import Video\n",
    "Video(os.path.join(Diag.dir_output, 'movie.mp4'))"
   ]
  },
  {
   "cell_type": "code",
   "execution_count": 17,
   "metadata": {
    "execution": {
     "iopub.execute_input": "2023-02-09T00:14:50.237162Z",
     "iopub.status.busy": "2023-02-09T00:14:50.236806Z",
     "iopub.status.idle": "2023-02-09T00:14:50.254458Z",
     "shell.execute_reply": "2023-02-09T00:14:50.253379Z"
    }
   },
   "outputs": [
    {
     "data": {
      "text/html": [
       "<div>\n",
       "<style scoped>\n",
       "    .dataframe tbody tr th:only-of-type {\n",
       "        vertical-align: middle;\n",
       "    }\n",
       "\n",
       "    .dataframe tbody tr th {\n",
       "        vertical-align: top;\n",
       "    }\n",
       "\n",
       "    .dataframe thead th {\n",
       "        text-align: right;\n",
       "    }\n",
       "</style>\n",
       "<table border=\"1\" class=\"dataframe\">\n",
       "  <thead>\n",
       "    <tr style=\"text-align: right;\">\n",
       "      <th></th>\n",
       "      <th>Method</th>\n",
       "      <th>µ(RMSE)</th>\n",
       "      <th>σ(RMSE)</th>\n",
       "      <th>λx (degree)</th>\n",
       "      <th>λt (days)</th>\n",
       "    </tr>\n",
       "  </thead>\n",
       "  <tbody>\n",
       "    <tr>\n",
       "      <th>0</th>\n",
       "      <td>2020a_4DVARId</td>\n",
       "      <td>0.91</td>\n",
       "      <td>0.01</td>\n",
       "      <td>1.63</td>\n",
       "      <td>11.13</td>\n",
       "    </tr>\n",
       "    <tr>\n",
       "      <th>1</th>\n",
       "      <td>baseline</td>\n",
       "      <td>0.92</td>\n",
       "      <td>0.01</td>\n",
       "      <td>1.43</td>\n",
       "      <td>12.18</td>\n",
       "    </tr>\n",
       "  </tbody>\n",
       "</table>\n",
       "</div>"
      ],
      "text/plain": [
       "          Method  µ(RMSE)   σ(RMSE)  λx (degree)  λt (days)\n",
       "0  2020a_4DVARId      0.91     0.01         1.63      11.13\n",
       "1       baseline      0.92     0.01         1.43      12.18"
      ]
     },
     "execution_count": 17,
     "metadata": {},
     "output_type": "execute_result"
    }
   ],
   "source": [
    "Leaderboard = Diag.Leaderboard()\n",
    "Leaderboard"
   ]
  },
  {
   "cell_type": "code",
   "execution_count": null,
   "metadata": {},
   "outputs": [],
   "source": []
  }
 ],
 "metadata": {
  "kernelspec": {
   "display_name": "Python 3.10.4 ('env-plot': conda)",
   "language": "python",
   "name": "python3"
  },
  "language_info": {
   "codemirror_mode": {
    "name": "ipython",
    "version": 3
   },
   "file_extension": ".py",
   "mimetype": "text/x-python",
   "name": "python",
   "nbconvert_exporter": "python",
   "pygments_lexer": "ipython3",
   "version": "3.10.4"
  },
  "vscode": {
   "interpreter": {
    "hash": "78b767bc73e83775d284238556dee940a86bc4d5d535f6dfd44ceeea93cd0788"
   }
  }
 },
 "nbformat": 4,
 "nbformat_minor": 4
}
