{
 "cells": [
  {
   "attachments": {},
   "cell_type": "markdown",
   "metadata": {},
   "source": [
    "# 2021a_BFNQG\n",
    "This notebook, associated to the configuration file *config_2021a_BFNQG.py* runs a BFN-QG experiment to map SSH from real nadir data"
   ]
  },
  {
   "cell_type": "markdown",
   "metadata": {},
   "source": [
    "## Configuration file"
   ]
  },
  {
   "cell_type": "code",
   "execution_count": null,
   "metadata": {
    "execution": {
     "iopub.execute_input": "2023-02-08T15:56:38.881378Z",
     "iopub.status.busy": "2023-02-08T15:56:38.880995Z",
     "iopub.status.idle": "2023-02-08T15:56:38.890338Z",
     "shell.execute_reply": "2023-02-08T15:56:38.889249Z"
    }
   },
   "outputs": [],
   "source": [
    "path_config = 'config_2021a_BFNQG'"
   ]
  },
  {
   "cell_type": "code",
   "execution_count": null,
   "metadata": {
    "execution": {
     "iopub.execute_input": "2023-02-08T15:56:38.894363Z",
     "iopub.status.busy": "2023-02-08T15:56:38.894006Z",
     "iopub.status.idle": "2023-02-08T15:56:38.898651Z",
     "shell.execute_reply": "2023-02-08T15:56:38.897619Z"
    }
   },
   "outputs": [],
   "source": [
    "import sys\n",
    "sys.path.append('../..')"
   ]
  },
  {
   "cell_type": "code",
   "execution_count": null,
   "metadata": {
    "execution": {
     "iopub.execute_input": "2023-02-08T15:56:38.902590Z",
     "iopub.status.busy": "2023-02-08T15:56:38.902223Z",
     "iopub.status.idle": "2023-02-08T15:56:38.918073Z",
     "shell.execute_reply": "2023-02-08T15:56:38.916872Z"
    }
   },
   "outputs": [],
   "source": [
    "from src import exp\n",
    "config = exp.Exp(path_config)"
   ]
  },
  {
   "cell_type": "markdown",
   "metadata": {},
   "source": [
    "## State"
   ]
  },
  {
   "cell_type": "code",
   "execution_count": null,
   "metadata": {
    "execution": {
     "iopub.execute_input": "2023-02-08T15:56:38.952899Z",
     "iopub.status.busy": "2023-02-08T15:56:38.952505Z",
     "iopub.status.idle": "2023-02-08T15:56:40.290584Z",
     "shell.execute_reply": "2023-02-08T15:56:40.289213Z"
    }
   },
   "outputs": [],
   "source": [
    "from src import state as state\n",
    "State = state.State(config)\n"
   ]
  },
  {
   "cell_type": "markdown",
   "metadata": {},
   "source": [
    "## Observations"
   ]
  },
  {
   "cell_type": "code",
   "execution_count": null,
   "metadata": {
    "execution": {
     "iopub.execute_input": "2023-02-08T15:56:40.295119Z",
     "iopub.status.busy": "2023-02-08T15:56:40.294476Z",
     "iopub.status.idle": "2023-02-08T15:56:46.835603Z",
     "shell.execute_reply": "2023-02-08T15:56:46.834203Z"
    }
   },
   "outputs": [],
   "source": [
    "from src import obs as obs\n",
    "dict_obs = obs.Obs(config,State)"
   ]
  },
  {
   "cell_type": "markdown",
   "metadata": {},
   "source": [
    "## Model"
   ]
  },
  {
   "cell_type": "code",
   "execution_count": null,
   "metadata": {
    "execution": {
     "iopub.execute_input": "2023-02-08T15:56:46.840719Z",
     "iopub.status.busy": "2023-02-08T15:56:46.840337Z",
     "iopub.status.idle": "2023-02-08T15:56:47.452793Z",
     "shell.execute_reply": "2023-02-08T15:56:47.451650Z"
    }
   },
   "outputs": [],
   "source": [
    "from src import mod as mod\n",
    "Model = mod.Model(config,State)"
   ]
  },
  {
   "cell_type": "markdown",
   "metadata": {},
   "source": [
    "## Boundary conditions"
   ]
  },
  {
   "cell_type": "code",
   "execution_count": null,
   "metadata": {
    "execution": {
     "iopub.execute_input": "2023-02-08T15:56:47.457683Z",
     "iopub.status.busy": "2023-02-08T15:56:47.456847Z",
     "iopub.status.idle": "2023-02-08T15:56:47.589852Z",
     "shell.execute_reply": "2023-02-08T15:56:47.588581Z"
    }
   },
   "outputs": [],
   "source": [
    "from src import bc as bc\n",
    "Bc = bc.Bc(config)"
   ]
  },
  {
   "cell_type": "markdown",
   "metadata": {},
   "source": [
    "## Inversion"
   ]
  },
  {
   "cell_type": "code",
   "execution_count": null,
   "metadata": {
    "execution": {
     "iopub.execute_input": "2023-02-08T15:56:47.594724Z",
     "iopub.status.busy": "2023-02-08T15:56:47.593798Z",
     "iopub.status.idle": "2023-02-08T20:25:15.626705Z",
     "shell.execute_reply": "2023-02-08T20:25:15.625454Z"
    }
   },
   "outputs": [],
   "source": [
    "from src import inv as inv\n",
    "inv.Inv(config,State,Model,dict_obs=dict_obs,Bc=Bc)"
   ]
  },
  {
   "cell_type": "markdown",
   "metadata": {},
   "source": [
    "## Diagnostics"
   ]
  },
  {
   "cell_type": "code",
   "execution_count": null,
   "metadata": {
    "execution": {
     "iopub.execute_input": "2023-02-08T20:25:15.631883Z",
     "iopub.status.busy": "2023-02-08T20:25:15.631509Z",
     "iopub.status.idle": "2023-02-08T20:25:25.999941Z",
     "shell.execute_reply": "2023-02-08T20:25:25.998810Z"
    }
   },
   "outputs": [],
   "source": [
    "from src import diag as diag\n",
    "Diag = diag.Diag(config,State)"
   ]
  },
  {
   "cell_type": "code",
   "execution_count": null,
   "metadata": {},
   "outputs": [],
   "source": []
  }
 ],
 "metadata": {
  "kernelspec": {
   "display_name": "massh",
   "language": "python",
   "name": "python3"
  },
  "language_info": {
   "codemirror_mode": {
    "name": "ipython",
    "version": 3
   },
   "file_extension": ".py",
   "mimetype": "text/x-python",
   "name": "python",
   "nbconvert_exporter": "python",
   "pygments_lexer": "ipython3",
   "version": "3.10.9"
  },
  "vscode": {
   "interpreter": {
    "hash": "984563e4ffd3f593bcb1e9a3d9bd9585f0a60902c24eb7a5e718c1ebf267e079"
   }
  }
 },
 "nbformat": 4,
 "nbformat_minor": 4
}
